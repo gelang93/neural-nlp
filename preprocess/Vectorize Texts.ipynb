{
 "cells": [
  {
   "cell_type": "code",
   "execution_count": 1,
   "metadata": {
    "collapsed": true
   },
   "outputs": [],
   "source": [
    "import pandas as pd\n",
    "df = pd.read_csv('study_inclusion.csv', index_col=0)"
   ]
  },
  {
   "cell_type": "code",
   "execution_count": 2,
   "metadata": {},
   "outputs": [
    {
     "data": {
      "text/plain": [
       "Index([u'abstract', u'cdno', u'population', u'intervention', u'outcome'], dtype='object')"
      ]
     },
     "execution_count": 2,
     "metadata": {},
     "output_type": "execute_result"
    }
   ],
   "source": [
    "df.columns"
   ]
  },
  {
   "cell_type": "code",
   "execution_count": 3,
   "metadata": {},
   "outputs": [
    {
     "name": "stdout",
     "output_type": "stream",
     "text": [
      "Number of children: 10 Inclusion criteria: adolescents (puberty stage at least 2, at least 12 years)  Exclusion criteria: treatment in previous 2 weeks, daytime wetting, UTI, urinary tract abnormalities  Previous treatment: failed using alarms, desmopressin, other drugs Age range 11-21, median 13 years Baseline wetting 4.7 (SD 1.1) wet nights/week Department of Paediatric Surgery, SwedenA (14): amitriptyline hydrochloride (25 mg or 50 mg) B (17): desmopressin (20 g) intranasally C (14): DDAVP and amitriptyline Duration of treatment: 16 weeks Follow up 12 weeksMean (SD) number of wet nights per week: A:3.3 (1.9), B:4.7 (1.7), C:3.3 (2.5) Number attaining cure: A:3, B:1, C:5 7 out of 8 children who were cured relapsed. The exception was treated with amitriptyline and DDAVP Follow up: mean (SD) number of wet nights per week: A:(n=10) 3.9 (2.9), B:(n=5) 3.8 (1.9), C:(n=8) 5.1 (3.2) Side effects: none reported Most parents said all the drugs were easy to use\n"
     ]
    },
    {
     "data": {
      "text/plain": [
       "\"In recent years the treatment of primary nocturnal enuresis (PNE) with desmopressin (DDAVP) has been promising. The route of administration until now had been intranasal, but because the tablets were introduced for the treatment of diabetes insipidus they have also become available for the treatment of PNE. \\n                 To find the optimal dosage of desmopressin tablets and to compare desmopressin's efficacy with placebo in a group of adolescents with severe monosymptomatic enuresis. The long-term safety of desmopressin was also studied in the same group of patients. \\n                 The effect of oral desmopressin (1-deamino-8-D-arginine-vasopressin) (DDAVP tablets, Minirin) was investigated in 25 adolescents (ages 11 to 21 years) with severe monosymptomatic nocturnal enuresis. The first part of the dose-ranging study comprised a single-blind dose titration period, followed by a double-blind, crossover efficacy period comparing desmopressin with placebo. The final part was an open long-term study consisting of two 12-week treatment periods. The efficacy of the drug was measured in reductions of the number of wet nights per week. \\n                 During the first dose-titration period, the majority of the patients were given desmopressin 400 micrograms, and the number of wet nights decreased from a mean of 4.9 to 2.8. During the double-blind period, a significant reduction of wet nights was observed (1.8 vs 4.1 for placebo). During the two long-term periods, 48% and 53% of the patients could be classified as responders (0 to 1 wet night per week) and 22% and 23.5% as intermediate responders (2 to 3 wet nights per week). No weight gain was observed due to water retention. After cessation of the drug, 44% of the patients had a significant decrease in the number of wet nights. \\n                 Oral desmopressin has a clinically significant effect on patients with PNE, and therapy is safe when administered as long-term treatment.\""
      ]
     },
     "execution_count": 3,
     "metadata": {},
     "output_type": "execute_result"
    }
   ],
   "source": [
    "print df.iloc[0]['population'] + df.iloc[2]['intervention'] + df.iloc[2]['outcome']\n",
    "df.iloc[0]['abstract']"
   ]
  },
  {
   "cell_type": "code",
   "execution_count": 6,
   "metadata": {
    "collapsed": true
   },
   "outputs": [],
   "source": [
    "fields = ['abstract', 'population', 'intervention', 'outcome']"
   ]
  },
  {
   "cell_type": "code",
   "execution_count": 7,
   "metadata": {},
   "outputs": [],
   "source": [
    "texts = []\n",
    "index = {}\n",
    "for f in fields :\n",
    "    text = list(df[f])\n",
    "    orig_len =len(texts)\n",
    "    texts += text\n",
    "    index[f] = (orig_len, len(texts))"
   ]
  },
  {
   "cell_type": "code",
   "execution_count": 10,
   "metadata": {},
   "outputs": [
    {
     "data": {
      "text/plain": [
       "41784"
      ]
     },
     "execution_count": 10,
     "metadata": {},
     "output_type": "execute_result"
    }
   ],
   "source": [
    "len(texts[index['abstract'][0]:index['abstract'][1]])"
   ]
  },
  {
   "cell_type": "code",
   "execution_count": 11,
   "metadata": {},
   "outputs": [
    {
     "name": "stderr",
     "output_type": "stream",
     "text": [
      "Using TensorFlow backend.\n"
     ]
    },
    {
     "name": "stdout",
     "output_type": "stream",
     "text": [
      "[]\n"
     ]
    }
   ],
   "source": [
    "import vectorizer"
   ]
  },
  {
   "cell_type": "code",
   "execution_count": 12,
   "metadata": {
    "collapsed": true
   },
   "outputs": [],
   "source": [
    "num_words = 2500\n",
    "vec = vectorizer.Vectorizer(min_df=5)\n",
    "vec.fit(texts[index['abstract'][0]:index['abstract'][1]])"
   ]
  },
  {
   "cell_type": "code",
   "execution_count": 13,
   "metadata": {},
   "outputs": [
    {
     "data": {
      "text/plain": [
       "19995"
      ]
     },
     "execution_count": 13,
     "metadata": {},
     "output_type": "execute_result"
    }
   ],
   "source": [
    "len(vec.word2idx)"
   ]
  },
  {
   "cell_type": "code",
   "execution_count": 14,
   "metadata": {
    "collapsed": true
   },
   "outputs": [],
   "source": [
    "vec.texts_to_sequences(texts)\n",
    "vec.index = index"
   ]
  },
  {
   "cell_type": "code",
   "execution_count": 15,
   "metadata": {
    "collapsed": true
   },
   "outputs": [],
   "source": [
    "from gensim.models import KeyedVectors\n",
    "model = KeyedVectors.load_word2vec_format('../wikipedia-pubmed-and-PMC-w2v.bin', binary=True)"
   ]
  },
  {
   "cell_type": "code",
   "execution_count": 16,
   "metadata": {},
   "outputs": [
    {
     "name": "stdout",
     "output_type": "stream",
     "text": [
      "Found 19296 words in pubmed out of 19995\n"
     ]
    },
    {
     "data": {
      "text/plain": [
       "array([[-0.15154763, -0.01764453,  0.49515179, ..., -0.00970677,\n",
       "         0.23572783,  0.07556216],\n",
       "       [ 0.31490654,  0.04134538,  0.08921666, ..., -0.14584929,\n",
       "        -0.02504679,  0.21906164],\n",
       "       [ 1.76405235,  0.40015721,  0.97873798, ...,  0.82350415,\n",
       "         2.16323595,  1.33652795],\n",
       "       ..., \n",
       "       [ 0.11116003,  0.13776016,  0.58512306, ...,  0.24553064,\n",
       "         0.39841273,  0.00418684],\n",
       "       [ 0.14157902, -0.21045306,  0.02175824, ...,  0.0660851 ,\n",
       "        -0.02926853, -0.1707484 ],\n",
       "       [ 0.010803  , -0.17779072,  0.20158082, ...,  0.02849107,\n",
       "        -0.18847935, -0.0554187 ]])"
      ]
     },
     "execution_count": 16,
     "metadata": {},
     "output_type": "execute_result"
    }
   ],
   "source": [
    "vec.extract_embeddings(model)"
   ]
  },
  {
   "cell_type": "code",
   "execution_count": 17,
   "metadata": {
    "collapsed": true
   },
   "outputs": [],
   "source": [
    "import cPickle\n",
    "num_words = len(vec.word2idx)\n",
    "cPickle.dump(vec, open('allfields_with_embedding_' + str(num_words) + '.p', 'wb'))"
   ]
  },
  {
   "cell_type": "code",
   "execution_count": null,
   "metadata": {
    "collapsed": true
   },
   "outputs": [],
   "source": []
  }
 ],
 "metadata": {
  "kernelspec": {
   "display_name": "Python 2",
   "language": "python",
   "name": "python2"
  },
  "language_info": {
   "codemirror_mode": {
    "name": "ipython",
    "version": 2
   },
   "file_extension": ".py",
   "mimetype": "text/x-python",
   "name": "python",
   "nbconvert_exporter": "python",
   "pygments_lexer": "ipython2",
   "version": "2.7.14"
  }
 },
 "nbformat": 4,
 "nbformat_minor": 1
}
