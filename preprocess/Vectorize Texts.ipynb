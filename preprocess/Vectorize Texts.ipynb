{
 "cells": [
  {
   "cell_type": "code",
   "execution_count": 1,
   "metadata": {
    "collapsed": true
   },
   "outputs": [],
   "source": [
    "import pandas as pd\n",
    "df = pd.read_csv('study_inclusion.csv', index_col=0)"
   ]
  },
  {
   "cell_type": "code",
   "execution_count": 2,
   "metadata": {
    "collapsed": true
   },
   "outputs": [],
   "source": [
    "fields = ['abstract', 'population', 'intervention', 'outcome']"
   ]
  },
  {
   "cell_type": "code",
   "execution_count": 3,
   "metadata": {
    "collapsed": true
   },
   "outputs": [],
   "source": [
    "texts = []\n",
    "index = {}\n",
    "for f in fields :\n",
    "    text = list(df[f])\n",
    "    orig_len =len(texts)\n",
    "    texts += text\n",
    "    index[f] = (orig_len, len(texts))"
   ]
  },
  {
   "cell_type": "code",
   "execution_count": 4,
   "metadata": {},
   "outputs": [
    {
     "name": "stderr",
     "output_type": "stream",
     "text": [
      "Using TensorFlow backend.\n"
     ]
    }
   ],
   "source": [
    "import vectorizer"
   ]
  },
  {
   "cell_type": "code",
   "execution_count": 5,
   "metadata": {
    "collapsed": true
   },
   "outputs": [],
   "source": [
    "num_words = 2500\n",
    "vec = vectorizer.Vectorizer(num_words=num_words)\n",
    "\n",
    "vec.fit(texts)\n",
    "vec.texts_to_sequences(texts)\n",
    "vec.index = index"
   ]
  },
  {
   "cell_type": "code",
   "execution_count": 7,
   "metadata": {
    "collapsed": true
   },
   "outputs": [],
   "source": [
    "from gensim.models import KeyedVectors\n",
    "model = KeyedVectors.load_word2vec_format('../wikipedia-pubmed-and-PMC-w2v.bin', binary=True)"
   ]
  },
  {
   "cell_type": "code",
   "execution_count": 8,
   "metadata": {},
   "outputs": [
    {
     "name": "stdout",
     "output_type": "stream",
     "text": [
      "Found 2493 words in pubmed out of 2502\n"
     ]
    },
    {
     "data": {
      "text/plain": [
       "array([[-0.15154763, -0.01764453,  0.49515179, ..., -0.00970677,\n",
       "         0.23572783,  0.07556216],\n",
       "       [ 0.31490654,  0.04134538,  0.08921666, ..., -0.14584929,\n",
       "        -0.02504679,  0.21906164],\n",
       "       [-0.23637475, -0.11941663,  0.16597459, ...,  0.05001994,\n",
       "        -0.01862676,  0.14134666],\n",
       "       ..., \n",
       "       [-0.132544  ,  0.2081583 ,  0.2365889 , ...,  0.09903063,\n",
       "         0.40432304, -0.24136358],\n",
       "       [-0.19085704,  0.23821574,  0.31792745, ..., -0.08581909,\n",
       "         0.37813064, -0.26716828],\n",
       "       [-0.03693414,  0.00330191,  0.0479975 , ..., -0.26494107,\n",
       "         0.03481102,  0.0817305 ]])"
      ]
     },
     "execution_count": 8,
     "metadata": {},
     "output_type": "execute_result"
    }
   ],
   "source": [
    "vec.extract_embeddings(model)"
   ]
  },
  {
   "cell_type": "code",
   "execution_count": 9,
   "metadata": {
    "collapsed": true
   },
   "outputs": [],
   "source": [
    "import cPickle\n",
    "cPickle.dump(vec, open('allfields_with_embedding_' + str(num_words) + '.p', 'wb'))"
   ]
  },
  {
   "cell_type": "code",
   "execution_count": null,
   "metadata": {
    "collapsed": true
   },
   "outputs": [],
   "source": []
  }
 ],
 "metadata": {
  "kernelspec": {
   "display_name": "Python 2",
   "language": "python",
   "name": "python2"
  },
  "language_info": {
   "codemirror_mode": {
    "name": "ipython",
    "version": 2
   },
   "file_extension": ".py",
   "mimetype": "text/x-python",
   "name": "python",
   "nbconvert_exporter": "python",
   "pygments_lexer": "ipython2",
   "version": "2.7.14"
  }
 },
 "nbformat": 4,
 "nbformat_minor": 1
}
