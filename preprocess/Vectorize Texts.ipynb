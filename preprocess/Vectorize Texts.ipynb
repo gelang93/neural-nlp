{
 "cells": [
  {
   "cell_type": "markdown",
   "metadata": {},
   "source": [
    "# Vectorize Texts"
   ]
  },
  {
   "cell_type": "code",
   "execution_count": 6,
   "metadata": {},
   "outputs": [],
   "source": [
    "field = 'outcome'"
   ]
  },
  {
   "cell_type": "code",
   "execution_count": 7,
   "metadata": {},
   "outputs": [
    {
     "name": "stdout",
     "output_type": "stream",
     "text": [
      "<class 'pandas.core.frame.DataFrame'>\n",
      "Int64Index: 41796 entries, 0 to 41795\n",
      "Data columns (total 5 columns):\n",
      "abstract        41796 non-null object\n",
      "cdno            41796 non-null object\n",
      "population      41796 non-null object\n",
      "intervention    41796 non-null object\n",
      "outcome         41796 non-null object\n",
      "dtypes: object(5)\n",
      "memory usage: 1.9+ MB\n"
     ]
    }
   ],
   "source": [
    "df = pd.read_csv('study_inclusion.csv', index_col=0)\n",
    "texts = df[field]\n",
    "\n",
    "df.info()"
   ]
  },
  {
   "cell_type": "markdown",
   "metadata": {},
   "source": [
    "### Sample abstracts"
   ]
  },
  {
   "cell_type": "code",
   "execution_count": 8,
   "metadata": {
    "scrolled": true
   },
   "outputs": [
    {
     "name": "stdout",
     "output_type": "stream",
     "text": [
      "\n",
      "****************************************************************************************************\n",
      "\n",
      "HR; % time crying per interval; clinical observation of anesthesia effectiveness (good, fair, poor)\n",
      "\n",
      "****************************************************************************************************\n",
      "\n",
      "Physician's assessment of improvement and patient's subjective assessment was done. Number of patients improved were recorded but there was no mention of scales used.\n",
      "\n",
      "****************************************************************************************************\n",
      "\n",
      "1. Number of malaria cases (case definition: malaria parasites in a thick blood slide, with or without clinical symptoms) 2. Prevalence of anti-SPf66 antibody titre\n",
      "\n",
      "****************************************************************************************************\n",
      "\n",
      "Variceal rebleeding. Survival. Encephalopathy. Complications: sepsis, shunt dysfunction. Cost analysis and amount of time spent in-patient.\n",
      "\n",
      "****************************************************************************************************\n",
      "\n",
      "Drop out\n",
      "\n",
      "****************************************************************************************************\n",
      "\n",
      "Core temp: intervention = 39; control = 38.6 Blood loss: intervention = 15.8 mL/kg/day; control = 18.1 mL/kg/day Urine volume: intervention = 2.6 mL/kg/hour; control = 2.1 mL/kg/hour Length of stay in ICU: intervention = 65.9 hours; control = 62.2 hours  Duration of ventilation: intervention = 9 hours; control = 10 hours Serum creatinine levels: intervention = 0.6 mg/dL; control = 0.5mg/dL Inotropic support: intervention = 193 mg/kg; control = 190 mg/kg\n",
      "\n",
      "****************************************************************************************************\n",
      "\n",
      "Knowledge: number of correct answers in 8-item questionnaire\n",
      "\n",
      "****************************************************************************************************\n",
      "\n",
      "Diagnostic method for DVT: Venous duplex colour-flow Doppler ultrasonography of the lower extremities was obtained on admission to the ICU, each week of hospitalisation, and 1 week after discharge for all patients \n",
      " Diagnostic method for PE: Patients with a suspected DVT, those whose clinical status was deteriorating, and those who displayed a sudden change in blood gas levels were subjected to spiral CT scanning. Pulmonary CT examinations were undertaken with a Somatom Plus-S scanner (Siemens, Erlangen, Germany \n",
      " Any bleeding ? Yes \n",
      " Major Bleeding macroscopic hematuria without renal injury, overt bleeding, and a sudden drop in the haemoglobin level ( 2 g/dl). \n",
      " Minor Bleeding Microscopic hematuria, hematoma at the site of injection, and a drop in the haemoglobin level of less than 2 g/dl were considered minor bleeding complications.\n",
      "\n",
      "****************************************************************************************************\n",
      "\n",
      "Only FHAQ (Fibromyalgia Health Assessment Questionnaire) score provided.  Author concluded TT significantly decrease the experience of pain.\n",
      "\n",
      "****************************************************************************************************\n",
      "\n",
      "Process adherence (prescribing, other)\n"
     ]
    }
   ],
   "source": [
    "def sample_texts(k=10):\n",
    "    for text in np.random.choice(texts, size=k):\n",
    "        print\n",
    "        print '*'*100\n",
    "        print\n",
    "        print text\n",
    "        \n",
    "sample_texts()"
   ]
  },
  {
   "cell_type": "markdown",
   "metadata": {},
   "source": [
    "### Preprocess Texts\n",
    "\n",
    "- Tokenize into words with nltk\n",
    "- Convert numbers to a single token\n",
    "\n",
    "Notice there is significantly less preprocessing of the texts."
   ]
  },
  {
   "cell_type": "code",
   "execution_count": 9,
   "metadata": {},
   "outputs": [
    {
     "name": "stdout",
     "output_type": "stream",
     "text": [
      "\n",
      "****************************************************************************************************\n",
      "\n",
      "pi : standard qqq scale pr : standard qqq scale global assessment : standard qqq scale use of rescue medication adverse events withdrawals\n",
      "\n",
      "****************************************************************************************************\n",
      "\n",
      "primary outcomes : to assess the pharmacokinetics , safety and efficacy of sequential therapy , initiated preoperatively , with three dose levels of sc . melagatran followed by oral ximelagatran in the prophylaxis of vte in patients undergoing thr or total knee replacement ( tkr ) . secondary outcomes : the relationship between the plasma concentrations of melagatran and the coagulation parameter activated partial thromboplastin time ( aptt ) .\n",
      "\n",
      "****************************************************************************************************\n",
      "\n",
      "mortality . biochemistry and function . liver histology . adverse events .\n",
      "\n",
      "****************************************************************************************************\n",
      "\n",
      "qqq . pain qqq . ponv qqq . bleeding qqq . allergy\n",
      "\n",
      "****************************************************************************************************\n",
      "\n",
      "mean wet nights during first arm of trial : a : qqq , qqq ; b : qqq , qqq no . not achieving qqq dry nights : a : qqq ; b : qqq mean wet nights after both drugs : a : qqq , qqq ; b : qqq , qqq side effects : desmopressin : qqq back pain , qqq inflamed nasal mucosa ; imipramine : qqq pallor , restlessness and cold extremities\n",
      "\n",
      "****************************************************************************************************\n",
      "\n",
      "nec assessed by pneumatosis intestinalis ( no definition given ) or free gas in peritoneum or portal venous tract or by histopathological examination of tissue obtained during surgery or autopsy .\n",
      "\n",
      "****************************************************************************************************\n",
      "\n",
      "overall survival time to progression ( defined as from date randomised to date of progression or death ) time to treatment failure response toxicity quality of life\n",
      "\n",
      "****************************************************************************************************\n",
      "\n",
      "change in bs , mode of delivery , hyperstimulation , time to delivery .\n",
      "\n",
      "****************************************************************************************************\n",
      "\n",
      "outcome measures : ( qqq ) little 's irregularity index ( lii ) . mean differences +/- sd for change . ( qqq ) intercanine width ( icw ) . mean differences +/- sd for change . ( qqq ) arch length ( al ) . mean differences +/- sd for change . length of follow-up : qqq years , mean length of follow-up was qqq qqq months . for the upper arch no statistical differences were found between the two groups for the three outcome variables .\n",
      "\n",
      "****************************************************************************************************\n",
      "\n",
      "primary : persistence of air leaks during operation and duration of chest tube air leaks . secondary : time from operation to chest tube removal and hospital discharge , hospitalization time and costs\n"
     ]
    }
   ],
   "source": [
    "from nltk import word_tokenize\n",
    "\n",
    "texts = texts.map(lambda s: ' '.join(word_tokenize(s)).lower()) # basic tokenization\n",
    "texts = texts.map(lambda s: ' '.join('qqq' if any(char.isdigit() for char in word) else word for word in s.split()))\n",
    "\n",
    "sample_texts()"
   ]
  },
  {
   "cell_type": "markdown",
   "metadata": {},
   "source": [
    "### Convert Abstracts to Sequences"
   ]
  },
  {
   "cell_type": "code",
   "execution_count": 10,
   "metadata": {},
   "outputs": [],
   "source": [
    "from vectorizer import Vectorizer\n",
    "\n",
    "vectorizer = Vectorizer()\n",
    "\n",
    "vectorizer.fit(texts)\n",
    "vectorizer.texts_to_sequences(texts)\n",
    "\n",
    "pickle.dump(vectorizer, open('{}s.p'.format(field), 'w'))"
   ]
  }
 ],
 "metadata": {
  "kernelspec": {
   "display_name": "Python 2",
   "language": "python",
   "name": "python2"
  },
  "language_info": {
   "codemirror_mode": {
    "name": "ipython",
    "version": 2
   },
   "file_extension": ".py",
   "mimetype": "text/x-python",
   "name": "python",
   "nbconvert_exporter": "python",
   "pygments_lexer": "ipython2",
   "version": "2.7.13"
  }
 },
 "nbformat": 4,
 "nbformat_minor": 1
}
