{
 "cells": [
  {
   "cell_type": "code",
   "execution_count": 1,
   "metadata": {
    "collapsed": true
   },
   "outputs": [],
   "source": [
    "import pandas as pd\n",
    "df = pd.read_csv('decisionaids.csv')\n",
    "pmids = list(df['pmid'])"
   ]
  },
  {
   "cell_type": "code",
   "execution_count": 2,
   "metadata": {
    "collapsed": true
   },
   "outputs": [],
   "source": [
    "from Bio.Entrez import efetch, read\n",
    "\n",
    "def fetch_abstract(pmid):\n",
    "    handle = efetch(db='pubmed', id=pmid, retmode='xml')\n",
    "    xml_data = read(handle)\n",
    "    xml_data = xml_data['PubmedArticle'][0]\n",
    "    try:\n",
    "        article = xml_data['MedlineCitation']['Article']\n",
    "        if 'Abstract' in article :\n",
    "            abstract = article['Abstract']['AbstractText'][0]\n",
    "            return abstract\n",
    "        else :\n",
    "            return None\n",
    "    except IndexError, KeyError:\n",
    "        return None"
   ]
  },
  {
   "cell_type": "code",
   "execution_count": 3,
   "metadata": {},
   "outputs": [
    {
     "name": "stderr",
     "output_type": "stream",
     "text": [
      "/home/sarthak/anaconda2/lib/python2.7/site-packages/Bio/Entrez/__init__.py:564: UserWarning: \n",
      "Email address is not specified.\n",
      "\n",
      "To make use of NCBI's E-utilities, NCBI requires you to specify your\n",
      "email address with each request.  As an example, if your email address\n",
      "is A.N.Other@example.com, you can specify it as follows:\n",
      "   from Bio import Entrez\n",
      "   Entrez.email = 'A.N.Other@example.com'\n",
      "In case of excessive usage of the E-utilities, NCBI will attempt to contact\n",
      "a user at the email address provided before blocking access to the\n",
      "E-utilities.\n",
      "  E-utilities.\"\"\", UserWarning)\n"
     ]
    }
   ],
   "source": [
    "abstracts = [fetch_abstract(idx) for idx in pmids]"
   ]
  },
  {
   "cell_type": "code",
   "execution_count": 4,
   "metadata": {
    "collapsed": true
   },
   "outputs": [],
   "source": [
    "df['abstract'] = abstracts"
   ]
  },
  {
   "cell_type": "code",
   "execution_count": 5,
   "metadata": {
    "collapsed": true
   },
   "outputs": [],
   "source": [
    "im_map = {'breast cancer': 'BCT', \n",
    "          'healthy women at risk of breast cancer': 'BCS', \n",
    "          'type II diabetes': 'D',\n",
    "          'menopausal women': 'MW',\n",
    "          'pregnant women, previous C section': 'PWC',\n",
    "          'pregnant women': 'PW',\n",
    "          'healthy people, at risk colon cancer': 'CCS',\n",
    "          'prostate cancer': 'PCT',\n",
    "          'healthy men, contemplating risk of prostate cancer': 'PCS',\n",
    "          'AF': 'AF',\n",
    "          'healthy women at genetic risk of breast cancer': 'BCG'}\n",
    "fdf = df[df['IM_population'].isin(im_map.keys())].reset_index().drop(['index'], axis=1)\n",
    "fdf = fdf.dropna().reset_index()"
   ]
  },
  {
   "cell_type": "code",
   "execution_count": 6,
   "metadata": {
    "collapsed": true
   },
   "outputs": [],
   "source": [
    "fdf.to_csv('decision_aids_filter.csv', encoding='utf-8')"
   ]
  }
 ],
 "metadata": {
  "kernelspec": {
   "display_name": "Python 2",
   "language": "python",
   "name": "python2"
  },
  "language_info": {
   "codemirror_mode": {
    "name": "ipython",
    "version": 2
   },
   "file_extension": ".py",
   "mimetype": "text/x-python",
   "name": "python",
   "nbconvert_exporter": "python",
   "pygments_lexer": "ipython2",
   "version": "2.7.13"
  }
 },
 "nbformat": 4,
 "nbformat_minor": 2
}
