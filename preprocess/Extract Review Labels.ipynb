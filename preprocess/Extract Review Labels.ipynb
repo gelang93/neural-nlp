{
 "cells": [
  {
   "cell_type": "markdown",
   "metadata": {},
   "source": [
    "# Extract Review Labels\n",
    "\n",
    "Extract `(abstract, study-id)` tuples."
   ]
  },
  {
   "cell_type": "code",
   "execution_count": 1,
   "metadata": {},
   "outputs": [
    {
     "name": "stdout",
     "output_type": "stream",
     "text": [
      "<class 'pandas.core.frame.DataFrame'>\n",
      "RangeIndex: 46531 entries, 0 to 46530\n",
      "Data columns (total 5 columns):\n",
      "abstract        46531 non-null object\n",
      "cdno            46531 non-null object\n",
      "population      46531 non-null object\n",
      "intervention    46531 non-null object\n",
      "outcome         46531 non-null object\n",
      "dtypes: object(5)\n",
      "memory usage: 1.8+ MB\n"
     ]
    }
   ],
   "source": [
    "df = pd.read_csv('pico_cdsr.csv')\n",
    "df = df[['abstract', 'cdno', 'population', 'intervention', 'outcome']]\n",
    "\n",
    "df.info()"
   ]
  },
  {
   "cell_type": "markdown",
   "metadata": {},
   "source": [
    "### Visualize `cdno` Distribution"
   ]
  },
  {
   "cell_type": "code",
   "execution_count": 2,
   "metadata": {},
   "outputs": [
    {
     "data": {
      "text/plain": [
       "4611"
      ]
     },
     "execution_count": 2,
     "metadata": {},
     "output_type": "execute_result"
    }
   ],
   "source": [
    "cdnos = df.groupby('cdno')\n",
    "\n",
    "len(cdnos)"
   ]
  },
  {
   "cell_type": "markdown",
   "metadata": {},
   "source": [
    "Most reviews have only a small number of studies..."
   ]
  },
  {
   "cell_type": "code",
   "execution_count": 3,
   "metadata": {
    "scrolled": true
   },
   "outputs": [
    {
     "data": {
      "text/plain": [
       "<matplotlib.lines.Line2D at 0x118053790>"
      ]
     },
     "execution_count": 3,
     "metadata": {},
     "output_type": "execute_result"
    },
    {
     "data": {
      "image/png": "[encoded data removed]",
      "text/plain": [
       "<matplotlib.figure.Figure at 0x109ea0cd0>"
      ]
     },
     "metadata": {},
     "output_type": "display_data"
    }
   ],
   "source": [
    "info = cdnos.size().describe(percentiles=np.linspace(start=0, stop=1, num=101))\n",
    "\n",
    "axes = info['0%':].plot()\n",
    "axes.axhline(y=60)"
   ]
  },
  {
   "cell_type": "code",
   "execution_count": 4,
   "metadata": {
    "scrolled": true
   },
   "outputs": [
    {
     "data": {
      "text/plain": [
       "count    4611.000000\n",
       "mean       10.091303\n",
       "std        15.635355\n",
       "min         1.000000\n",
       "0%          1.000000\n",
       "1%          1.000000\n",
       "2%          1.000000\n",
       "3%          1.000000\n",
       "4%          1.000000\n",
       "5%          1.000000\n",
       "6%          1.000000\n",
       "7.0%        1.000000\n",
       "8%          1.000000\n",
       "9%          1.000000\n",
       "10%         1.000000\n",
       "11%         1.000000\n",
       "12%         1.000000\n",
       "13%         2.000000\n",
       "14.0%       2.000000\n",
       "15%         2.000000\n",
       "16%         2.000000\n",
       "17%         2.000000\n",
       "18%         2.000000\n",
       "19%         2.000000\n",
       "20%         2.000000\n",
       "21%         2.000000\n",
       "22%         2.000000\n",
       "23%         3.000000\n",
       "24%         3.000000\n",
       "25%         3.000000\n",
       "            ...     \n",
       "72%        11.000000\n",
       "73%        11.000000\n",
       "74%        12.000000\n",
       "75%        12.000000\n",
       "76%        12.000000\n",
       "77%        13.000000\n",
       "78%        13.000000\n",
       "79%        14.000000\n",
       "80%        14.000000\n",
       "81%        15.000000\n",
       "82%        15.000000\n",
       "83%        16.000000\n",
       "84%        17.000000\n",
       "85%        17.000000\n",
       "86%        18.000000\n",
       "87%        19.000000\n",
       "88%        20.000000\n",
       "89%        21.000000\n",
       "90%        23.000000\n",
       "91%        24.000000\n",
       "92%        26.000000\n",
       "93%        28.000000\n",
       "94%        31.000000\n",
       "95%        33.000000\n",
       "96%        37.000000\n",
       "97%        42.000000\n",
       "98%        48.000000\n",
       "99%        59.000000\n",
       "100%      513.000000\n",
       "max       513.000000\n",
       "dtype: float64"
      ]
     },
     "execution_count": 4,
     "metadata": {},
     "output_type": "execute_result"
    }
   ],
   "source": [
    "info"
   ]
  },
  {
   "cell_type": "markdown",
   "metadata": {},
   "source": [
    "The number of studies greater than a certain number drops off exponentially..."
   ]
  },
  {
   "cell_type": "code",
   "execution_count": 5,
   "metadata": {},
   "outputs": [
    {
     "data": {
      "text/plain": [
       "<matplotlib.text.Text at 0x10afc5990>"
      ]
     },
     "execution_count": 5,
     "metadata": {},
     "output_type": "execute_result"
    },
    {
     "data": {
      "image/png": "[encoded data removed]",
      "text/plain": [
       "<matplotlib.figure.Figure at 0x109e4bcd0>"
      ]
     },
     "metadata": {},
     "output_type": "display_data"
    }
   ],
   "source": [
    "nb_review = len(cdnos)\n",
    "\n",
    "s = pd.Series(len(cdnos.size()[cdnos.size() > i]) / float(len(cdnos)) for i in range(50))\n",
    "s.name = 'foo'\n",
    "s.index.name = '$x$'\n",
    "\n",
    "axes = s.plot()\n",
    "plt.ylabel('percentage of reviews with more than $x$ studies')"
   ]
  },
  {
   "cell_type": "markdown",
   "metadata": {},
   "source": [
    "For the contrastive loss approach, we don't want to have too many reviews with a large number of studies because the assumption is that a randomly picked study will not be from the same review.\n",
    "\n",
    "If there are 40,000 studies and the study with the maximum number of studies is 40, then the maximum probability of picking a study from the same review is $\\frac{40}{40,000} = .1\\%$ chance. For any other studies the probability is even lower, which I feel pretty good about."
   ]
  },
  {
   "cell_type": "code",
   "execution_count": 7,
   "metadata": {},
   "outputs": [
    {
     "data": {
      "text/plain": [
       "<matplotlib.text.Text at 0x10a942150>"
      ]
     },
     "execution_count": 7,
     "metadata": {},
     "output_type": "execute_result"
    },
    {
     "data": {
      "image/png": "[encoded data removed]",
      "text/plain": [
       "<matplotlib.figure.Figure at 0x10aee6d90>"
      ]
     },
     "metadata": {},
     "output_type": "display_data"
    }
   ],
   "source": [
    "s = pd.Series(nb_study*nb_review for nb_study, nb_review in cdnos.size().value_counts().sort_index().iteritems())\n",
    "s.index = cdnos.size().value_counts().sort_index().index\n",
    "\n",
    "axes = s.cumsum().plot()\n",
    "axes.axvline(x=60)\n",
    "\n",
    "axes.set_xlabel('maximum number of studies in review')\n",
    "axes.set_ylabel('number of studies in which this is the case')"
   ]
  },
  {
   "cell_type": "markdown",
   "metadata": {},
   "source": [
    "Here's a good view of how many reviews there are having a certain amount of studies. We can see that reviews having at least 25 studies are usually in the single digits."
   ]
  },
  {
   "cell_type": "code",
   "execution_count": 8,
   "metadata": {
    "scrolled": true
   },
   "outputs": [
    {
     "data": {
      "text/plain": [
       "<matplotlib.text.Text at 0x10e26d110>"
      ]
     },
     "execution_count": 8,
     "metadata": {},
     "output_type": "execute_result"
    },
    {
     "data": {
      "image/png": "[encoded data removed]",
      "text/plain": [
       "<matplotlib.figure.Figure at 0x10e3f1f10>"
      ]
     },
     "metadata": {},
     "output_type": "display_data"
    }
   ],
   "source": [
    "axes = cdnos.size().value_counts().sort_index().plot(kind='bar')\n",
    "\n",
    "locs, labels = plt.xticks()\n",
    "\n",
    "new_labels = ['']*len(labels)\n",
    "for i in range(0, len(labels), 10):\n",
    "    new_labels[i] = labels[i].get_text()\n",
    "    \n",
    "plt.xticks(locs, new_labels)\n",
    "axes.set_xlabel('number of studies')\n",
    "axes.set_ylabel('count')"
   ]
  },
  {
   "cell_type": "markdown",
   "metadata": {},
   "source": [
    "Since 60 is the magic number, let's throw away all studies which are part of reviews of with more than 60 studies. This should leave us with 40,000+ studies."
   ]
  },
  {
   "cell_type": "code",
   "execution_count": 9,
   "metadata": {},
   "outputs": [],
   "source": [
    "cdno_set = set(cdnos.size()[cdnos.size() <= 60].index)\n",
    "\n",
    "test_df = df[df.cdno.map(lambda cdno: cdno in cdno_set)].reset_index(drop=True)\n",
    "test_df.to_csv('study_inclusion.csv')"
   ]
  }
 ],
 "metadata": {
  "kernelspec": {
   "display_name": "Python 2",
   "language": "python",
   "name": "python2"
  },
  "language_info": {
   "codemirror_mode": {
    "name": "ipython",
    "version": 2
   },
   "file_extension": ".py",
   "mimetype": "text/x-python",
   "name": "python",
   "nbconvert_exporter": "python",
   "pygments_lexer": "ipython2",
   "version": "2.7.13"
  }
 },
 "nbformat": 4,
 "nbformat_minor": 1
}
