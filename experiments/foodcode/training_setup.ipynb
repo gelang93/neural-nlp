{
 "cells": [
  {
   "cell_type": "code",
   "execution_count": 1,
   "metadata": {},
   "outputs": [
    {
     "name": "stderr",
     "output_type": "stream",
     "text": [
      "Using TensorFlow backend.\n"
     ]
    },
    {
     "name": "stdout",
     "output_type": "stream",
     "text": [
      "[]\n"
     ]
    }
   ],
   "source": [
    "from keras.models  import load_model\n",
    "import keras.backend as K\n",
    "\n",
    "import cPickle\n",
    "import sys\n",
    "sys.path.insert(0, '../../preprocess')\n",
    "import vectorizer\n",
    "\n",
    "import pandas as pd\n",
    "import numpy as np\n",
    "\n",
    "aspects = ['bit', 'domain']"
   ]
  },
  {
   "cell_type": "code",
   "execution_count": 2,
   "metadata": {
    "collapsed": true
   },
   "outputs": [],
   "source": [
    "vec = cPickle.load(open('../../yelpdata/total_vec_120K_embed.p', 'rb'))"
   ]
  },
  {
   "cell_type": "code",
   "execution_count": 9,
   "metadata": {},
   "outputs": [],
   "source": [
    "import pandas as pd\n",
    "from sklearn.model_selection import train_test_split\n",
    "import numpy as np\n",
    "\n",
    "ds = pd.read_csv('../../yelpdata/total_data_120K.csv')\n",
    "aspect_columns = ['bit', 'domain']\n",
    "                 \n",
    "ds['bit'] = ds['stars'].apply(lambda x : x > 3.0)\n",
    "train_idxs, val_idxs = train_test_split(ds.index, stratify=ds[['bit', 'domain']], train_size=0.9, random_state=1337)\n",
    "\n",
    "idxs = val_idxs\n",
    "H = {}\n",
    "labs = {}\n",
    "for aspect in aspect_columns :\n",
    "    H[aspect] = np.zeros((len(idxs), len(idxs)))\n",
    "    aspect_vals = ds[aspect].unique()\n",
    "    labs[aspect] = np.array([0] * len(val_idxs))\n",
    "    for i, val in enumerate(aspect_vals) :\n",
    "        a = set(ds[ds[aspect] == val].index) & set(idxs)\n",
    "        a = map(lambda s : list(idxs).index(s), a)\n",
    "        labs[aspect][a] = i\n",
    "        for j in a :\n",
    "            H[aspect][j, a] = 1\n",
    "\n",
    "    H[aspect][np.arange(len(idxs)), np.arange(len(idxs))] = 0"
   ]
  },
  {
   "cell_type": "code",
   "execution_count": 4,
   "metadata": {
    "collapsed": true
   },
   "outputs": [],
   "source": [
    "model = load_model('../store/weights/food/WedDec614:45:092017final1/loss.h5', \n",
    "                   custom_objects={'contrastive_loss' : lambda a,b:b})"
   ]
  },
  {
   "cell_type": "code",
   "execution_count": 5,
   "metadata": {
    "collapsed": true
   },
   "outputs": [],
   "source": [
    "model_c1 = {}\n",
    "for aspect in aspects :\n",
    "    model_c1[aspect] = K.function(model.get_layer('pred_'+aspect).get_layer('pool_'+aspect).inputs + [K.learning_phase()], \n",
    "                          model.get_layer('pred_'+aspect).get_layer('pool_'+aspect).outputs)"
   ]
  },
  {
   "cell_type": "code",
   "execution_count": 6,
   "metadata": {
    "collapsed": true
   },
   "outputs": [],
   "source": [
    "embeds = {}\n",
    "X_s = vec.X[val_idxs]\n",
    "vecs = {k:[] for k in aspects}\n",
    "i, bs = 0, 100\n",
    "while i*bs < len(val_idxs):\n",
    "    for aspect in aspects :\n",
    "        result = model_c1[aspect]([X_s[i*bs:(i+1)*bs], 0])[0]\n",
    "        vecs[aspect].append(result)\n",
    "    i += 1\n",
    "\n",
    "for aspect in aspects :\n",
    "    embeds[aspect] = np.concatenate(vecs[aspect], axis=0)\n"
   ]
  },
  {
   "cell_type": "code",
   "execution_count": 22,
   "metadata": {},
   "outputs": [
    {
     "name": "stdout",
     "output_type": "stream",
     "text": [
      "bit bit 0.917211351309\n",
      "domain domain 0.988477641422\n"
     ]
    }
   ],
   "source": [
    "#Gated CNN\n",
    "from sklearn.preprocessing import normalize\n",
    "from sklearn.metrics import roc_auc_score\n",
    "for aspect in aspects :\n",
    "    result = embeds[aspect]\n",
    "    result = normalize(result, 'l2')\n",
    "    scores = np.dot(result, result.T)\n",
    "    scores[np.arange(len(val_idxs)), np.arange(len(val_idxs))] = -1000\n",
    "    aucs = [0] * len(val_idxs)\n",
    "    aspect_j = aspect\n",
    "#     for aspect_j in aspects :\n",
    "    for i in range(len(val_idxs)) :\n",
    "        v = labs[other_aspect[aspect]][i]\n",
    "        o = np.where(labs[other_aspect[aspect]] != v)[0]\n",
    "        aucs[i] = roc_auc_score(H[aspect_j][i, o], scores[i, o])\n",
    "    print aspect, aspect_j, np.mean(aucs)"
   ]
  },
  {
   "cell_type": "code",
   "execution_count": 15,
   "metadata": {},
   "outputs": [],
   "source": [
    "other_aspect = {'bit' : 'domain', 'domain' : 'bit'}"
   ]
  },
  {
   "cell_type": "code",
   "execution_count": 13,
   "metadata": {},
   "outputs": [
    {
     "data": {
      "text/plain": [
       "array([    0,     3,     4, ..., 12702, 12703, 12707])"
      ]
     },
     "execution_count": 13,
     "metadata": {},
     "output_type": "execute_result"
    }
   ],
   "source": [
    "np.where(labs['bit'] != 0)[0]"
   ]
  },
  {
   "cell_type": "code",
   "execution_count": null,
   "metadata": {
    "collapsed": true
   },
   "outputs": [],
   "source": []
  }
 ],
 "metadata": {
  "kernelspec": {
   "display_name": "Python 2",
   "language": "python",
   "name": "python2"
  },
  "language_info": {
   "codemirror_mode": {
    "name": "ipython",
    "version": 2
   },
   "file_extension": ".py",
   "mimetype": "text/x-python",
   "name": "python",
   "nbconvert_exporter": "python",
   "pygments_lexer": "ipython2",
   "version": "2.7.14"
  }
 },
 "nbformat": 4,
 "nbformat_minor": 2
}
