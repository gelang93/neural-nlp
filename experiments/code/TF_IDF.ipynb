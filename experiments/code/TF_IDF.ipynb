{
 "cells": [
  {
   "cell_type": "code",
   "execution_count": 2,
   "metadata": {},
   "outputs": [],
   "source": [
    "import cPickle\n",
    "import sys\n",
    "sys.path.insert(0, '../../preprocess')\n",
    "import vectorizer\n",
    "\n",
    "vec = cPickle.load(open('../../preprocess/allfields_with_embedding_19995.p', 'rb'))\n",
    "cohenvec = cPickle.load(open('../../preprocess/cohendata_dedup_19995.p', 'rb'))"
   ]
  },
  {
   "cell_type": "code",
   "execution_count": 3,
   "metadata": {},
   "outputs": [
    {
     "data": {
      "text/plain": [
       "(41784, 19993)"
      ]
     },
     "execution_count": 3,
     "metadata": {},
     "output_type": "execute_result"
    }
   ],
   "source": [
    "import numpy as np\n",
    "index = vec.index['abstract']\n",
    "vec.X = vec.X[index[0]:index[1]]\n",
    "X_tf = np.zeros((vec.X.shape[0], vec.vocab_size))\n",
    "for i in range(len(vec.X)) :\n",
    "    X_tf[i, vec.X[i, :]] = 1.\n",
    "\n",
    "X_tf = X_tf[:, 2:]\n",
    "X_tf.shape"
   ]
  },
  {
   "cell_type": "code",
   "execution_count": 4,
   "metadata": {},
   "outputs": [
    {
     "data": {
      "text/plain": [
       "(1767, 19993)"
      ]
     },
     "execution_count": 4,
     "metadata": {},
     "output_type": "execute_result"
    }
   ],
   "source": [
    "X = cohenvec.X\n",
    "cohen_X_tf = np.zeros((X.shape[0], vec.vocab_size))\n",
    "for i in range(len(X)) :\n",
    "    cohen_X_tf[i, X[i, :]] = 1.\n",
    "\n",
    "cohen_X_tf = cohen_X_tf[:, 2:]\n",
    "cohen_X_tf.shape"
   ]
  },
  {
   "cell_type": "code",
   "execution_count": 5,
   "metadata": {
    "collapsed": true
   },
   "outputs": [],
   "source": [
    "from sklearn.feature_extraction.text import TfidfTransformer\n",
    "tfidf = TfidfTransformer()\n",
    "X_tf1 = tfidf.fit_transform(X_tf)"
   ]
  },
  {
   "cell_type": "code",
   "execution_count": 6,
   "metadata": {
    "collapsed": true
   },
   "outputs": [],
   "source": [
    "cohen_tf = tfidf.transform(cohen_X_tf)\n",
    "cohen_tf = TfidfTransformer().fit_transform(cohen_X_tf)"
   ]
  },
  {
   "cell_type": "code",
   "execution_count": 7,
   "metadata": {},
   "outputs": [
    {
     "data": {
      "text/plain": [
       "<1767x19993 sparse matrix of type '<type 'numpy.float64'>'\n",
       "\twith 210561 stored elements in Compressed Sparse Row format>"
      ]
     },
     "execution_count": 7,
     "metadata": {},
     "output_type": "execute_result"
    }
   ],
   "source": [
    "cohen_tf"
   ]
  },
  {
   "cell_type": "code",
   "execution_count": 8,
   "metadata": {
    "collapsed": true
   },
   "outputs": [],
   "source": [
    "from sklearn.metrics.pairwise import cosine_similarity"
   ]
  },
  {
   "cell_type": "code",
   "execution_count": 9,
   "metadata": {
    "collapsed": true
   },
   "outputs": [],
   "source": [
    "scores = cosine_similarity(X=cohen_tf)"
   ]
  },
  {
   "cell_type": "code",
   "execution_count": 10,
   "metadata": {
    "collapsed": true
   },
   "outputs": [],
   "source": [
    "import pandas as  pd\n",
    "df = pd.read_csv('../data/files/test_cohen_dedup.csv')\n",
    "\n",
    "nb_studies = len(df)\n",
    "H = np.zeros((nb_studies, nb_studies))\n",
    "\n",
    "cdnos = list(set(df.cdno))\n",
    "for i in range(nb_studies) :\n",
    "    H[i, df[df['cdno'] == df['cdno'][i]].index] = 1\n",
    "\n",
    "H[np.arange(nb_studies), np.arange(nb_studies)] = 0\n",
    "scores[np.arange(nb_studies), np.arange(nb_studies)] = -1000"
   ]
  },
  {
   "cell_type": "code",
   "execution_count": 30,
   "metadata": {},
   "outputs": [
    {
     "name": "stdout",
     "output_type": "stream",
     "text": [
      "0.767865083944\n",
      "{'NSAIDS_processed': 0.84607727856817461, 'ACEInhibitors_processed': 0.78527562953992291, 'SkeletalMuscleRelaxants_processed': 0.61983749889605222, 'Triptans_processed': 0.88122951639153591, 'OralHypoglycemics_processed': 0.84002497921620933, 'CalciumChannelBlockers_processed': 0.63575819980555226, 'BetaBlockers_processed': 0.65591328470712751, 'Estrogens_processed': 0.86704321319705935, 'ADHD_processed': 0.8480638147623073, 'Statins_processed': 0.7637934123253175, 'Antihistamines_processed': 0.68688915375446957, 'ProtonPumpInhibitors_processed': 0.7763995404500238, 'Opiods_processed': 0.75264380640332174, 'AtypicalAntipsychotics_processed': 0.75785991943538467}\n"
     ]
    }
   ],
   "source": [
    "from sklearn.metrics import roc_auc_score, average_precision_score\n",
    "aucs = [0] * nb_studies\n",
    "for i in range(nb_studies) :\n",
    "    aucs[i] = roc_auc_score(H[i], scores[i])\n",
    "print np.mean(aucs)\n",
    "rocs = {}\n",
    "for cd in cdnos :\n",
    "    idxs = df[df.cdno == cd].index\n",
    "    rocs[cd] = np.mean(np.array(aucs)[idxs])\n",
    "print rocs"
   ]
  },
  {
   "cell_type": "code",
   "execution_count": 10,
   "metadata": {},
   "outputs": [
    {
     "name": "stdout",
     "output_type": "stream",
     "text": [
      "0.804260448065\n",
      "{'NSAIDS_processed': 0.86517318779449548, 'ACEInhibitors_processed': 0.81968083913475587, 'SkeletalMuscleRelaxants_processed': 0.62530424799081519, 'Triptans_processed': 0.94105541433096329, 'OralHypoglycemics_processed': 0.87411345049591116, 'CalciumChannelBlockers_processed': 0.65725097841329017, 'BetaBlockers_processed': 0.67602194330417575, 'Estrogens_processed': 0.87664643049258439, 'ADHD_processed': 0.87700506107473108, 'Statins_processed': 0.79644987024324665, 'Antihistamines_processed': 0.71046702646721394, 'ProtonPumpInhibitors_processed': 0.84116156951087551, 'Opiods_processed': 0.75516191901930607, 'AtypicalAntipsychotics_processed': 0.81041986112189435}\n"
     ]
    }
   ],
   "source": [
    "from sklearn.metrics import roc_auc_score\n",
    "aucs = [0] * nb_studies\n",
    "for i in range(nb_studies) :\n",
    "    aucs[i] = roc_auc_score(H[i], scores[i])\n",
    "print np.mean(aucs)\n",
    "rocs = {}\n",
    "for cd in cdnos :\n",
    "    idxs = df[df.cdno == cd].index\n",
    "    rocs[cd] = np.mean(np.array(aucs)[idxs])\n",
    "print rocs"
   ]
  },
  {
   "cell_type": "code",
   "execution_count": 11,
   "metadata": {},
   "outputs": [
    {
     "name": "stdout",
     "output_type": "stream",
     "text": [
      "0.788580988083\n",
      "{'NSAIDS_processed': 0.86081039785636881, 'ACEInhibitors_processed': 0.81779121606787486, 'SkeletalMuscleRelaxants_processed': 0.62686832111631197, 'Triptans_processed': 0.88204816503315897, 'OralHypoglycemics_processed': 0.84860039054192526, 'CalciumChannelBlockers_processed': 0.65248309884956812, 'BetaBlockers_processed': 0.6828057486333452, 'Estrogens_processed': 0.88136744911892839, 'ADHD_processed': 0.90912140042713196, 'Statins_processed': 0.80877777014674845, 'Antihistamines_processed': 0.75519940063002311, 'ProtonPumpInhibitors_processed': 0.80235795794014053, 'Opiods_processed': 0.75069060968548307, 'AtypicalAntipsychotics_processed': 0.74073539362639651}\n"
     ]
    }
   ],
   "source": [
    "from sklearn.metrics import roc_auc_score\n",
    "aucs = [0] * nb_studies\n",
    "for i in range(nb_studies) :\n",
    "    aucs[i] = roc_auc_score(H[i], scores[i])\n",
    "print np.mean(aucs)\n",
    "rocs = {}\n",
    "for cd in cdnos :\n",
    "    idxs = df[df.cdno == cd].index\n",
    "    rocs[cd] = np.mean(np.array(aucs)[idxs])\n",
    "print rocs"
   ]
  },
  {
   "cell_type": "code",
   "execution_count": null,
   "metadata": {
    "collapsed": true
   },
   "outputs": [],
   "source": []
  }
 ],
 "metadata": {
  "kernelspec": {
   "display_name": "Python 2",
   "language": "python",
   "name": "python2"
  },
  "language_info": {
   "codemirror_mode": {
    "name": "ipython",
    "version": 2
   },
   "file_extension": ".py",
   "mimetype": "text/x-python",
   "name": "python",
   "nbconvert_exporter": "python",
   "pygments_lexer": "ipython2",
   "version": "2.7.14"
  }
 },
 "nbformat": 4,
 "nbformat_minor": 2
}
