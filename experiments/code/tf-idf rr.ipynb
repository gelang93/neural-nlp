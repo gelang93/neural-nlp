{
 "cells": [
  {
   "cell_type": "code",
   "execution_count": 1,
   "metadata": {
    "collapsed": true
   },
   "outputs": [],
   "source": [
    "import pandas as pd\n",
    "df = pd.read_csv('cohen_data_annotate.csv')"
   ]
  },
  {
   "cell_type": "code",
   "execution_count": 2,
   "metadata": {
    "collapsed": true
   },
   "outputs": [],
   "source": [
    "import json\n",
    "text = json.load(open('rrcohen.json'))"
   ]
  },
  {
   "cell_type": "code",
   "execution_count": 3,
   "metadata": {
    "collapsed": true
   },
   "outputs": [],
   "source": [
    "df['rr'] = df['rr'].apply(json.loads)"
   ]
  },
  {
   "cell_type": "code",
   "execution_count": 4,
   "metadata": {
    "collapsed": true
   },
   "outputs": [],
   "source": [
    "ann = df['rr'].apply(lambda s : \" \".join([\" \".join(x['text']) for x in s['pico_text']]))"
   ]
  },
  {
   "cell_type": "code",
   "execution_count": 5,
   "metadata": {
    "collapsed": true
   },
   "outputs": [],
   "source": [
    "asp_rr = {'Population':[], 'Intervention' : [], 'Outcomes' : []}\n",
    "for r in df['rr'] :\n",
    "    pt = r['pico_text']\n",
    "    for a in pt :\n",
    "        asp_rr[a['domain']].append(\" \".join(a['text']))"
   ]
  },
  {
   "cell_type": "code",
   "execution_count": 6,
   "metadata": {
    "collapsed": true
   },
   "outputs": [],
   "source": [
    "import spacy\n",
    "nlp = spacy.load('en')"
   ]
  },
  {
   "cell_type": "code",
   "execution_count": 7,
   "metadata": {
    "collapsed": true
   },
   "outputs": [],
   "source": [
    "def tokenizer(sent) :\n",
    "    text = [token.text for token in nlp(sent)]\n",
    "    text = ['qqq' if any(char.isdigit() for char in word) else word for word in text]\n",
    "    return text"
   ]
  },
  {
   "cell_type": "code",
   "execution_count": 8,
   "metadata": {
    "collapsed": true
   },
   "outputs": [],
   "source": [
    "from sklearn.feature_extraction.text import TfidfVectorizer"
   ]
  },
  {
   "cell_type": "code",
   "execution_count": 10,
   "metadata": {
    "collapsed": true
   },
   "outputs": [],
   "source": [
    "tfidf = TfidfVectorizer(tokenizer=tokenizer, min_df=5)"
   ]
  },
  {
   "cell_type": "code",
   "execution_count": 11,
   "metadata": {
    "collapsed": true
   },
   "outputs": [],
   "source": [
    "X_tf = tfidf.fit_transform(ann)"
   ]
  },
  {
   "cell_type": "code",
   "execution_count": 18,
   "metadata": {
    "collapsed": true
   },
   "outputs": [],
   "source": [
    "asp_vec = {}\n",
    "for k in asp_rr :\n",
    "    tfidf_a = TfidfVectorizer(tokenizer=tokenizer, min_df=2)\n",
    "    asp_tf = tfidf_a.fit_transform(asp_rr[k])\n",
    "    asp_vec[k] = asp_tf"
   ]
  },
  {
   "cell_type": "code",
   "execution_count": 13,
   "metadata": {
    "collapsed": true
   },
   "outputs": [],
   "source": [
    "from scipy.sparse import hstack\n",
    "from sklearn.preprocessing import normalize\n",
    "for k in asp_vec :\n",
    "    asp_vec[k] = normalize(asp_vec[k], 'l2')\n",
    "X_tf = hstack(asp_vec.values())"
   ]
  },
  {
   "cell_type": "code",
   "execution_count": 14,
   "metadata": {
    "collapsed": true
   },
   "outputs": [],
   "source": [
    "from sklearn.metrics.pairwise import linear_kernel as cosine_similarity\n",
    "scores = cosine_similarity(X=X_tf)"
   ]
  },
  {
   "cell_type": "code",
   "execution_count": 15,
   "metadata": {
    "collapsed": true
   },
   "outputs": [],
   "source": [
    "import numpy as np\n",
    "nb_studies = len(df)\n",
    "H = np.zeros((nb_studies, nb_studies))\n",
    "\n",
    "cdnos = list(set(df.cdno))\n",
    "for i in range(nb_studies) :\n",
    "    H[i, df[df['cdno'] == df['cdno'][i]].index] = 1\n",
    "\n",
    "H[np.arange(nb_studies), np.arange(nb_studies)] = 0\n",
    "scores[np.arange(nb_studies), np.arange(nb_studies)] = -1000"
   ]
  },
  {
   "cell_type": "code",
   "execution_count": 36,
   "metadata": {},
   "outputs": [
    {
     "name": "stdout",
     "output_type": "stream",
     "text": [
      "0.686700594731\n",
      "{'NSAIDS_processed': 0.74337138475455888, 'ACEInhibitors_processed': 0.67083486778894386, 'SkeletalMuscleRelaxants_processed': 0.56547558067649917, 'Triptans_processed': 0.80534423525497489, 'OralHypoglycemics_processed': 0.716773891692284, 'CalciumChannelBlockers_processed': 0.57539308236954123, 'BetaBlockers_processed': 0.56452966361604173, 'Estrogens_processed': 0.82437828443745609, 'ADHD_processed': 0.84716904503960033, 'Statins_processed': 0.67557677417417661, 'Antihistamines_processed': 0.71702929443082908, 'ProtonPumpInhibitors_processed': 0.67769628791826686, 'Opiods_processed': 0.75935536034572848, 'AtypicalAntipsychotics_processed': 0.62892217075446422}\n"
     ]
    }
   ],
   "source": [
    "from sklearn.metrics import roc_auc_score\n",
    "aucs = [0] * nb_studies\n",
    "for i in range(nb_studies) :\n",
    "    aucs[i] = roc_auc_score(H[i], scores[i])\n",
    "print(np.mean(aucs))\n",
    "rocs = {}\n",
    "for cd in cdnos :\n",
    "    idxs = df[df.cdno == cd].index\n",
    "    rocs[cd] = np.mean(np.array(aucs)[idxs])\n",
    "print pd.Series(rocs)"
   ]
  },
  {
   "cell_type": "code",
   "execution_count": 1,
   "metadata": {},
   "outputs": [
    {
     "data": {
      "text/plain": [
       "ACEInhibitors_processed              0.670835\n",
       "ADHD_processed                       0.847169\n",
       "Antihistamines_processed             0.717029\n",
       "AtypicalAntipsychotics_processed     0.628922\n",
       "BetaBlockers_processed               0.564530\n",
       "CalciumChannelBlockers_processed     0.575393\n",
       "Estrogens_processed                  0.824378\n",
       "NSAIDS_processed                     0.743371\n",
       "Opiods_processed                     0.759355\n",
       "OralHypoglycemics_processed          0.716774\n",
       "ProtonPumpInhibitors_processed       0.677696\n",
       "SkeletalMuscleRelaxants_processed    0.565476\n",
       "Statins_processed                    0.675577\n",
       "Triptans_processed                   0.805344\n",
       "dtype: float64"
      ]
     },
     "execution_count": 1,
     "metadata": {},
     "output_type": "execute_result"
    }
   ],
   "source": [
    "dic = eval(\"{'NSAIDS_processed': 0.74337138475455888, 'ACEInhibitors_processed': 0.67083486778894386, 'SkeletalMuscleRelaxants_processed': 0.56547558067649917, 'Triptans_processed': 0.80534423525497489, 'OralHypoglycemics_processed': 0.716773891692284, 'CalciumChannelBlockers_processed': 0.57539308236954123, 'BetaBlockers_processed': 0.56452966361604173, 'Estrogens_processed': 0.82437828443745609, 'ADHD_processed': 0.84716904503960033, 'Statins_processed': 0.67557677417417661, 'Antihistamines_processed': 0.71702929443082908, 'ProtonPumpInhibitors_processed': 0.67769628791826686, 'Opiods_processed': 0.75935536034572848, 'AtypicalAntipsychotics_processed': 0.62892217075446422}\")\n",
    "import pandas as pd\n",
    "pd.Series(dic)"
   ]
  },
  {
   "cell_type": "code",
   "execution_count": 17,
   "metadata": {},
   "outputs": [
    {
     "data": {
      "text/plain": [
       "1919"
      ]
     },
     "execution_count": 17,
     "metadata": {},
     "output_type": "execute_result"
    }
   ],
   "source": []
  },
  {
   "cell_type": "code",
   "execution_count": null,
   "metadata": {
    "collapsed": true
   },
   "outputs": [],
   "source": []
  }
 ],
 "metadata": {
  "kernelspec": {
   "display_name": "Python 2",
   "language": "python",
   "name": "python2"
  },
  "language_info": {
   "codemirror_mode": {
    "name": "ipython",
    "version": 2
   },
   "file_extension": ".py",
   "mimetype": "text/x-python",
   "name": "python",
   "nbconvert_exporter": "python",
   "pygments_lexer": "ipython2",
   "version": "2.7.14"
  }
 },
 "nbformat": 4,
 "nbformat_minor": 2
}
