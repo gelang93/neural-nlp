{
 "cells": [
  {
   "cell_type": "raw",
   "metadata": {},
   "source": [
    "What Works (Disentangle):\n",
    "1) SAP - SPP - VPP - CPP - SIP - SOP\n",
    "\n",
    "What doesn't work (Disentangle):\n",
    "1) SAP - SPP - VPP - CPP - SII - SOO (+/- Disentangle)\n",
    "2) SAP - SPP - VPP - CPP (+/- Disentangle)\n",
    "\n",
    "Middle ground :\n",
    "1) SAP - SPP - VPP - CPP - SIP - SOP - VAP - CAP , SAE-VAE-CAE-SPE-SIE-SOE"
   ]
  },
  {
   "cell_type": "markdown",
   "metadata": {
    "collapsed": true
   },
   "source": [
    "Does each embedding reside in different vector space ?"
   ]
  },
  {
   "cell_type": "markdown",
   "metadata": {},
   "source": [
    "If it does, does difference between embeddings of 2 aspects even make sense ?"
   ]
  },
  {
   "cell_type": "markdown",
   "metadata": {},
   "source": [
    "How do we define whether embedding capture aspect ?\n",
    "A - Through focusing"
   ]
  },
  {
   "cell_type": "markdown",
   "metadata": {},
   "source": [
    "How can we enforce coverage ? =? definition of coverage"
   ]
  },
  {
   "cell_type": "raw",
   "metadata": {},
   "source": [
    "Comes back to same point - linking vector spaces ?"
   ]
  },
  {
   "cell_type": "raw",
   "metadata": {
    "collapsed": true
   },
   "source": [
    "Ideas to try :\n",
    "1) orthogonality (Orthogonal condition on what ?)\n",
    "2) softmax pooling\n",
    "3) LSTM (with ATT specific - Check softmax ? ) - Too Slow ? Do What ?  Multi Att /per aspect\n",
    "4) Hinge Loss max(1 - yt * yp, 0) => If yp = 0, yt = 1, loss = 1, yp = inf, yt = -1, loss = inf\n",
    "5) Problem with filter sizes (300 good , 200 bad) or problem with model ?\n",
    "6) Parametric loss \n",
    "7) sentiment (2 types of tripls) - (+a+a-a, +a+a+a')"
   ]
  },
  {
   "cell_type": "code",
   "execution_count": 1,
   "metadata": {},
   "outputs": [
    {
     "name": "stderr",
     "output_type": "stream",
     "text": [
      "Using TensorFlow backend.\n"
     ]
    }
   ],
   "source": [
    "import sys\n",
    "sys.path.insert(0, '../../preprocess')\n",
    "import vectorizer\n",
    "import cPickle\n",
    "import numpy as np"
   ]
  },
  {
   "cell_type": "code",
   "execution_count": 2,
   "metadata": {
    "collapsed": true
   },
   "outputs": [],
   "source": [
    "vec = cPickle.load(open('../data/vectorizers/allfields_with_embedding_5000.p'))"
   ]
  },
  {
   "cell_type": "code",
   "execution_count": 3,
   "metadata": {
    "collapsed": true
   },
   "outputs": [],
   "source": [
    "X = vec.X"
   ]
  },
  {
   "cell_type": "code",
   "execution_count": 14,
   "metadata": {},
   "outputs": [
    {
     "data": {
      "text/plain": [
       "(38735329, 56157696)"
      ]
     },
     "execution_count": 14,
     "metadata": {},
     "output_type": "execute_result"
    }
   ],
   "source": [
    "sum(sum(X == 0)), X.shape[0]*X.shape[1]"
   ]
  },
  {
   "cell_type": "code",
   "execution_count": 5,
   "metadata": {},
   "outputs": [
    {
     "data": {
      "text/plain": [
       "0.68975993958156689"
      ]
     },
     "execution_count": 5,
     "metadata": {},
     "output_type": "execute_result"
    }
   ],
   "source": [
    "sum(sum(X == 0))/float(X.shape[0]*X.shape[1])"
   ]
  },
  {
   "cell_type": "code",
   "execution_count": 38,
   "metadata": {},
   "outputs": [
    {
     "data": {
      "text/plain": [
       "0.87627825756954136"
      ]
     },
     "execution_count": 38,
     "metadata": {},
     "output_type": "execute_result"
    }
   ],
   "source": [
    "ran = vec.index['outcome']\n",
    "X_abs = X[ran[0]:ran[1], :]\n",
    "sum(sum(X_abs == 0))/float(X_abs.shape[0] * X_abs.shape[1])"
   ]
  },
  {
   "cell_type": "code",
   "execution_count": 39,
   "metadata": {},
   "outputs": [
    {
     "data": {
      "image/png": "[encoded data removed]",
      "text/plain": [
       "<matplotlib.figure.Figure at 0x7f9b94e73150>"
      ]
     },
     "metadata": {},
     "output_type": "display_data"
    }
   ],
   "source": [
    "import matplotlib.pyplot as plt\n",
    "plt.hist((X_abs > 0).sum(axis=1), cumulative=True)\n",
    "plt.show()"
   ]
  },
  {
   "cell_type": "code",
   "execution_count": 43,
   "metadata": {
    "collapsed": true
   },
   "outputs": [],
   "source": [
    "zeros = 0\n",
    "total = 0\n",
    "for aspect in ['population', 'intervention', 'outcome'] :\n",
    "    ran = vec.index[aspect]\n",
    "    X_abs = X[ran[0]:ran[1], :]\n",
    "    zeros += sum(sum(X_abs == 0))\n",
    "    total += float(X_abs.shape[0] * X_abs.shape[1])"
   ]
  },
  {
   "cell_type": "code",
   "execution_count": 44,
   "metadata": {},
   "outputs": [
    {
     "data": {
      "text/plain": [
       "0.83325244207549631"
      ]
     },
     "execution_count": 44,
     "metadata": {},
     "output_type": "execute_result"
    }
   ],
   "source": [
    "zeros/float(total)"
   ]
  },
  {
   "cell_type": "code",
   "execution_count": 50,
   "metadata": {},
   "outputs": [
    {
     "data": {
      "text/plain": [
       "0.5535714285714286"
      ]
     },
     "execution_count": 50,
     "metadata": {},
     "output_type": "execute_result"
    }
   ],
   "source": [
    "zeros_n = 0\n",
    "total_n = 0\n",
    "for aspect in ['population', 'intervention', 'outcome'] :\n",
    "    ran = vec.index[aspect]\n",
    "    X_abs = X[ran[0]:ran[1], -150:]\n",
    "    zeros_n += sum(sum(X_abs == 0))\n",
    "    total_n += float(X_abs.shape[0] * X_abs.shape[1])\n",
    "(total - total_n)/total    "
   ]
  },
  {
   "cell_type": "raw",
   "metadata": {
    "collapsed": true
   },
   "source": [
    "Methods Gated : \n",
    "1) Linear + softmax + (1-4)-cnn + sum/norm + conloss (+1 margin)"
   ]
  }
 ],
 "metadata": {
  "kernelspec": {
   "display_name": "Python 2",
   "language": "python",
   "name": "python2"
  },
  "language_info": {
   "codemirror_mode": {
    "name": "ipython",
    "version": 2
   },
   "file_extension": ".py",
   "mimetype": "text/x-python",
   "name": "python",
   "nbconvert_exporter": "python",
   "pygments_lexer": "ipython2",
   "version": "2.7.14"
  }
 },
 "nbformat": 4,
 "nbformat_minor": 2
}
