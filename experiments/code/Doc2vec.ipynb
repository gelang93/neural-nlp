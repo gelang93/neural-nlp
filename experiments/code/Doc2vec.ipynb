{
 "cells": [
  {
   "cell_type": "code",
   "execution_count": 1,
   "metadata": {
    "collapsed": true
   },
   "outputs": [],
   "source": [
    "from gensim.models.doc2vec import *"
   ]
  },
  {
   "cell_type": "code",
   "execution_count": 2,
   "metadata": {
    "collapsed": true
   },
   "outputs": [],
   "source": [
    "model = Doc2Vec.load('../store/doc2vec_model_800_pico_19k.mod')"
   ]
  },
  {
   "cell_type": "code",
   "execution_count": 5,
   "metadata": {},
   "outputs": [],
   "source": [
    "import cPickle\n",
    "import sys\n",
    "sys.path.insert(0, '../../preprocess')\n",
    "import vectorizer\n",
    "cohen_vec = cPickle.load(open('../../preprocess/cohendata_dedup_19995.p'))"
   ]
  },
  {
   "cell_type": "code",
   "execution_count": 6,
   "metadata": {
    "collapsed": true
   },
   "outputs": [],
   "source": [
    "X = cohen_vec\n",
    "X = map(lambda s : [cohen_vec.idx2word[t] for t in s if t > 0], X)"
   ]
  },
  {
   "cell_type": "code",
   "execution_count": 7,
   "metadata": {
    "collapsed": true
   },
   "outputs": [],
   "source": [
    "embedds = []\n",
    "for sent in X :\n",
    "    embedds.append(model.infer_vector(sent))"
   ]
  },
  {
   "cell_type": "code",
   "execution_count": 8,
   "metadata": {},
   "outputs": [
    {
     "data": {
      "text/plain": [
       "(1767, 800)"
      ]
     },
     "execution_count": 8,
     "metadata": {},
     "output_type": "execute_result"
    }
   ],
   "source": [
    "import numpy as np\n",
    "embedds = np.array(embedds)\n",
    "embedds.shape"
   ]
  },
  {
   "cell_type": "code",
   "execution_count": 9,
   "metadata": {
    "collapsed": true
   },
   "outputs": [],
   "source": [
    "import pandas as pd\n",
    "df = pd.read_csv('../data/files/test_cohen_dedup.csv')\n",
    "\n",
    "nb_studies = len(df)\n",
    "H = np.zeros((nb_studies, nb_studies))\n",
    "\n",
    "cdnos = list(set(df.cdno))\n",
    "for i in range(nb_studies) :\n",
    "    H[i, df[df['cdno'] == df['cdno'][i]].index] = 1\n",
    "    \n",
    "H[np.arange(nb_studies), np.arange(nb_studies)] = 0"
   ]
  },
  {
   "cell_type": "code",
   "execution_count": 10,
   "metadata": {
    "collapsed": true
   },
   "outputs": [],
   "source": [
    "from sklearn.preprocessing import normalize\n",
    "embedds_n = normalize(embedds, 'l2')\n",
    "scores = np.dot(embedds_n, embedds_n.T)\n",
    "scores[np.arange(nb_studies), np.arange(nb_studies)] = -1000"
   ]
  },
  {
   "cell_type": "code",
   "execution_count": 12,
   "metadata": {},
   "outputs": [
    {
     "name": "stdout",
     "output_type": "stream",
     "text": [
      "0.7389371083\n",
      "{'NSAIDS_processed': 0.7872756659133453, 'ACEInhibitors_processed': 0.73844739355009292, 'SkeletalMuscleRelaxants_processed': 0.6415605404928022, 'Triptans_processed': 0.80936259771742181, 'OralHypoglycemics_processed': 0.77099336852077427, 'CalciumChannelBlockers_processed': 0.56199492059349709, 'BetaBlockers_processed': 0.66646017698021975, 'Estrogens_processed': 0.82345415925297594, 'ADHD_processed': 0.79772319503872524, 'Statins_processed': 0.6920554701017203, 'Antihistamines_processed': 0.68134475826551733, 'ProtonPumpInhibitors_processed': 0.76259864910728814, 'Opiods_processed': 0.74809676303190364, 'AtypicalAntipsychotics_processed': 0.82449444638009972}\n"
     ]
    }
   ],
   "source": [
    "from sklearn.metrics import roc_auc_score\n",
    "aucs = [0] * nb_studies\n",
    "for i in range(nb_studies) :\n",
    "    aucs[i] = roc_auc_score(H[i], scores[i])\n",
    "print np.mean(aucs)\n",
    "rocs = {}\n",
    "for cd in cdnos :\n",
    "    idxs = df[df.cdno == cd].index\n",
    "    rocs[cd] = np.mean(np.array(aucs)[idxs])\n",
    "print rocs"
   ]
  },
  {
   "cell_type": "code",
   "execution_count": 1,
   "metadata": {},
   "outputs": [
    {
     "data": {
      "text/plain": [
       "ACEInhibitors_processed              0.738447\n",
       "ADHD_processed                       0.797723\n",
       "Antihistamines_processed             0.681345\n",
       "AtypicalAntipsychotics_processed     0.824494\n",
       "BetaBlockers_processed               0.666460\n",
       "CalciumChannelBlockers_processed     0.561995\n",
       "Estrogens_processed                  0.823454\n",
       "NSAIDS_processed                     0.787276\n",
       "Opiods_processed                     0.748097\n",
       "OralHypoglycemics_processed          0.770993\n",
       "ProtonPumpInhibitors_processed       0.762599\n",
       "SkeletalMuscleRelaxants_processed    0.641561\n",
       "Statins_processed                    0.692055\n",
       "Triptans_processed                   0.809363\n",
       "dtype: float64"
      ]
     },
     "execution_count": 1,
     "metadata": {},
     "output_type": "execute_result"
    }
   ],
   "source": [
    "dic = eval(\"{'NSAIDS_processed': 0.7872756659133453, 'ACEInhibitors_processed': 0.73844739355009292, 'SkeletalMuscleRelaxants_processed': 0.6415605404928022, 'Triptans_processed': 0.80936259771742181, 'OralHypoglycemics_processed': 0.77099336852077427, 'CalciumChannelBlockers_processed': 0.56199492059349709, 'BetaBlockers_processed': 0.66646017698021975, 'Estrogens_processed': 0.82345415925297594, 'ADHD_processed': 0.79772319503872524, 'Statins_processed': 0.6920554701017203, 'Antihistamines_processed': 0.68134475826551733, 'ProtonPumpInhibitors_processed': 0.76259864910728814, 'Opiods_processed': 0.74809676303190364, 'AtypicalAntipsychotics_processed': 0.82449444638009972}\")\n",
    "import pandas as pd\n",
    "pd.Series(dic)"
   ]
  },
  {
   "cell_type": "code",
   "execution_count": 11,
   "metadata": {},
   "outputs": [
    {
     "name": "stdout",
     "output_type": "stream",
     "text": [
      "0.75958038059\n",
      "{'NSAIDS_processed': 0.7705994362013846, 'ACEInhibitors_processed': 0.73610855860322055, 'SkeletalMuscleRelaxants_processed': 0.6725699902852601, 'Triptans_processed': 0.82250326078243707, 'OralHypoglycemics_processed': 0.7994939968679311, 'CalciumChannelBlockers_processed': 0.59676833957431563, 'BetaBlockers_processed': 0.64797593016393429, 'Estrogens_processed': 0.84879385900095961, 'ADHD_processed': 0.8239528068801184, 'Statins_processed': 0.75674381637338306, 'Antihistamines_processed': 0.72972267978495309, 'ProtonPumpInhibitors_processed': 0.79289752229497823, 'Opiods_processed': 0.7482198087759685, 'AtypicalAntipsychotics_processed': 0.85134268180028361}\n"
     ]
    }
   ],
   "source": [
    "from sklearn.metrics import roc_auc_score\n",
    "aucs = [0] * nb_studies\n",
    "for i in range(nb_studies) :\n",
    "    aucs[i] = roc_auc_score(H[i], scores[i])\n",
    "print np.mean(aucs)\n",
    "rocs = {}\n",
    "for cd in cdnos :\n",
    "    idxs = df[df.cdno == cd].index\n",
    "    rocs[cd] = np.mean(np.array(aucs)[idxs])\n",
    "print rocs"
   ]
  },
  {
   "cell_type": "code",
   "execution_count": null,
   "metadata": {
    "collapsed": true
   },
   "outputs": [],
   "source": []
  }
 ],
 "metadata": {
  "kernelspec": {
   "display_name": "Python 2",
   "language": "python",
   "name": "python2"
  },
  "language_info": {
   "codemirror_mode": {
    "name": "ipython",
    "version": 2
   },
   "file_extension": ".py",
   "mimetype": "text/x-python",
   "name": "python",
   "nbconvert_exporter": "python",
   "pygments_lexer": "ipython2",
   "version": "2.7.14"
  }
 },
 "nbformat": 4,
 "nbformat_minor": 2
}
