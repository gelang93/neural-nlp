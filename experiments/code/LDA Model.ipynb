{
 "cells": [
  {
   "cell_type": "code",
   "execution_count": 2,
   "metadata": {},
   "outputs": [],
   "source": [
    "import cPickle\n",
    "import sys\n",
    "sys.path.insert(0, '../../preprocess')\n",
    "import vectorizer\n",
    "\n",
    "vec = cPickle.load(open('../../preprocess/allfields_with_embedding_19995.p', 'rb'))\n",
    "cohen_vec = cPickle.load(open('../../preprocess/cohendata_dedup_19995.p'))\n",
    "#da_vec = cPickle.load(open('../data/vectorizers/decision_aids_vec_5000.p'))"
   ]
  },
  {
   "cell_type": "code",
   "execution_count": 4,
   "metadata": {
    "collapsed": true
   },
   "outputs": [],
   "source": [
    "import pandas as pd\n",
    "import numpy as np\n",
    "df = pd.read_csv('../data/files/test_cohen_dedup.csv')\n",
    "\n",
    "nb_studies = len(df)\n",
    "H = np.zeros((nb_studies, nb_studies))\n",
    "\n",
    "cdnos = list(set(df.cdno))\n",
    "for i in range(nb_studies) :\n",
    "    H[i, df[df['cdno'] == df['cdno'][i]].index] = 1\n",
    "    \n",
    "H[np.arange(nb_studies), np.arange(nb_studies)] = 0"
   ]
  },
  {
   "cell_type": "code",
   "execution_count": 5,
   "metadata": {
    "collapsed": true
   },
   "outputs": [],
   "source": [
    "index = vec.index['abstract']\n",
    "vec.X = vec.X[index[0]:index[1]]\n",
    "train_X = vec.X\n",
    "train_X = map(lambda s : [vec.idx2word[t] for t in s if t > 1], train_X)"
   ]
  },
  {
   "cell_type": "code",
   "execution_count": 6,
   "metadata": {
    "collapsed": true
   },
   "outputs": [],
   "source": [
    "test_X = cohen_vec.X\n",
    "test_X = map(lambda s : [vec.idx2word[t] for t in s if t > 1], test_X)"
   ]
  },
  {
   "cell_type": "code",
   "execution_count": 7,
   "metadata": {
    "collapsed": true
   },
   "outputs": [],
   "source": [
    "from sklearn.feature_extraction.text import TfidfVectorizer\n",
    "tfidf = TfidfVectorizer(tokenizer=lambda i:i, lowercase=False)\n",
    "train_TF = tfidf.fit_transform(train_X)"
   ]
  },
  {
   "cell_type": "code",
   "execution_count": 8,
   "metadata": {},
   "outputs": [],
   "source": [
    "test_TF = tfidf.transform(test_X)\n",
    "from sklearn.metrics.pairwise import cosine_similarity"
   ]
  },
  {
   "cell_type": "code",
   "execution_count": 9,
   "metadata": {
    "collapsed": true
   },
   "outputs": [],
   "source": [
    "from sklearn.preprocessing import normalize\n",
    "# embedds_n = normalize(np.array(test_TF.todense()), 'l2')\n",
    "# scores = np.dot(embedds_n, embedds_n.T)\n",
    "scores = cosine_similarity(test_TF)\n",
    "scores[np.arange(nb_studies), np.arange(nb_studies)] = -1000"
   ]
  },
  {
   "cell_type": "code",
   "execution_count": 26,
   "metadata": {},
   "outputs": [
    {
     "name": "stdout",
     "output_type": "stream",
     "text": [
      "0.775436690503\n",
      "                                          0\n",
      "ACEInhibitors_processed            0.771045\n",
      "ADHD_processed                     0.776352\n",
      "Antihistamines_processed           0.736155\n",
      "AtypicalAntipsychotics_processed   0.746382\n",
      "BetaBlockers_processed             0.658662\n",
      "CalciumChannelBlockers_processed   0.660590\n",
      "Estrogens_processed                0.850782\n",
      "NSAIDS_processed                   0.826040\n",
      "Opiods_processed                   0.814721\n",
      "OralHypoglycemics_processed        0.829010\n",
      "ProtonPumpInhibitors_processed     0.816751\n",
      "SkeletalMuscleRelaxants_processed  0.579367\n",
      "Statins_processed                  0.757510\n",
      "Triptans_processed                 0.930586\n"
     ]
    }
   ],
   "source": [
    "from sklearn.metrics import roc_auc_score\n",
    "aucs = [0] * nb_studies\n",
    "for i in range(nb_studies) :\n",
    "    aucs[i] = roc_auc_score(H[i], scores[i])\n",
    "print np.mean(aucs)\n",
    "rocs = {}\n",
    "for cd in cdnos :\n",
    "    idxs = df[df.cdno == cd].index\n",
    "    rocs[cd] = np.mean(np.array(aucs)[idxs])\n",
    "print pd.DataFrame(pd.Series(rocs))"
   ]
  },
  {
   "cell_type": "code",
   "execution_count": null,
   "metadata": {},
   "outputs": [],
   "source": [
    "from sklearn.decomposition import TruncatedSVD\n",
    "lsa = TruncatedSVD(n_components=800, algorithm='arpack', tol=0.00001)\n",
    "train_lsa = lsa.fit_transform(train_TF)"
   ]
  },
  {
   "cell_type": "code",
   "execution_count": null,
   "metadata": {
    "collapsed": true
   },
   "outputs": [],
   "source": [
    "test_lsa = lsa.transform(test_TF)"
   ]
  },
  {
   "cell_type": "code",
   "execution_count": null,
   "metadata": {
    "collapsed": true
   },
   "outputs": [],
   "source": [
    "from sklearn.preprocessing import normalize\n",
    "embedds_n = normalize(np.array(test_lsa.todense()), 'l2')\n",
    "scores = np.dot(embedds_n, embedds_n.T)\n",
    "scores[np.arange(nb_studies), np.arange(nb_studies)] = -1000"
   ]
  },
  {
   "cell_type": "code",
   "execution_count": null,
   "metadata": {
    "collapsed": true
   },
   "outputs": [],
   "source": [
    "from sklearn.metrics import roc_auc_score\n",
    "aucs = [0] * nb_studies\n",
    "for i in range(nb_studies) :\n",
    "    aucs[i] = roc_auc_score(H[i], scores[i])\n",
    "print np.mean(aucs)\n",
    "rocs = {}\n",
    "for cd in cdnos :\n",
    "    idxs = df[df.cdno == cd].index\n",
    "    rocs[cd] = np.mean(np.array(aucs)[idxs])\n",
    "print rocs"
   ]
  },
  {
   "cell_type": "code",
   "execution_count": 11,
   "metadata": {
    "collapsed": true
   },
   "outputs": [],
   "source": [
    "from sklearn.feature_extraction.text import CountVectorizer\n",
    "count = CountVectorizer(tokenizer=lambda i:i, lowercase=False)\n",
    "train_C = count.fit_transform(train_X)\n",
    "test_C = count.transform(test_X)"
   ]
  },
  {
   "cell_type": "code",
   "execution_count": 17,
   "metadata": {
    "collapsed": true
   },
   "outputs": [],
   "source": [
    "from sklearn.decomposition import LatentDirichletAllocation\n",
    "lda = LatentDirichletAllocation(n_components=20)"
   ]
  },
  {
   "cell_type": "code",
   "execution_count": 18,
   "metadata": {},
   "outputs": [
    {
     "name": "stderr",
     "output_type": "stream",
     "text": [
      "/home/sarthak/anaconda2/lib/python2.7/site-packages/sklearn/decomposition/online_lda.py:536: DeprecationWarning: The default value for 'learning_method' will be changed from 'online' to 'batch' in the release 0.20. This warning was introduced in 0.18.\n",
      "  DeprecationWarning)\n"
     ]
    }
   ],
   "source": [
    "train_lda = lda.fit_transform(train_C)"
   ]
  },
  {
   "cell_type": "code",
   "execution_count": 19,
   "metadata": {
    "collapsed": true
   },
   "outputs": [],
   "source": [
    "test_lda = lda.transform(test_C)"
   ]
  },
  {
   "cell_type": "code",
   "execution_count": 20,
   "metadata": {
    "collapsed": true
   },
   "outputs": [],
   "source": [
    "from sklearn.preprocessing import normalize\n",
    "embedds_n = normalize(test_lda, 'l2')\n",
    "scores = np.dot(embedds_n, embedds_n.T)\n",
    "scores[np.arange(nb_studies), np.arange(nb_studies)] = -1000\n",
    "scores = np.array(scores)"
   ]
  },
  {
   "cell_type": "code",
   "execution_count": 33,
   "metadata": {},
   "outputs": [
    {
     "name": "stdout",
     "output_type": "stream",
     "text": [
      "0.727338114753\n",
      "ACEInhibitors_processed              0.723784\n",
      "ADHD_processed                       0.832570\n",
      "Antihistamines_processed             0.670235\n",
      "AtypicalAntipsychotics_processed     0.877819\n",
      "BetaBlockers_processed               0.614932\n",
      "CalciumChannelBlockers_processed     0.665315\n",
      "Estrogens_processed                  0.598639\n",
      "NSAIDS_processed                     0.725580\n",
      "Opiods_processed                     0.799238\n",
      "OralHypoglycemics_processed          0.695005\n",
      "ProtonPumpInhibitors_processed       0.735092\n",
      "SkeletalMuscleRelaxants_processed    0.741728\n",
      "Statins_processed                    0.661741\n",
      "Triptans_processed                   0.826750\n",
      "dtype: float64\n"
     ]
    }
   ],
   "source": [
    "#10 LDA\n",
    "from sklearn.metrics import roc_auc_score\n",
    "aucs = [0] * nb_studies\n",
    "for i in range(nb_studies) :\n",
    "    aucs[i] = roc_auc_score(H[i], scores[i])\n",
    "print np.mean(aucs)\n",
    "rocs = {}\n",
    "for cd in cdnos :\n",
    "    idxs = df[df.cdno == cd].index\n",
    "    rocs[cd] = np.mean(np.array(aucs)[idxs])\n",
    "print pd.Series(rocs)"
   ]
  },
  {
   "cell_type": "code",
   "execution_count": 10,
   "metadata": {},
   "outputs": [
    {
     "name": "stdout",
     "output_type": "stream",
     "text": [
      "0.790149201688\n",
      "                                          0\n",
      "ACEInhibitors_processed            0.809715\n",
      "ADHD_processed                     0.896114\n",
      "Antihistamines_processed           0.810739\n",
      "AtypicalAntipsychotics_processed   0.746003\n",
      "BetaBlockers_processed             0.672498\n",
      "CalciumChannelBlockers_processed   0.665070\n",
      "Estrogens_processed                0.874923\n",
      "NSAIDS_processed                   0.848748\n",
      "Opiods_processed                   0.812200\n",
      "OralHypoglycemics_processed        0.786787\n",
      "ProtonPumpInhibitors_processed     0.809734\n",
      "SkeletalMuscleRelaxants_processed  0.596118\n",
      "Statins_processed                  0.788765\n",
      "Triptans_processed                 0.924097\n"
     ]
    }
   ],
   "source": [
    "#TFIDF 19K\n",
    "from sklearn.metrics import roc_auc_score\n",
    "aucs = [0] * nb_studies\n",
    "for i in range(nb_studies) :\n",
    "    aucs[i] = roc_auc_score(H[i], scores[i])\n",
    "print np.mean(aucs)\n",
    "rocs = {}\n",
    "for cd in cdnos :\n",
    "    idxs = df[df.cdno == cd].index\n",
    "    rocs[cd] = np.mean(np.array(aucs)[idxs])\n",
    "print pd.DataFrame(pd.Series(rocs))"
   ]
  },
  {
   "cell_type": "code",
   "execution_count": null,
   "metadata": {
    "collapsed": true
   },
   "outputs": [],
   "source": []
  }
 ],
 "metadata": {
  "kernelspec": {
   "display_name": "Python 2",
   "language": "python",
   "name": "python2"
  },
  "language_info": {
   "codemirror_mode": {
    "name": "ipython",
    "version": 2
   },
   "file_extension": ".py",
   "mimetype": "text/x-python",
   "name": "python",
   "nbconvert_exporter": "python",
   "pygments_lexer": "ipython2",
   "version": "2.7.14"
  }
 },
 "nbformat": 4,
 "nbformat_minor": 2
}
