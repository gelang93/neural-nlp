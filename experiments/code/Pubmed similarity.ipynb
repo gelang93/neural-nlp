{
 "cells": [
  {
   "cell_type": "code",
   "execution_count": 28,
   "metadata": {},
   "outputs": [],
   "source": [
    "from keras.models  import load_model\n",
    "import keras.backend as K\n",
    "\n",
    "import cPickle\n",
    "import sys\n",
    "sys.path.insert(0, '../../preprocess')\n",
    "import vectorizer\n",
    "\n",
    "from sklearn.preprocessing import normalize\n",
    "from sklearn.metrics.pairwise import cosine_similarity\n",
    "import pandas as pd\n",
    "import numpy as np\n",
    "\n",
    "aspects = ['population', 'intervention', 'outcome']"
   ]
  },
  {
   "cell_type": "code",
   "execution_count": 2,
   "metadata": {
    "collapsed": true
   },
   "outputs": [],
   "source": [
    "pubmed_data = cPickle.load(open('../../preprocess/pubmed_vec_5000.p'))"
   ]
  },
  {
   "cell_type": "code",
   "execution_count": 5,
   "metadata": {},
   "outputs": [],
   "source": [
    "file_model = '../store/weights/single_setup/TueOct1717:12:052017/loss.h5'\n",
    "model = load_model(file_model)"
   ]
  },
  {
   "cell_type": "code",
   "execution_count": 8,
   "metadata": {},
   "outputs": [],
   "source": [
    "model_aspect = {}\n",
    "for aspect in aspects :\n",
    "    model_aspect[aspect] = K.function(model.get_layer('pool_'+aspect).inputs + [K.learning_phase()], \n",
    "                          [model.get_layer('pool_'+aspect).get_output_at(0)])"
   ]
  },
  {
   "cell_type": "code",
   "execution_count": 9,
   "metadata": {
    "collapsed": true
   },
   "outputs": [],
   "source": [
    "pool_cdsr = {}\n",
    "norm_pool_cdsr = {}\n",
    "X_abs = pubmed_data.X\n",
    "\n",
    "for aspect in aspects :\n",
    "    pool_cdsr[aspect] = []\n",
    "    for i in range(int(np.floor(len(X_abs)/1000))) :\n",
    "        pool_cdsr[aspect].append(model_aspect[aspect]([X_abs[i*1000:(i+1)*1000,:], 0])[0])\n",
    "    pool_cdsr[aspect] = np.concatenate(pool_cdsr[aspect])\n",
    "    norm_pool_cdsr[aspect] = normalize(pool_cdsr[aspect], 'l2')"
   ]
  },
  {
   "cell_type": "code",
   "execution_count": 43,
   "metadata": {},
   "outputs": [],
   "source": [
    "scores = {}\n",
    "for aspect in aspects :\n",
    "    #scores[aspect] = np.dot(norm_pool_cdsr[aspect], norm_pool_cdsr[aspect].T)\n",
    "    scores[aspect] = cosine_similarity(pool_cdsr[aspect], pool_cdsr[aspect])\n",
    "    np.fill_diagonal(scores[aspect], -1000)"
   ]
  },
  {
   "cell_type": "code",
   "execution_count": null,
   "metadata": {},
   "outputs": [],
   "source": [
    "i, j = np.unravel_index(scores['outcome'].argmax(), scores['outcome'].shape)"
   ]
  },
  {
   "cell_type": "code",
   "execution_count": 54,
   "metadata": {},
   "outputs": [
    {
     "name": "stdout",
     "output_type": "stream",
     "text": [
      "7.84438\n"
     ]
    },
    {
     "data": {
      "text/plain": [
       "(604, 1933)"
      ]
     },
     "execution_count": 54,
     "metadata": {},
     "output_type": "execute_result"
    }
   ],
   "source": [
    "print scores['intervention'][i, j]\n",
    "i, j"
   ]
  },
  {
   "cell_type": "code",
   "execution_count": 52,
   "metadata": {
    "collapsed": true
   },
   "outputs": [],
   "source": [
    "df = pd.read_csv('../../pubmed/pubmed_texts.csv')"
   ]
  },
  {
   "cell_type": "code",
   "execution_count": 53,
   "metadata": {},
   "outputs": [
    {
     "data": {
      "text/plain": [
       "['The maximal double step length test can evaluate more adequately the decrease of physical function with age, than the maximal single step length test.\\n\\nThe maximal double step length (MDSL) test is a modified version of the maximal step length (MSL) test used to evaluate the dynamic balance related to falls in the elderly. Although this test can evaluate their physical function using movements similar to daily activities as compared to MSL, it has not been clarified whether it can adequately evaluate the activities of daily living (ADL) abilities of the elderly, as they decrease with age. This study aimed to examine the relationship between both MSL and MDSL on age and ADL in elderly subjects. Fifty-seven elderly females who live independently (age 74.8\\xc2\\xb15.6 years) were recruited. MSL and MDSL were conducted twice after completing an ADL questionnaire. Intra-class correlation coefficients (ICCs) of both tests were high (for MSL: ICC=0.95, for MDSL: ICC=0.81-0.82). Age and ADL significantly correlated to MDSL (age: r=-0.32-0.41, ADL: r=0.28-0.48), but not to MSL (age: r=-0.19, ADL: r=0.15). MDSL has high reliability as it relates to age and ADL. It may be more useful to evaluate ADL required for independent living and prevent falls in the elderly better than MSL.\\n\\n',\n",
       " 'Randomized phase II study of two different schedules of gemcitabine and oral S-1 in chemo-na\\xc3\\xafve patients with advanced non-small cell lung cancer.\\n\\nINTRODUCTION This study was conducted to evaluate the efficacy and safety and to compare dosing schedules of gemcitabine combined with S-1 in chemo-na\\xc3\\xafve non-small cell lung cancer patients.\\nMETHODS Patients with chemo-na\\xc3\\xafve stage IIIB/IV non-small cell lung cancer were randomized into two treatment arms. Patients were given oral S-1 (60 mg/m/d, twice a day) from days 1 to 14 with gemcitabine (1000 mg/m/d) on days 1 and 8 (arm A) or on days 8 and 15 (arm B). This cycle was repeated every 21 days.\\nRESULTS A total of 80 patients were entered in this trial. The primary end point of this study was response rate. The response rates of arm A and arm B were 22.0 and 28.9%, respectively (p = 0.606). Median time to treatment failure in arm A was 3.6 months and 4.8 months in arm B. Median time to progression in arm A was 4.1 months and 5.5 months in arm B. Median survival time in arm A and arm B was 15.5 months and 18.8 months, respectively. The toxicity profile was relatively mild and did not differ very much between two arms.\\nCONCLUSION The combination of gemcitabine and S-1 was determined to be feasible and effective for advanced non-small cell lung cancer. We selected arm B for further studies because of its higher response rate and survival data.\\n\\n']"
      ]
     },
     "execution_count": 53,
     "metadata": {},
     "output_type": "execute_result"
    }
   ],
   "source": [
    "list(df.iloc[[i,j]]['text'])"
   ]
  },
  {
   "cell_type": "code",
   "execution_count": null,
   "metadata": {
    "collapsed": true
   },
   "outputs": [],
   "source": []
  }
 ],
 "metadata": {
  "kernelspec": {
   "display_name": "Python 2",
   "language": "python",
   "name": "python2"
  },
  "language_info": {
   "codemirror_mode": {
    "name": "ipython",
    "version": 2
   },
   "file_extension": ".py",
   "mimetype": "text/x-python",
   "name": "python",
   "nbconvert_exporter": "python",
   "pygments_lexer": "ipython2",
   "version": "2.7.14"
  }
 },
 "nbformat": 4,
 "nbformat_minor": 2
}
