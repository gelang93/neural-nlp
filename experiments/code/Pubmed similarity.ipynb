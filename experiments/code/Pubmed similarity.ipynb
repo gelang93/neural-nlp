{
 "cells": [
  {
   "cell_type": "code",
   "execution_count": 1,
   "metadata": {},
   "outputs": [
    {
     "name": "stderr",
     "output_type": "stream",
     "text": [
      "Using TensorFlow backend.\n"
     ]
    },
    {
     "name": "stdout",
     "output_type": "stream",
     "text": [
      "[]\n"
     ]
    }
   ],
   "source": [
    "from keras.models  import load_model\n",
    "import keras.backend as K\n",
    "\n",
    "import cPickle\n",
    "import sys\n",
    "sys.path.insert(0, '../../preprocess')\n",
    "import vectorizer\n",
    "\n",
    "from sklearn.preprocessing import normalize\n",
    "from sklearn.metrics.pairwise import cosine_similarity\n",
    "import pandas as pd\n",
    "import numpy as np\n",
    "\n",
    "aspects = ['population', 'intervention', 'outcome']"
   ]
  },
  {
   "cell_type": "code",
   "execution_count": 2,
   "metadata": {
    "collapsed": true
   },
   "outputs": [],
   "source": [
    "pubmed_data = cPickle.load(open('../../pubmed/pubmed_data_vec_5000_dedup_n.p'))"
   ]
  },
  {
   "cell_type": "code",
   "execution_count": 3,
   "metadata": {
    "collapsed": true
   },
   "outputs": [],
   "source": [
    "df = pd.read_csv('../../pubmed/pubmed_data_dedup_n.csv').reset_index()"
   ]
  },
  {
   "cell_type": "code",
   "execution_count": 4,
   "metadata": {
    "collapsed": true
   },
   "outputs": [],
   "source": [
    "file_model = '../store/weights/single_setup/SatDec216:57:342017final1/loss.h5'\n",
    "model = load_model(file_model, custom_objects={'contrastive_loss' : lambda a,b : a, '<lambda>' : lambda a,b : a})"
   ]
  },
  {
   "cell_type": "code",
   "execution_count": 5,
   "metadata": {
    "collapsed": true
   },
   "outputs": [],
   "source": [
    "model_aspect = {}\n",
    "for aspect in aspects :\n",
    "    model_aspect[aspect] = K.function(model.get_layer('pool_'+aspect[0].upper()).inputs + [K.learning_phase()], \n",
    "                          [model.get_layer('pool_'+aspect[0].upper()).get_output_at(0)])"
   ]
  },
  {
   "cell_type": "code",
   "execution_count": 6,
   "metadata": {
    "collapsed": true
   },
   "outputs": [],
   "source": [
    "topics = list(df['label'].unique())"
   ]
  },
  {
   "cell_type": "code",
   "execution_count": 7,
   "metadata": {
    "collapsed": true
   },
   "outputs": [],
   "source": [
    "X = {}\n",
    "df_t = {}\n",
    "for t in topics :\n",
    "    index = df[df['label'] == t].index\n",
    "    df_t[t] = df[df['label'] == t].reset_index()\n",
    "    X[t] = pubmed_data.X[index, :]"
   ]
  },
  {
   "cell_type": "code",
   "execution_count": 8,
   "metadata": {
    "collapsed": true
   },
   "outputs": [],
   "source": [
    "embedds = {}\n",
    "norm_embedds = {}\n",
    "topic_scores = {}\n",
    "for t in topics :\n",
    "    pool_cdsr = {}\n",
    "    norm_pool_cdsr = {}\n",
    "    scores = {}\n",
    "    X_abs = X[t]\n",
    "\n",
    "    for aspect in aspects :\n",
    "        pool_cdsr[aspect] = []\n",
    "        for i in range(int(np.floor(len(X_abs)/1000)) + 1) :\n",
    "            pool_cdsr[aspect].append(model_aspect[aspect]([X_abs[i*1000:(i+1)*1000,:], 0])[0])\n",
    "        pool_cdsr[aspect] = np.concatenate(pool_cdsr[aspect])\n",
    "        norm_pool_cdsr[aspect] = normalize(np.float64(pool_cdsr[aspect]), 'l2')\n",
    "        scores[aspect] = np.dot(norm_pool_cdsr[aspect], norm_pool_cdsr[aspect].T)\n",
    "        np.fill_diagonal(scores[aspect], -1000)\n",
    "    \n",
    "    embedds[t] = pool_cdsr\n",
    "    norm_embedds[t] = norm_pool_cdsr\n",
    "    topic_scores[t] = scores"
   ]
  },
  {
   "cell_type": "code",
   "execution_count": 9,
   "metadata": {
    "collapsed": true
   },
   "outputs": [],
   "source": [
    "topic = 'Arthroplasty, Replacement, Hip[mesh] Randomized Controlled Trial[ptyp]'"
   ]
  },
  {
   "cell_type": "code",
   "execution_count": 10,
   "metadata": {
    "collapsed": true
   },
   "outputs": [],
   "source": [
    "df_iain = pd.read_table('../../pubmed/Arthro_50_pubmed_IM.txt', encoding='utf-16')"
   ]
  },
  {
   "cell_type": "code",
   "execution_count": 11,
   "metadata": {
    "collapsed": true
   },
   "outputs": [],
   "source": [
    "vals = df_t[topic][df_t[topic]['idx'].isin(df_iain['idx'])]"
   ]
  },
  {
   "cell_type": "code",
   "execution_count": 12,
   "metadata": {
    "collapsed": true
   },
   "outputs": [],
   "source": [
    "iain_scores = {}\n",
    "scores_iain = {}\n",
    "for aspect in aspects :\n",
    "    iain_scores[aspect] = norm_embedds[topic][aspect][vals.index]\n",
    "    scores_iain[aspect] = topic_scores[topic][aspect][np.ix_(vals.index, vals.index)]"
   ]
  },
  {
   "cell_type": "code",
   "execution_count": 13,
   "metadata": {
    "collapsed": true
   },
   "outputs": [],
   "source": [
    "joined_df = vals.merge(df_iain, on='idx',suffixes=('_x', '_y'))"
   ]
  },
  {
   "cell_type": "code",
   "execution_count": null,
   "metadata": {},
   "outputs": [],
   "source": [
    "vec = cPickle.load(open('../data/vectorizers/allfields_with_embedding_5000.p', 'rb'))"
   ]
  },
  {
   "cell_type": "code",
   "execution_count": null,
   "metadata": {
    "collapsed": true
   },
   "outputs": [],
   "source": [
    "irange = vec.index['abstract']\n",
    "X_abs = vec.X[irange[0]:irange[1]]\n",
    "pool_cdsr = {}\n",
    "norm_pool_cdsr = {}\n",
    "\n",
    "for aspect in aspects :\n",
    "    pool_cdsr[aspect] = []\n",
    "    for i in range(int(np.floor(len(X_abs)/500))) :\n",
    "        pool_cdsr[aspect].append(model_aspect[aspect]([X_abs[i*1000:(i+1)*1000,:], 0])[0])\n",
    "    pool_cdsr[aspect] = np.concatenate(pool_cdsr[aspect])\n",
    "    norm_pool_cdsr[aspect] = normalize(np.float64(pool_cdsr[aspect]), 'l2')"
   ]
  },
  {
   "cell_type": "code",
   "execution_count": null,
   "metadata": {
    "collapsed": true
   },
   "outputs": [],
   "source": [
    "from sklearn.decomposition import PCA\n",
    "from sklearn.manifold import TSNE\n",
    "from sklearn.preprocessing import StandardScaler\n",
    "pca_models = {}\n",
    "for aspect in aspects :\n",
    "    pca = PCA(n_components=2, svd_solver='arpack', tol=0.0000001)\n",
    "    #data = np.concatenate([norm_pool_cdsr[aspect], iain_scores[aspect]], axis=0)\n",
    "    data = norm_pool_cdsr[aspect]\n",
    "    pca.fit(data)\n",
    "    pca_models[aspect] = pca\n",
    "    \n",
    "pcas = {}\n",
    "for aspect in aspects :\n",
    "    pcas[aspect] = pca_models[aspect].transform(iain_scores[aspect])"
   ]
  },
  {
   "cell_type": "code",
   "execution_count": null,
   "metadata": {},
   "outputs": [],
   "source": [
    "import matplotlib.pyplot as plt\n",
    "for aspect in aspects :\n",
    "    keys = joined_df['assignment'].unique()\n",
    "    for key in keys :\n",
    "        idxs = joined_df[joined_df['assignment'] == key].index\n",
    "        plt.scatter(pcas[aspect][idxs, 0], pcas[aspect][idxs, 1], label=key)\n",
    "    plt.legend(loc='center left', bbox_to_anchor=(1, 0.5))\n",
    "    plt.xticks([])\n",
    "    plt.yticks([])\n",
    "    plt.title(aspect)\n",
    "    plt.savefig('../store/pca_pubmed_' + aspect + '.pdf', format='pdf', bbox_inches='tight')\n",
    "    plt.show()"
   ]
  },
  {
   "cell_type": "code",
   "execution_count": null,
   "metadata": {
    "collapsed": true
   },
   "outputs": [],
   "source": [
    "from sklearn.manifold import TSNE\n",
    "tsnes = {}\n",
    "for aspect in aspects :\n",
    "    tsnes[aspect] = TSNE(n_components=2, metric='precomputed').fit_transform(2*(1 - scores_iain[aspect]))"
   ]
  },
  {
   "cell_type": "code",
   "execution_count": null,
   "metadata": {},
   "outputs": [],
   "source": [
    "import matplotlib.pyplot as plt\n",
    "for aspect in aspects :\n",
    "    keys = joined_df['assignment'].unique()\n",
    "    for key in keys :\n",
    "        idxs = joined_df[joined_df['assignment'] == key].index\n",
    "        plt.scatter(tsnes[aspect][idxs, 0], tsnes[aspect][idxs, 1], label=key)\n",
    "    plt.legend(loc='center left', bbox_to_anchor=(1, 0.5))\n",
    "    plt.xticks([])\n",
    "    plt.yticks([])\n",
    "    plt.title(aspect)\n",
    "    plt.savefig('../store/tsne_pubmed_' + aspect + '.pdf', format='pdf', bbox_inches='tight')\n",
    "    plt.show()"
   ]
  },
  {
   "cell_type": "code",
   "execution_count": 14,
   "metadata": {
    "collapsed": true
   },
   "outputs": [],
   "source": [
    "da = joined_df\n",
    "nb_studies = len(joined_df)\n",
    "H = np.zeros((nb_studies, nb_studies))\n",
    "for i in range(nb_studies) :\n",
    "    H[i, da[da['assignment'] == da['assignment'][i]].index] = 1\n",
    "np.fill_diagonal(H, 0)"
   ]
  },
  {
   "cell_type": "code",
   "execution_count": 15,
   "metadata": {},
   "outputs": [
    {
     "name": "stdout",
     "output_type": "stream",
     "text": [
      "population 0.654537129537\n",
      "intervention 0.572464202464\n",
      "outcome 0.494469141969\n"
     ]
    },
    {
     "data": {
      "text/html": [
       "<div>\n",
       "<style>\n",
       "    .dataframe thead tr:only-child th {\n",
       "        text-align: right;\n",
       "    }\n",
       "\n",
       "    .dataframe thead th {\n",
       "        text-align: left;\n",
       "    }\n",
       "\n",
       "    .dataframe tbody tr th {\n",
       "        vertical-align: top;\n",
       "    }\n",
       "</style>\n",
       "<table border=\"1\" class=\"dataframe\">\n",
       "  <thead>\n",
       "    <tr style=\"text-align: right;\">\n",
       "      <th></th>\n",
       "      <th>i</th>\n",
       "      <th>mean</th>\n",
       "      <th>p</th>\n",
       "      <th>unclear</th>\n",
       "    </tr>\n",
       "  </thead>\n",
       "  <tbody>\n",
       "    <tr>\n",
       "      <th>outcome</th>\n",
       "      <td>0.725136</td>\n",
       "      <td>0.494469</td>\n",
       "      <td>0.419509</td>\n",
       "      <td>0.5</td>\n",
       "    </tr>\n",
       "    <tr>\n",
       "      <th>intervention</th>\n",
       "      <td>0.918998</td>\n",
       "      <td>0.572464</td>\n",
       "      <td>0.462033</td>\n",
       "      <td>0.5</td>\n",
       "    </tr>\n",
       "    <tr>\n",
       "      <th>population</th>\n",
       "      <td>0.571484</td>\n",
       "      <td>0.654537</td>\n",
       "      <td>0.685650</td>\n",
       "      <td>0.5</td>\n",
       "    </tr>\n",
       "  </tbody>\n",
       "</table>\n",
       "</div>"
      ],
      "text/plain": [
       "                     i      mean         p  unclear\n",
       "outcome       0.725136  0.494469  0.419509      0.5\n",
       "intervention  0.918998  0.572464  0.462033      0.5\n",
       "population    0.571484  0.654537  0.685650      0.5"
      ]
     },
     "execution_count": 15,
     "metadata": {},
     "output_type": "execute_result"
    }
   ],
   "source": [
    "from sklearn.metrics import roc_auc_score\n",
    "series = {}\n",
    "for aspect in aspects :\n",
    "    aucs = [0] * nb_studies\n",
    "    for i in range(nb_studies) :\n",
    "        if sum(H[i]) > 0 :\n",
    "            aucs[i] = roc_auc_score(H[i], scores_iain[aspect][i])\n",
    "        else :\n",
    "            aucs[i] = 0.5\n",
    "    print aspect, np.mean(aucs)\n",
    "    rocs = {}\n",
    "    for key in da['assignment'].unique() :\n",
    "        idxs = da[da['assignment'] == key].index\n",
    "        rocs[key] = np.mean(np.array(aucs)[idxs])\n",
    "    rocs['mean'] = np.mean(aucs)\n",
    "    series[aspect] = pd.Series(rocs, name=aspect)\n",
    "pd.DataFrame(series.values())"
   ]
  },
  {
   "cell_type": "code",
   "execution_count": 16,
   "metadata": {},
   "outputs": [
    {
     "data": {
      "image/png": "[encoded data removed]",
      "text/plain": [
       "<matplotlib.figure.Figure at 0x7fe5df75f050>"
      ]
     },
     "metadata": {},
     "output_type": "display_data"
    },
    {
     "data": {
      "image/png": "[encoded data removed]",
      "text/plain": [
       "<matplotlib.figure.Figure at 0x7fe53410bed0>"
      ]
     },
     "metadata": {},
     "output_type": "display_data"
    },
    {
     "data": {
      "image/png": "[encoded data removed]",
      "text/plain": [
       "<matplotlib.figure.Figure at 0x7fe53404ac50>"
      ]
     },
     "metadata": {},
     "output_type": "display_data"
    }
   ],
   "source": [
    "%matplotlib inline\n",
    "import matplotlib.pyplot as plt\n",
    "for i in topics :\n",
    "    for aspect in scores :\n",
    "        s = topic_scores[i][aspect]\n",
    "        vals = s[s >= -2].flatten()\n",
    "        plt.hist(vals, bins=100, label=aspect, alpha=0.5)\n",
    "    plt.legend()\n",
    "    plt.title(i)\n",
    "    plt.show()"
   ]
  },
  {
   "cell_type": "code",
   "execution_count": null,
   "metadata": {
    "collapsed": true
   },
   "outputs": [],
   "source": [
    "cov = np.cov(x_std.T)\n",
    "ev , eig = np.linalg.eig(cov)\n",
    "a = eig.dot(x_std.T)"
   ]
  }
 ],
 "metadata": {
  "kernelspec": {
   "display_name": "Python 2",
   "language": "python",
   "name": "python2"
  },
  "language_info": {
   "codemirror_mode": {
    "name": "ipython",
    "version": 2
   },
   "file_extension": ".py",
   "mimetype": "text/x-python",
   "name": "python",
   "nbconvert_exporter": "python",
   "pygments_lexer": "ipython2",
   "version": "2.7.14"
  }
 },
 "nbformat": 4,
 "nbformat_minor": 2
}
