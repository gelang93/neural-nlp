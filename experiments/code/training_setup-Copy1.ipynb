{
 "cells": [
  {
   "cell_type": "code",
   "execution_count": 1,
   "metadata": {},
   "outputs": [
    {
     "name": "stderr",
     "output_type": "stream",
     "text": [
      "Using TensorFlow backend.\n"
     ]
    },
    {
     "name": "stdout",
     "output_type": "stream",
     "text": [
      "[]\n"
     ]
    }
   ],
   "source": [
    "import pandas as pd\n",
    "import numpy as np\n",
    "import cPickle\n",
    "import sys\n",
    "sys.path.insert(0, '../../preprocess')\n",
    "import vectorizer\n",
    "\n",
    "import keras.backend as K"
   ]
  },
  {
   "cell_type": "code",
   "execution_count": 2,
   "metadata": {},
   "outputs": [],
   "source": [
    "df = pd.read_csv('../data/files/test_cohen_dedup.csv')\n",
    "\n",
    "nb_studies = len(df)\n",
    "H = np.zeros((nb_studies, nb_studies))\n",
    "\n",
    "cdnos = list(set(df.cdno))\n",
    "for i in range(nb_studies) :\n",
    "    H[i, df[df['cdno'] == df['cdno'][i]].index] = 1\n",
    "\n",
    "H[np.arange(nb_studies), np.arange(nb_studies)] = 0"
   ]
  },
  {
   "cell_type": "code",
   "execution_count": 3,
   "metadata": {},
   "outputs": [],
   "source": [
    "cohenvec = cPickle.load(open('../../preprocess/cohendata_dedup_19995.p', 'rb'))"
   ]
  },
  {
   "cell_type": "code",
   "execution_count": 5,
   "metadata": {},
   "outputs": [],
   "source": [
    "from keras.models import load_model\n",
    "model = load_model('../store/weights/single_setup/FriDec1515:40:462017testing/loss.h5', \n",
    "                   custom_objects={'contrastive_loss' : lambda a,b : a, '<lambda>' : lambda a, b : a})\n",
    "#results_folder = '../store/results/single_message_ThuOct1919:10:492017/'"
   ]
  },
  {
   "cell_type": "code",
   "execution_count": 7,
   "metadata": {},
   "outputs": [],
   "source": [
    "model_dssm = model.layers[3]"
   ]
  },
  {
   "cell_type": "code",
   "execution_count": 8,
   "metadata": {},
   "outputs": [],
   "source": [
    "X_cohen = cohenvec.X"
   ]
  },
  {
   "cell_type": "code",
   "execution_count": 11,
   "metadata": {},
   "outputs": [],
   "source": [
    "bs = 100\n",
    "pool_cdsr = []\n",
    "for i in range(int(np.floor(len(X_cohen)/bs))+1) :\n",
    "    pool_cdsr.append(model_dssm.predict(X_cohen[i*bs:(i+1)*bs,:]))\n",
    "embedds = np.concatenate(pool_cdsr)"
   ]
  },
  {
   "cell_type": "code",
   "execution_count": 12,
   "metadata": {},
   "outputs": [],
   "source": [
    "from sklearn.preprocessing import normalize\n",
    "embedds = normalize(embedds, 'l2')"
   ]
  },
  {
   "cell_type": "code",
   "execution_count": 13,
   "metadata": {},
   "outputs": [],
   "source": [
    "scores = np.dot(embedds, embedds.T)\n",
    "scores[np.arange(nb_studies), np.arange(nb_studies)] = -1000"
   ]
  },
  {
   "cell_type": "code",
   "execution_count": 14,
   "metadata": {},
   "outputs": [
    {
     "name": "stdout",
     "output_type": "stream",
     "text": [
      "0.874888616243\n",
      "ACEInhibitors_processed              0.848592\n",
      "ADHD_processed                       0.834763\n",
      "Antihistamines_processed             0.919654\n",
      "AtypicalAntipsychotics_processed     0.968202\n",
      "BetaBlockers_processed               0.681681\n",
      "CalciumChannelBlockers_processed     0.755871\n",
      "Estrogens_processed                  0.964519\n",
      "NSAIDS_processed                     0.893797\n",
      "Opiods_processed                     0.859472\n",
      "OralHypoglycemics_processed          0.902331\n",
      "ProtonPumpInhibitors_processed       0.936851\n",
      "SkeletalMuscleRelaxants_processed    0.770937\n",
      "Statins_processed                    0.869531\n",
      "Triptans_processed                   0.978507\n",
      "dtype: float64\n"
     ]
    }
   ],
   "source": [
    "from sklearn.metrics import roc_auc_score\n",
    "aucs = [0] * nb_studies\n",
    "for i in range(nb_studies) :\n",
    "    aucs[i] = roc_auc_score(H[i], scores[i])\n",
    "print np.mean(aucs)\n",
    "rocs = {}\n",
    "for cd in cdnos :\n",
    "    idxs = df[df.cdno == cd].index\n",
    "    rocs[cd] = np.mean(np.array(aucs)[idxs])\n",
    "print pd.Series(rocs)"
   ]
  },
  {
   "cell_type": "code",
   "execution_count": null,
   "metadata": {
    "collapsed": true
   },
   "outputs": [],
   "source": []
  }
 ],
 "metadata": {
  "kernelspec": {
   "display_name": "Python 2",
   "language": "python",
   "name": "python2"
  },
  "language_info": {
   "codemirror_mode": {
    "name": "ipython",
    "version": 2
   },
   "file_extension": ".py",
   "mimetype": "text/x-python",
   "name": "python",
   "nbconvert_exporter": "python",
   "pygments_lexer": "ipython2",
   "version": "2.7.14"
  }
 },
 "nbformat": 4,
 "nbformat_minor": 2
}
