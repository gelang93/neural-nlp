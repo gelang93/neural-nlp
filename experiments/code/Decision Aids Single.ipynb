{
 "cells": [
  {
   "cell_type": "code",
   "execution_count": null,
   "metadata": {},
   "outputs": [],
   "source": [
    "from keras.models  import load_model\n",
    "import keras.backend as K\n",
    "\n",
    "import cPickle\n",
    "import sys\n",
    "sys.path.insert(0, '../../preprocess')\n",
    "import vectorizer\n",
    "\n",
    "from sklearn.preprocessing import normalize\n",
    "import pandas as pd\n",
    "import numpy as np\n",
    "\n",
    "from gcnn import GCNN\n",
    "aspects = ['population', 'intervention', 'outcome']\n",
    "aspects = [a[0].upper() for a in aspects]"
   ]
  },
  {
   "cell_type": "code",
   "execution_count": null,
   "metadata": {
    "collapsed": true
   },
   "outputs": [],
   "source": [
    "vec = cPickle.load(open('../data/vectorizers/allfields_with_embedding_5000.p', 'rb'))"
   ]
  },
  {
   "cell_type": "code",
   "execution_count": null,
   "metadata": {
    "collapsed": true
   },
   "outputs": [],
   "source": [
    "da = pd.read_csv('../data/files/decision_aids_filter.csv')\n",
    "im_map = {'breast cancer': 'BCT', \n",
    "          'healthy women at risk of breast cancer': 'BCS', \n",
    "          'type II diabetes': 'D',\n",
    "          'menopausal women': 'MW',\n",
    "          'pregnant women, previous C section': 'PWC',\n",
    "          'pregnant women': 'PW',\n",
    "          'healthy people, at risk colon cancer': 'CCS',\n",
    "          'prostate cancer': 'PCT',\n",
    "          'healthy men, contemplating risk of prostate cancer': 'PCS',\n",
    "          'AF': 'AF',\n",
    "          'healthy women at genetic risk of breast cancer': 'BCG'}"
   ]
  },
  {
   "cell_type": "code",
   "execution_count": null,
   "metadata": {
    "collapsed": true
   },
   "outputs": [],
   "source": [
    "davec = cPickle.load(open('../data/vectorizers/decision_aids_vec_5000.p'))"
   ]
  },
  {
   "cell_type": "code",
   "execution_count": null,
   "metadata": {
    "collapsed": true
   },
   "outputs": [],
   "source": [
    "file_model = '../store/weights/single_setup/WedNov1500:02:112017/loss.h5'\n",
    "model = load_model(file_model, custom_objects={'contrastive_loss' : lambda a,b : a})"
   ]
  },
  {
   "cell_type": "code",
   "execution_count": null,
   "metadata": {
    "collapsed": true
   },
   "outputs": [],
   "source": [
    "model_aspect = {}\n",
    "for aspect in aspects :\n",
    "    model_aspect[aspect] = K.function(model.get_layer('pool_'+aspect).inputs + [K.learning_phase()], \n",
    "                          [model.get_layer('pool_'+aspect).outputs[0]])"
   ]
  },
  {
   "cell_type": "code",
   "execution_count": null,
   "metadata": {
    "collapsed": true
   },
   "outputs": [],
   "source": [
    "pool_da = {}\n",
    "norm_pool_da = {}\n",
    "\n",
    "for aspect in aspects :\n",
    "    pool_da[aspect] = model_aspect[aspect]([davec.X, 0])[0]\n",
    "    norm_pool_da[aspect] = normalize(np.float64(pool_da[aspect]), 'l2')"
   ]
  },
  {
   "cell_type": "code",
   "execution_count": null,
   "metadata": {
    "collapsed": true
   },
   "outputs": [],
   "source": [
    "irange = vec.index['abstract']\n",
    "X_abs = vec.X[irange[0]:irange[1]]\n",
    "pool_cdsr = {}\n",
    "norm_pool_cdsr = {}\n",
    "\n",
    "for aspect in aspects :\n",
    "    pool_cdsr[aspect] = []\n",
    "    for i in range(int(np.floor(len(X_abs)/1000))) :\n",
    "        pool_cdsr[aspect].append(model_aspect[aspect]([X_abs[i*1000:(i+1)*1000,:], 0])[0])\n",
    "    pool_cdsr[aspect] = np.concatenate(pool_cdsr[aspect])\n",
    "    norm_pool_cdsr[aspect] = normalize(np.float64(pool_cdsr[aspect]), 'l2')"
   ]
  },
  {
   "cell_type": "code",
   "execution_count": null,
   "metadata": {
    "collapsed": true
   },
   "outputs": [],
   "source": [
    "norm_pool = np.concatenate([pool_cdsr[aspect], pool_da[aspect]], axis=0)\n",
    "cov = np.cov(norm_pool, rowvar=False)"
   ]
  },
  {
   "cell_type": "code",
   "execution_count": null,
   "metadata": {},
   "outputs": [],
   "source": [
    "for aspect in aspects :\n",
    "    print np.isnan(norm_pool_da[aspect]).sum()"
   ]
  },
  {
   "cell_type": "code",
   "execution_count": null,
   "metadata": {},
   "outputs": [],
   "source": [
    "from scipy import linalg as LA\n",
    "LA.eigh(cov)"
   ]
  },
  {
   "cell_type": "code",
   "execution_count": null,
   "metadata": {
    "collapsed": true
   },
   "outputs": [],
   "source": [
    "from sklearn.decomposition import PCA\n",
    "from sklearn.manifold import TSNE\n",
    "pca_models = {}\n",
    "for aspect in aspects :\n",
    "    pca = PCA(n_components=2, svd_solver='arpack', tol=0.0001)\n",
    "    pca.fit(np.concatenate([norm_pool_cdsr[aspect], norm_pool_da[aspect]], axis=0))\n",
    "    pca_models[aspect] = pca\n",
    "    \n",
    "pcas = {}\n",
    "for aspect in aspects :\n",
    "    #pcas[aspect] = TSNE(n_components=2).fit_transform(norm_pool_da[aspect])\n",
    "    pcas[aspect] = pca_models[aspect].transform(norm_pool_da[aspect])\n",
    "#     pcas[aspect] = PCA(n_components=2, svd_solver='arpack', tol=100).fit_transform(\n",
    "#             np.concatenate([norm_pool_cdsr[aspect], norm_pool_da[aspect]], axis=0))"
   ]
  },
  {
   "cell_type": "code",
   "execution_count": null,
   "metadata": {},
   "outputs": [],
   "source": [
    "import matplotlib.pyplot as plt\n",
    "#pcas = norm_pool_da\n",
    "for aspect in aspects :\n",
    "    for key in im_map.keys() :\n",
    "        idxs = da[da['IM_population'] == key].index\n",
    "        plt.scatter(pcas[aspect][idxs, 0], pcas[aspect][idxs, 1], label=key)\n",
    "    plt.legend(loc='center left', bbox_to_anchor=(1, 0.5))\n",
    "    plt.title(aspect)\n",
    "    plt.show()"
   ]
  },
  {
   "cell_type": "code",
   "execution_count": null,
   "metadata": {
    "collapsed": true
   },
   "outputs": [],
   "source": [
    "nb_studies = len(da)\n",
    "H = np.zeros((nb_studies, nb_studies))\n",
    "for i in range(nb_studies) :\n",
    "    H[i, da[da['IM_population'] == da['IM_population'][i]].index] = 1\n",
    "np.fill_diagonal(H, 0)\n",
    "\n",
    "scores = {}\n",
    "for aspect in aspects :\n",
    "    scores[aspect] = np.dot(norm_pool_da[aspect], norm_pool_da[aspect].T)\n",
    "    np.fill_diagonal(scores[aspect], -1000)"
   ]
  },
  {
   "cell_type": "code",
   "execution_count": null,
   "metadata": {},
   "outputs": [],
   "source": [
    "from sklearn.metrics import roc_auc_score\n",
    "series = {}\n",
    "for aspect in aspects :\n",
    "    aucs = [0] * nb_studies\n",
    "    for i in range(nb_studies) :\n",
    "        aucs[i] = roc_auc_score(H[i], scores[aspect][i])\n",
    "    rocs = {}\n",
    "    for key in im_map :\n",
    "        idxs = da[da['IM_population'] == key].index\n",
    "        rocs[key] = np.mean(np.array(aucs)[idxs])\n",
    "    rocs['mean'] = np.mean(aucs)\n",
    "    series[aspect] = pd.Series(rocs, name=aspect)\n",
    "pd.DataFrame(series.values())"
   ]
  },
  {
   "cell_type": "code",
   "execution_count": null,
   "metadata": {
    "collapsed": true
   },
   "outputs": [],
   "source": [
    "#get_ipython().system('cp \"Decision Aids Single.ipynb\" '+result_folder)"
   ]
  },
  {
   "cell_type": "code",
   "execution_count": null,
   "metadata": {
    "collapsed": true
   },
   "outputs": [],
   "source": []
  }
 ],
 "metadata": {
  "kernelspec": {
   "display_name": "Python 2",
   "language": "python",
   "name": "python2"
  },
  "language_info": {
   "codemirror_mode": {
    "name": "ipython",
    "version": 2
   },
   "file_extension": ".py",
   "mimetype": "text/x-python",
   "name": "python",
   "nbconvert_exporter": "python",
   "pygments_lexer": "ipython2",
   "version": "2.7.14"
  }
 },
 "nbformat": 4,
 "nbformat_minor": 2
}
