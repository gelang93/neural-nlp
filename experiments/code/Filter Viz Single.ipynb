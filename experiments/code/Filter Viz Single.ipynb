{
 "cells": [
  {
   "cell_type": "code",
   "execution_count": 1,
   "metadata": {},
   "outputs": [
    {
     "name": "stderr",
     "output_type": "stream",
     "text": [
      "Using TensorFlow backend.\n"
     ]
    },
    {
     "name": "stdout",
     "output_type": "stream",
     "text": [
      "[]\n"
     ]
    }
   ],
   "source": [
    "from keras.models  import load_model\n",
    "import keras.backend as K\n",
    "\n",
    "import cPickle\n",
    "import sys\n",
    "sys.path.insert(0, '../../preprocess')\n",
    "import vectorizer\n",
    "\n",
    "import pandas as pd\n",
    "import numpy as np\n",
    "\n",
    "from gcnn import GCNN\n",
    "aspects = ['population', 'intervention', 'outcome']"
   ]
  },
  {
   "cell_type": "code",
   "execution_count": 2,
   "metadata": {
    "collapsed": true
   },
   "outputs": [],
   "source": [
    "vec = cPickle.load(open('../data/vectorizers/allfields_with_embedding_5000.p', 'rb'))"
   ]
  },
  {
   "cell_type": "code",
   "execution_count": 3,
   "metadata": {
    "collapsed": true
   },
   "outputs": [],
   "source": [
    "index = vec.index\n",
    "C = {'inputs' : ['abstract', 'population', 'intervention', 'outcome']}\n",
    "for input in C['inputs'] :\n",
    "    input_range = index[input]\n",
    "    C[input] = vec.X[input_range[0]:input_range[1]]"
   ]
  },
  {
   "cell_type": "code",
   "execution_count": 11,
   "metadata": {
    "collapsed": true
   },
   "outputs": [],
   "source": [
    "model = load_model('../store/weights/single_setup/SatDec216:57:342017final1/loss.h5', \n",
    "                   custom_objects={'contrastive_loss' : lambda a,b : a, '<lambda>' : lambda a, b : a})\n",
    "#results_folder = '../store/results/single_message_ThuOct1919:10:492017/'"
   ]
  },
  {
   "cell_type": "code",
   "execution_count": 12,
   "metadata": {
    "collapsed": true
   },
   "outputs": [],
   "source": [
    "model_c1 = {}\n",
    "for aspect in aspects :\n",
    "    model_c1[aspect] = K.function(model.get_layer('pool_'+aspect[0].upper()).inputs, \n",
    "                          [model.get_layer('pool_'+aspect[0].upper()).layers[16].output])"
   ]
  },
  {
   "cell_type": "code",
   "execution_count": 56,
   "metadata": {
    "collapsed": true
   },
   "outputs": [],
   "source": [
    "filters_pico = {}\n",
    "sample_length = 500\n",
    "sample = np.random.choice(C['abstract'].shape[0], sample_length, replace=False)\n",
    "for input in C['inputs'] :\n",
    "    for aspect in aspects :\n",
    "        val = model_c1[aspect]([C[input][sample]])[0][:, :, 0]\n",
    "        val = np.dstack((C[input][sample], val))\n",
    "        filters_pico[(aspect, input)] = val#model_c1[aspect]([C[input][sample]])[0]"
   ]
  },
  {
   "cell_type": "code",
   "execution_count": 12,
   "metadata": {
    "collapsed": true
   },
   "outputs": [],
   "source": [
    "activated_words = {}\n",
    "for aspect in aspects :\n",
    "    filters = filters_pico[(aspect, 'abstract')]\n",
    "    word_activations = np.zeros((vec.vocab_size, filters.shape[2]))\n",
    "    for i in range(filters.shape[2]) :\n",
    "        filter_i = filters[:,:,i]\n",
    "        word2filter = np.dstack((C['abstract'][sample], filter_i))\n",
    "        filter_w2f = word2filter[word2filter[:,:,1] > 0.0]\n",
    "        for word in filter_w2f :\n",
    "            word_activations[int(word[0]), i] = word[1]\n",
    "    activated_words[aspect] = word_activations"
   ]
  },
  {
   "cell_type": "code",
   "execution_count": 14,
   "metadata": {},
   "outputs": [
    {
     "data": {
      "text/html": [
       "<div>\n",
       "<style>\n",
       "    .dataframe thead tr:only-child th {\n",
       "        text-align: right;\n",
       "    }\n",
       "\n",
       "    .dataframe thead th {\n",
       "        text-align: left;\n",
       "    }\n",
       "\n",
       "    .dataframe tbody tr th {\n",
       "        vertical-align: top;\n",
       "    }\n",
       "</style>\n",
       "<table border=\"1\" class=\"dataframe\">\n",
       "  <thead>\n",
       "    <tr style=\"text-align: right;\">\n",
       "      <th></th>\n",
       "      <th>population</th>\n",
       "      <th>intervention</th>\n",
       "      <th>outcome</th>\n",
       "    </tr>\n",
       "  </thead>\n",
       "  <tbody>\n",
       "    <tr>\n",
       "      <th>0</th>\n",
       "      <td>cancer</td>\n",
       "      <td>alfa</td>\n",
       "      <td>bacteriological</td>\n",
       "    </tr>\n",
       "    <tr>\n",
       "      <th>1</th>\n",
       "      <td>elective</td>\n",
       "      <td>desmopressin</td>\n",
       "      <td>classic</td>\n",
       "    </tr>\n",
       "    <tr>\n",
       "      <th>2</th>\n",
       "      <td>falciparum</td>\n",
       "      <td>educational</td>\n",
       "      <td>fibrosis</td>\n",
       "    </tr>\n",
       "    <tr>\n",
       "      <th>3</th>\n",
       "      <td>leg</td>\n",
       "      <td>enuresis</td>\n",
       "      <td>nocturnal</td>\n",
       "    </tr>\n",
       "    <tr>\n",
       "      <th>4</th>\n",
       "      <td>maintenance</td>\n",
       "      <td>epoetin</td>\n",
       "      <td>outpatients</td>\n",
       "    </tr>\n",
       "    <tr>\n",
       "      <th>5</th>\n",
       "      <td>outpatients</td>\n",
       "      <td>favoring</td>\n",
       "      <td>polycystic</td>\n",
       "    </tr>\n",
       "    <tr>\n",
       "      <th>6</th>\n",
       "      <td>plasmodium</td>\n",
       "      <td>fluticasone</td>\n",
       "      <td>probing</td>\n",
       "    </tr>\n",
       "    <tr>\n",
       "      <th>7</th>\n",
       "      <td>singleton</td>\n",
       "      <td>palivizumab</td>\n",
       "      <td>progression-free</td>\n",
       "    </tr>\n",
       "    <tr>\n",
       "      <th>8</th>\n",
       "      <td>undergoing</td>\n",
       "      <td>qqq</td>\n",
       "      <td>uterine</td>\n",
       "    </tr>\n",
       "    <tr>\n",
       "      <th>9</th>\n",
       "      <td>venous</td>\n",
       "      <td>reminder</td>\n",
       "      <td>visual</td>\n",
       "    </tr>\n",
       "  </tbody>\n",
       "</table>\n",
       "</div>"
      ],
      "text/plain": [
       "    population  intervention           outcome\n",
       "0       cancer          alfa   bacteriological\n",
       "1     elective  desmopressin           classic\n",
       "2   falciparum   educational          fibrosis\n",
       "3          leg      enuresis         nocturnal\n",
       "4  maintenance       epoetin       outpatients\n",
       "5  outpatients      favoring        polycystic\n",
       "6   plasmodium   fluticasone           probing\n",
       "7    singleton   palivizumab  progression-free\n",
       "8   undergoing           qqq           uterine\n",
       "9       venous      reminder            visual"
      ]
     },
     "execution_count": 14,
     "metadata": {},
     "output_type": "execute_result"
    }
   ],
   "source": [
    "top_words_df = pd.DataFrame()\n",
    "top_words_size = 10\n",
    "for aspect in aspects :\n",
    "    popwords = activated_words[aspect].sum(axis=1)\n",
    "    sorted_idx = np.argsort(popwords)\n",
    "    top_words = sorted_idx[-top_words_size:]\n",
    "    top_words = pd.Series([v for k, v in vec.idx2word.items() if k in top_words])\n",
    "    top_words_df[aspect] = top_words\n",
    "top_words_df"
   ]
  },
  {
   "cell_type": "markdown",
   "metadata": {},
   "source": [
    "<b>Evaluating Filters on Cohen Data</b>"
   ]
  },
  {
   "cell_type": "code",
   "execution_count": 6,
   "metadata": {
    "collapsed": true
   },
   "outputs": [],
   "source": [
    "df = pd.read_csv('../data/files/test_cohen_dedup.csv')\n",
    "cohenvec = cPickle.load(open('../data/vectorizers/cohendata_dedup_5000.p', 'rb'))\n",
    "#cohenvec = cPickle.load(open('../data/vectorizers/decision_aids_vec_5000.p', 'rb'))\n",
    "#cohenvec =cPickle.load(open('../../pubmed/pubmed_data_vec_5000_dedup_n.p'))"
   ]
  },
  {
   "cell_type": "code",
   "execution_count": 14,
   "metadata": {
    "collapsed": true
   },
   "outputs": [],
   "source": [
    "pool_cdsr = {}\n",
    "X_abs = cohenvec.X\n",
    "from sklearn.preprocessing import normalize\n",
    "\n",
    "\n",
    "for aspect in aspects :\n",
    "    pool_cdsr[aspect] = []\n",
    "    bs = 1000\n",
    "    for i in range(int(np.floor(len(X_abs)/bs)) + 1) :\n",
    "        val = model_c1[aspect]([X_abs[i*bs:(i+1)*bs]])[0][:, :, 0]\n",
    "        val = np.dstack((X_abs[i*bs:(i+1)*bs], val))\n",
    "        pool_cdsr[aspect].append(val)\n",
    "    pool_cdsr[aspect] = np.concatenate(pool_cdsr[aspect])\n",
    "    #pool_cdsr[aspect] = softmax(pool_cdsr[aspect][:,:,0], axis=1)[:,:,np.newaxis]\n",
    "\n",
    "filter_aspect = {}\n",
    "for aspect in aspects :\n",
    "    filter_aspect[aspect] = pool_cdsr[aspect]"
   ]
  },
  {
   "cell_type": "code",
   "execution_count": 6,
   "metadata": {
    "collapsed": true
   },
   "outputs": [],
   "source": [
    "activated_words_cohen = {}\n",
    "for aspect in aspects :\n",
    "    filters = filter_aspect[aspect]\n",
    "    word_activations = np.zeros((cohenvec.vocab_size, filters.shape[2]))\n",
    "    for i in range(filters.shape[2]) :\n",
    "        filter_i = filters[:,:,i]\n",
    "        word2filter = np.dstack((cohenvec.X, filter_i))\n",
    "        filter_w2f = word2filter[word2filter[:,:,1] > 0.0]\n",
    "        for word in filter_w2f :\n",
    "            word_activations[int(word[0]), i] = word[1]\n",
    "    activated_words_cohen[aspect] = word_activations"
   ]
  },
  {
   "cell_type": "code",
   "execution_count": 7,
   "metadata": {},
   "outputs": [
    {
     "name": "stdout",
     "output_type": "stream",
     "text": [
      "['york', 'young', 'younger', 'youth', 'youths', 'yr', 'yrs', 'z', 'zealand', 'zero']\n",
      "['york', 'young', 'younger', 'youth', 'youths', 'yr', 'yrs', 'z', 'zealand', 'zero']\n",
      "['york', 'young', 'younger', 'youth', 'youths', 'yr', 'yrs', 'z', 'zealand', 'zero']\n"
     ]
    },
    {
     "data": {
      "text/html": [
       "<div>\n",
       "<style>\n",
       "    .dataframe thead tr:only-child th {\n",
       "        text-align: right;\n",
       "    }\n",
       "\n",
       "    .dataframe thead th {\n",
       "        text-align: left;\n",
       "    }\n",
       "\n",
       "    .dataframe tbody tr th {\n",
       "        vertical-align: top;\n",
       "    }\n",
       "</style>\n",
       "<table border=\"1\" class=\"dataframe\">\n",
       "  <thead>\n",
       "    <tr style=\"text-align: right;\">\n",
       "      <th></th>\n",
       "      <th>population</th>\n",
       "      <th>intervention</th>\n",
       "      <th>outcome</th>\n",
       "    </tr>\n",
       "  </thead>\n",
       "  <tbody>\n",
       "    <tr>\n",
       "      <th>0</th>\n",
       "      <td>york</td>\n",
       "      <td>york</td>\n",
       "      <td>york</td>\n",
       "    </tr>\n",
       "    <tr>\n",
       "      <th>1</th>\n",
       "      <td>young</td>\n",
       "      <td>young</td>\n",
       "      <td>young</td>\n",
       "    </tr>\n",
       "    <tr>\n",
       "      <th>2</th>\n",
       "      <td>younger</td>\n",
       "      <td>younger</td>\n",
       "      <td>younger</td>\n",
       "    </tr>\n",
       "    <tr>\n",
       "      <th>3</th>\n",
       "      <td>youth</td>\n",
       "      <td>youth</td>\n",
       "      <td>youth</td>\n",
       "    </tr>\n",
       "    <tr>\n",
       "      <th>4</th>\n",
       "      <td>youths</td>\n",
       "      <td>youths</td>\n",
       "      <td>youths</td>\n",
       "    </tr>\n",
       "    <tr>\n",
       "      <th>5</th>\n",
       "      <td>yr</td>\n",
       "      <td>yr</td>\n",
       "      <td>yr</td>\n",
       "    </tr>\n",
       "    <tr>\n",
       "      <th>6</th>\n",
       "      <td>yrs</td>\n",
       "      <td>yrs</td>\n",
       "      <td>yrs</td>\n",
       "    </tr>\n",
       "    <tr>\n",
       "      <th>7</th>\n",
       "      <td>z</td>\n",
       "      <td>z</td>\n",
       "      <td>z</td>\n",
       "    </tr>\n",
       "    <tr>\n",
       "      <th>8</th>\n",
       "      <td>zealand</td>\n",
       "      <td>zealand</td>\n",
       "      <td>zealand</td>\n",
       "    </tr>\n",
       "    <tr>\n",
       "      <th>9</th>\n",
       "      <td>zero</td>\n",
       "      <td>zero</td>\n",
       "      <td>zero</td>\n",
       "    </tr>\n",
       "  </tbody>\n",
       "</table>\n",
       "</div>"
      ],
      "text/plain": [
       "  population intervention  outcome\n",
       "0       york         york     york\n",
       "1      young        young    young\n",
       "2    younger      younger  younger\n",
       "3      youth        youth    youth\n",
       "4     youths       youths   youths\n",
       "5         yr           yr       yr\n",
       "6        yrs          yrs      yrs\n",
       "7          z            z        z\n",
       "8    zealand      zealand  zealand\n",
       "9       zero         zero     zero"
      ]
     },
     "execution_count": 7,
     "metadata": {},
     "output_type": "execute_result"
    }
   ],
   "source": [
    "top_words_df_cohen = pd.DataFrame()\n",
    "top_words_size = 10\n",
    "for aspect in aspects :\n",
    "    popwords = activated_words_cohen[aspect].sum(axis=1)\n",
    "    sorted_idx = np.argsort(popwords)\n",
    "    top_words = sorted_idx[-top_words_size:]\n",
    "    print [str(v) for k, v in cohenvec.idx2word.items() if k in top_words]\n",
    "    top_words = pd.Series([v for k, v in cohenvec.idx2word.items() if k in top_words])\n",
    "    top_words_df_cohen[aspect] = top_words\n",
    "top_words_df_cohen"
   ]
  },
  {
   "cell_type": "code",
   "execution_count": 52,
   "metadata": {
    "collapsed": true
   },
   "outputs": [],
   "source": [
    "summed = {}\n",
    "for aspect in aspects :\n",
    "    summed[aspect] = filter_aspect[aspect].sum(axis=-1)"
   ]
  },
  {
   "cell_type": "code",
   "execution_count": 53,
   "metadata": {
    "collapsed": true
   },
   "outputs": [],
   "source": [
    "X_words = map(lambda s : [cohenvec.idx2word[w] for w in s], cohenvec.X)"
   ]
  },
  {
   "cell_type": "code",
   "execution_count": 19,
   "metadata": {},
   "outputs": [
    {
     "name": "stdout",
     "output_type": "stream",
     "text": [
      "population\n",
      "\u001b[48;2;255;255;255mthis\u001b[0m \u001b[48;2;255;255;255marticle\u001b[0m \u001b[48;2;255;255;255maims\u001b[0m \u001b[48;2;255;255;255mto\u001b[0m \u001b[48;2;255;255;255mreview\u001b[0m \u001b[48;2;255;255;255mlessons\u001b[0m \u001b[48;2;255;255;255munk\u001b[0m \u001b[48;2;255;255;255mabout\u001b[0m \u001b[48;2;255;255;255mlipid\u001b[0m \u001b[48;2;255;255;255mlowering\u001b[0m \u001b[48;2;255;255;255mand\u001b[0m \u001b[48;2;255;255;255munk\u001b[0m \u001b[48;2;255;250;250min\u001b[0m \u001b[48;2;255;255;255mthe\u001b[0m \u001b[48;2;255;255;255mpast\u001b[0m \u001b[48;2;255;255;255munk\u001b[0m \u001b[48;2;255;255;255mand\u001b[0m \u001b[48;2;255;255;255mto\u001b[0m \u001b[48;2;255;255;255munk\u001b[0m \u001b[48;2;255;255;255mwhat\u001b[0m \u001b[48;2;255;255;255munk\u001b[0m \u001b[48;2;255;255;255mthe\u001b[0m \u001b[48;2;255;255;255mfuture\u001b[0m \u001b[48;2;255;250;250mmay\u001b[0m \u001b[48;2;255;243;243munk\u001b[0m \u001b[48;2;255;238;238m.\u001b[0m \u001b[48;2;255;240;240mresults\u001b[0m \u001b[48;2;255;246;246mfrom\u001b[0m \u001b[48;2;255;244;244ma\u001b[0m \u001b[48;2;255;246;246mseries\u001b[0m \u001b[48;2;255;248;248mof\u001b[0m \u001b[48;2;255;250;250munk\u001b[0m \u001b[48;2;255;250;250mclinical\u001b[0m \u001b[48;2;255;250;250mtrials\u001b[0m \u001b[48;2;255;239;239mconfirm\u001b[0m \u001b[48;2;255;206;206mthat\u001b[0m \u001b[48;2;255;186;186munk\u001b[0m \u001b[48;2;255;185;185msignificantly\u001b[0m \u001b[48;2;255;203;203mreduce\u001b[0m \u001b[48;2;255;215;215mcardiovascular\u001b[0m \u001b[48;2;255;229;229mmorbidity\u001b[0m \u001b[48;2;255;255;255mand\u001b[0m \u001b[48;2;255;204;204mmortality\u001b[0m \u001b[48;2;255;178;178min\u001b[0m \u001b[48;2;255;110;110mpatients\u001b[0m \u001b[48;2;255;62;62mwith\u001b[0m \u001b[48;2;255;0;0mand\u001b[0m \u001b[48;2;255;16;16mwithout\u001b[0m \u001b[48;2;255;107;107mprevious\u001b[0m \u001b[48;2;255;159;159mcoronary\u001b[0m \u001b[48;2;255;181;181martery\u001b[0m \u001b[48;2;255;203;203mdisease\u001b[0m \u001b[48;2;255;235;235m.\u001b[0m \u001b[48;2;255;250;250mthe\u001b[0m \u001b[48;2;255;244;244mpotential\u001b[0m \u001b[48;2;255;250;250mof\u001b[0m \u001b[48;2;255;245;245mthis\u001b[0m \u001b[48;2;255;234;234mdrug\u001b[0m \u001b[48;2;255;234;234mclass\u001b[0m \u001b[48;2;255;235;235mhas\u001b[0m \u001b[48;2;255;229;229myet\u001b[0m \u001b[48;2;255;213;213mto\u001b[0m \u001b[48;2;255;224;224mbe\u001b[0m \u001b[48;2;255;234;234mfully\u001b[0m \u001b[48;2;255;222;222mexplored\u001b[0m \u001b[48;2;255;196;196m.\u001b[0m \u001b[48;2;255;218;218mstudies\u001b[0m \u001b[48;2;255;255;255mcurrently\u001b[0m \u001b[48;2;255;255;255munder\u001b[0m \u001b[48;2;255;255;255mway\u001b[0m \u001b[48;2;255;255;255mwill\u001b[0m \u001b[48;2;255;255;255munk\u001b[0m \u001b[48;2;255;255;255mmany\u001b[0m \u001b[48;2;255;255;255mof\u001b[0m \u001b[48;2;255;255;255mthe\u001b[0m \u001b[48;2;255;255;255munk\u001b[0m \u001b[48;2;255;255;255mquestions\u001b[0m \u001b[48;2;255;255;255m.\u001b[0m intervention\n",
      "\u001b[48;2;255;255;255mthis\u001b[0m \u001b[48;2;255;255;255marticle\u001b[0m \u001b[48;2;255;204;204maims\u001b[0m \u001b[48;2;255;165;165mto\u001b[0m \u001b[48;2;255;126;126mreview\u001b[0m \u001b[48;2;255;91;91mlessons\u001b[0m \u001b[48;2;255;17;17munk\u001b[0m \u001b[48;2;255;0;0mabout\u001b[0m \u001b[48;2;255;99;99mlipid\u001b[0m \u001b[48;2;255;211;211mlowering\u001b[0m \u001b[48;2;255;230;230mand\u001b[0m \u001b[48;2;255;254;254munk\u001b[0m \u001b[48;2;255;255;255min\u001b[0m \u001b[48;2;255;255;255mthe\u001b[0m \u001b[48;2;255;255;255mpast\u001b[0m \u001b[48;2;255;255;255munk\u001b[0m \u001b[48;2;255;255;255mand\u001b[0m \u001b[48;2;255;255;255mto\u001b[0m \u001b[48;2;255;255;255munk\u001b[0m \u001b[48;2;255;255;255mwhat\u001b[0m \u001b[48;2;255;255;255munk\u001b[0m \u001b[48;2;255;255;255mthe\u001b[0m \u001b[48;2;255;255;255mfuture\u001b[0m \u001b[48;2;255;255;255mmay\u001b[0m \u001b[48;2;255;255;255munk\u001b[0m \u001b[48;2;255;255;255m.\u001b[0m \u001b[48;2;255;255;255mresults\u001b[0m \u001b[48;2;255;255;255mfrom\u001b[0m \u001b[48;2;255;255;255ma\u001b[0m \u001b[48;2;255;255;255mseries\u001b[0m \u001b[48;2;255;244;244mof\u001b[0m \u001b[48;2;255;221;221munk\u001b[0m \u001b[48;2;255;221;221mclinical\u001b[0m \u001b[48;2;255;235;235mtrials\u001b[0m \u001b[48;2;255;249;249mconfirm\u001b[0m \u001b[48;2;255;228;228mthat\u001b[0m \u001b[48;2;255;224;224munk\u001b[0m \u001b[48;2;255;237;237msignificantly\u001b[0m \u001b[48;2;255;241;241mreduce\u001b[0m \u001b[48;2;255;255;255mcardiovascular\u001b[0m \u001b[48;2;255;255;255mmorbidity\u001b[0m \u001b[48;2;255;255;255mand\u001b[0m \u001b[48;2;255;255;255mmortality\u001b[0m \u001b[48;2;255;255;255min\u001b[0m \u001b[48;2;255;255;255mpatients\u001b[0m \u001b[48;2;255;255;255mwith\u001b[0m \u001b[48;2;255;255;255mand\u001b[0m \u001b[48;2;255;255;255mwithout\u001b[0m \u001b[48;2;255;255;255mprevious\u001b[0m \u001b[48;2;255;255;255mcoronary\u001b[0m \u001b[48;2;255;255;255martery\u001b[0m \u001b[48;2;255;255;255mdisease\u001b[0m \u001b[48;2;255;255;255m.\u001b[0m \u001b[48;2;255;255;255mthe\u001b[0m \u001b[48;2;255;255;255mpotential\u001b[0m \u001b[48;2;255;255;255mof\u001b[0m \u001b[48;2;255;255;255mthis\u001b[0m \u001b[48;2;255;255;255mdrug\u001b[0m \u001b[48;2;255;255;255mclass\u001b[0m \u001b[48;2;255;253;253mhas\u001b[0m \u001b[48;2;255;255;255myet\u001b[0m \u001b[48;2;255;179;179mto\u001b[0m \u001b[48;2;255;209;209mbe\u001b[0m \u001b[48;2;255;160;160mfully\u001b[0m \u001b[48;2;255;237;237mexplored\u001b[0m \u001b[48;2;255;216;216m.\u001b[0m \u001b[48;2;255;255;255mstudies\u001b[0m \u001b[48;2;255;255;255mcurrently\u001b[0m \u001b[48;2;255;255;255munder\u001b[0m \u001b[48;2;255;255;255mway\u001b[0m \u001b[48;2;255;255;255mwill\u001b[0m \u001b[48;2;255;255;255munk\u001b[0m \u001b[48;2;255;255;255mmany\u001b[0m \u001b[48;2;255;255;255mof\u001b[0m \u001b[48;2;255;251;251mthe\u001b[0m \u001b[48;2;255;248;248munk\u001b[0m \u001b[48;2;255;233;233mquestions\u001b[0m \u001b[48;2;255;255;255m.\u001b[0m outcome\n",
      "\u001b[48;2;255;255;255mthis\u001b[0m \u001b[48;2;255;255;255marticle\u001b[0m \u001b[48;2;255;255;255maims\u001b[0m \u001b[48;2;255;255;255mto\u001b[0m \u001b[48;2;255;255;255mreview\u001b[0m \u001b[48;2;255;255;255mlessons\u001b[0m \u001b[48;2;255;255;255munk\u001b[0m \u001b[48;2;255;255;255mabout\u001b[0m \u001b[48;2;255;255;255mlipid\u001b[0m \u001b[48;2;255;255;255mlowering\u001b[0m \u001b[48;2;255;255;255mand\u001b[0m \u001b[48;2;255;255;255munk\u001b[0m \u001b[48;2;255;252;252min\u001b[0m \u001b[48;2;255;255;255mthe\u001b[0m \u001b[48;2;255;255;255mpast\u001b[0m \u001b[48;2;255;255;255munk\u001b[0m \u001b[48;2;255;255;255mand\u001b[0m \u001b[48;2;255;255;255mto\u001b[0m \u001b[48;2;255;255;255munk\u001b[0m \u001b[48;2;255;255;255mwhat\u001b[0m \u001b[48;2;255;255;255munk\u001b[0m \u001b[48;2;255;255;255mthe\u001b[0m \u001b[48;2;255;255;255mfuture\u001b[0m \u001b[48;2;255;255;255mmay\u001b[0m \u001b[48;2;255;255;255munk\u001b[0m \u001b[48;2;255;255;255m.\u001b[0m \u001b[48;2;255;255;255mresults\u001b[0m \u001b[48;2;255;255;255mfrom\u001b[0m \u001b[48;2;255;255;255ma\u001b[0m \u001b[48;2;255;255;255mseries\u001b[0m \u001b[48;2;255;255;255mof\u001b[0m \u001b[48;2;255;255;255munk\u001b[0m \u001b[48;2;255;255;255mclinical\u001b[0m \u001b[48;2;255;255;255mtrials\u001b[0m \u001b[48;2;255;255;255mconfirm\u001b[0m \u001b[48;2;255;231;231mthat\u001b[0m \u001b[48;2;255;196;196munk\u001b[0m \u001b[48;2;255;153;153msignificantly\u001b[0m \u001b[48;2;255;121;121mreduce\u001b[0m \u001b[48;2;255;65;65mcardiovascular\u001b[0m \u001b[48;2;255;0;0mmorbidity\u001b[0m \u001b[48;2;255;34;34mand\u001b[0m \u001b[48;2;255;97;97mmortality\u001b[0m \u001b[48;2;255;195;195min\u001b[0m \u001b[48;2;255;223;223mpatients\u001b[0m \u001b[48;2;255;255;255mwith\u001b[0m \u001b[48;2;255;255;255mand\u001b[0m \u001b[48;2;255;255;255mwithout\u001b[0m \u001b[48;2;255;255;255mprevious\u001b[0m \u001b[48;2;255;255;255mcoronary\u001b[0m \u001b[48;2;255;255;255martery\u001b[0m \u001b[48;2;255;255;255mdisease\u001b[0m \u001b[48;2;255;255;255m.\u001b[0m \u001b[48;2;255;255;255mthe\u001b[0m \u001b[48;2;255;255;255mpotential\u001b[0m \u001b[48;2;255;255;255mof\u001b[0m \u001b[48;2;255;255;255mthis\u001b[0m \u001b[48;2;255;255;255mdrug\u001b[0m \u001b[48;2;255;255;255mclass\u001b[0m \u001b[48;2;255;255;255mhas\u001b[0m \u001b[48;2;255;255;255myet\u001b[0m \u001b[48;2;255;253;253mto\u001b[0m \u001b[48;2;255;252;252mbe\u001b[0m \u001b[48;2;255;252;252mfully\u001b[0m \u001b[48;2;255;255;255mexplored\u001b[0m \u001b[48;2;255;255;255m.\u001b[0m \u001b[48;2;255;255;255mstudies\u001b[0m \u001b[48;2;255;255;255mcurrently\u001b[0m \u001b[48;2;255;255;255munder\u001b[0m \u001b[48;2;255;255;255mway\u001b[0m \u001b[48;2;255;255;255mwill\u001b[0m \u001b[48;2;255;255;255munk\u001b[0m \u001b[48;2;255;255;255mmany\u001b[0m \u001b[48;2;255;255;255mof\u001b[0m \u001b[48;2;255;255;255mthe\u001b[0m \u001b[48;2;255;255;255munk\u001b[0m \u001b[48;2;255;255;255mquestions\u001b[0m \u001b[48;2;255;255;255m.\u001b[0m \n",
      "\u001b[41mthis\u001b[0m \u001b[41marticle\u001b[0m \u001b[42maims\u001b[0m \u001b[42mto\u001b[0m \u001b[42mreview\u001b[0m \u001b[42mlessons\u001b[0m \u001b[42munk\u001b[0m \u001b[42mabout\u001b[0m \u001b[42mlipid\u001b[0m \u001b[42mlowering\u001b[0m \u001b[42mand\u001b[0m \u001b[42munk\u001b[0m \u001b[41min\u001b[0m \u001b[41mthe\u001b[0m \u001b[41mpast\u001b[0m \u001b[41munk\u001b[0m \u001b[41mand\u001b[0m \u001b[41mto\u001b[0m \u001b[41munk\u001b[0m \u001b[41mwhat\u001b[0m \u001b[41munk\u001b[0m \u001b[41mthe\u001b[0m \u001b[41mfuture\u001b[0m \u001b[41mmay\u001b[0m \u001b[41munk\u001b[0m \u001b[41m.\u001b[0m \u001b[41mresults\u001b[0m \u001b[41mfrom\u001b[0m \u001b[41ma\u001b[0m \u001b[41mseries\u001b[0m \u001b[42mof\u001b[0m \u001b[42munk\u001b[0m \u001b[42mclinical\u001b[0m \u001b[42mtrials\u001b[0m \u001b[41mconfirm\u001b[0m \u001b[41mthat\u001b[0m \u001b[41munk\u001b[0m \u001b[44msignificantly\u001b[0m \u001b[44mreduce\u001b[0m \u001b[44mcardiovascular\u001b[0m \u001b[44mmorbidity\u001b[0m \u001b[44mand\u001b[0m \u001b[44mmortality\u001b[0m \u001b[41min\u001b[0m \u001b[41mpatients\u001b[0m \u001b[41mwith\u001b[0m \u001b[41mand\u001b[0m \u001b[41mwithout\u001b[0m \u001b[41mprevious\u001b[0m \u001b[41mcoronary\u001b[0m \u001b[41martery\u001b[0m \u001b[41mdisease\u001b[0m \u001b[41m.\u001b[0m \u001b[41mthe\u001b[0m \u001b[41mpotential\u001b[0m \u001b[41mof\u001b[0m \u001b[41mthis\u001b[0m \u001b[41mdrug\u001b[0m \u001b[41mclass\u001b[0m \u001b[41mhas\u001b[0m \u001b[41myet\u001b[0m \u001b[42mto\u001b[0m \u001b[42mbe\u001b[0m \u001b[42mfully\u001b[0m \u001b[41mexplored\u001b[0m \u001b[41m.\u001b[0m \u001b[41mstudies\u001b[0m \u001b[41mcurrently\u001b[0m \u001b[41munder\u001b[0m \u001b[41mway\u001b[0m \u001b[41mwill\u001b[0m \u001b[41munk\u001b[0m \u001b[41mmany\u001b[0m \u001b[41mof\u001b[0m \u001b[42mthe\u001b[0m \u001b[42munk\u001b[0m \u001b[42mquestions\u001b[0m \u001b[41m.\u001b[0m\n"
     ]
    }
   ],
   "source": [
    "s = 1127\n",
    "#14, 20, 30, 50, 1000, 300, 600, 800, 900, 1200, 850\n",
    "float_formatter = lambda x: \"%.2f\" % x\n",
    "np.set_printoptions(formatter={'float':float_formatter})\n",
    "gates = {}\n",
    "for aspect in aspects :\n",
    "    gate0 = filter_aspect[aspect][s, :, 1]\n",
    "    nz = sum([1 for i in filter_aspect[aspect][s, :, 0] if i == 0])\n",
    "    gate0 = np.convolve(gate0, [1./3 for _ in range(3)], mode='same')\n",
    "    gate0 = (gate0 - gate0[nz:].mean(axis=0))\n",
    "    gate0 = gate0.clip(0, 1)\n",
    "    gate0 = gate0 / gate0.max(axis=0)\n",
    "\n",
    "    gates[aspect] = gate0\n",
    "    \n",
    "#gates_c = np.vstack()\n",
    "gates4 = np.vstack([gates[aspect] for aspect in aspects])\n",
    "gates5 = gates4.argmax(axis=0)#softmax(gates4*10)#/gates4.max(axis=0)\n",
    "\n",
    "X_words = [vec.idx2word[int(i)] for i in filter_aspect[aspect][s, :, 0]]\n",
    "for aspect in aspects :\n",
    "    print aspect\n",
    "    for i, j in zip(X_words, gates[aspect]) :\n",
    "        if i != '[0]' :\n",
    "            print color(i, bg=[255, int((1-j)*255), int((1-j)*255)]),\n",
    "#     for i, j in zip(X_words, gates[aspect]) :\n",
    "#         if i != '[0]' :\n",
    "#             print '{\\setlength{\\\\fboxsep}{0pt}\\colorbox{green!' +str(int(j*100))+ '!white}{' + i + '}}',\n",
    "#     print \"\"\n",
    "\n",
    "print \"\"\n",
    "c=['red','green','blue']\n",
    "for i, l, j in zip(X_words, gates4.T, gates5.T) :\n",
    "    #r,g,b = j\n",
    "    if i != '[0]' :\n",
    "        print color(i, bg=c[j]),#[int((1-g-b))*255, int((1-r-b)*255), int((1-r-g)*255)]),\n",
    "# for i, l, j in zip(X_words, gates4.T, gates5.T) :\n",
    "#     if i != '[0]' :\n",
    "#         print '{\\setlength{\\\\fboxsep}{0pt}\\colorbox{'+c[j]+'!' +str(int(l[j]*100))+ '!white}{' + i + '}}',\n",
    "# print \"\"\n",
    "\n"
   ]
  },
  {
   "cell_type": "code",
   "execution_count": 9,
   "metadata": {
    "collapsed": true
   },
   "outputs": [],
   "source": [
    "from colors import color"
   ]
  },
  {
   "cell_type": "code",
   "execution_count": 59,
   "metadata": {},
   "outputs": [
    {
     "data": {
      "text/plain": [
       "array([234, 393, 490, 347, 181, 300, 156, 313, 417, 220, 124, 130, 169,\n",
       "       145, 244, 148, 262,  58, 476, 298])"
      ]
     },
     "execution_count": 59,
     "metadata": {},
     "output_type": "execute_result"
    }
   ],
   "source": [
    "C['abstract'][sample].clip(0, 1).sum(axis=-1).argsort()[:20]"
   ]
  },
  {
   "cell_type": "code",
   "execution_count": 70,
   "metadata": {
    "collapsed": true
   },
   "outputs": [],
   "source": [
    "def softmax(X, theta = 1.0, axis = None):\n",
    "    \"\"\"\n",
    "    Compute the softmax of each element along an axis of X.\n",
    "\n",
    "    Parameters\n",
    "    ----------\n",
    "    X: ND-Array. Probably should be floats. \n",
    "    theta (optional): float parameter, used as a multiplier\n",
    "        prior to exponentiation. Default = 1.0\n",
    "    axis (optional): axis to compute values along. Default is the \n",
    "        first non-singleton axis.\n",
    "\n",
    "    Returns an array the same size as X. The result will sum to 1\n",
    "    along the specified axis.\n",
    "    \"\"\"\n",
    "\n",
    "    # make X at least 2d\n",
    "    y = np.atleast_2d(X)\n",
    "\n",
    "    # find axis\n",
    "    if axis is None:\n",
    "        axis = next(j[0] for j in enumerate(y.shape) if j[1] > 1)\n",
    "\n",
    "    # multiply y against the theta parameter, \n",
    "    y = y * float(theta)\n",
    "\n",
    "    # subtract the max for numerical stability\n",
    "    y = y - np.expand_dims(np.max(y, axis = axis), axis)\n",
    "\n",
    "    # exponentiate y\n",
    "    y = np.exp(y)\n",
    "\n",
    "    # take the sum along the specified axis\n",
    "    ax_sum = np.expand_dims(np.sum(y, axis = axis), axis)\n",
    "\n",
    "    # finally: divide elementwise\n",
    "    p = y / ax_sum\n",
    "\n",
    "    # flatten if X was 1D\n",
    "    if len(X.shape) == 1: p = p.flatten()\n",
    "\n",
    "    return p"
   ]
  },
  {
   "cell_type": "code",
   "execution_count": null,
   "metadata": {
    "collapsed": true
   },
   "outputs": [],
   "source": []
  }
 ],
 "metadata": {
  "kernelspec": {
   "display_name": "Python 2",
   "language": "python",
   "name": "python2"
  },
  "language_info": {
   "codemirror_mode": {
    "name": "ipython",
    "version": 2
   },
   "file_extension": ".py",
   "mimetype": "text/x-python",
   "name": "python",
   "nbconvert_exporter": "python",
   "pygments_lexer": "ipython2",
   "version": "2.7.14"
  }
 },
 "nbformat": 4,
 "nbformat_minor": 2
}
