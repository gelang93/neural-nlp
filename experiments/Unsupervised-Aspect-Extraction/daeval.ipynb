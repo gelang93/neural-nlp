{
 "cells": [
  {
   "cell_type": "code",
   "execution_count": 1,
   "metadata": {
    "collapsed": true
   },
   "outputs": [],
   "source": [
    "%load_ext autoreload\n",
    "%autoreload 2"
   ]
  },
  {
   "cell_type": "code",
   "execution_count": 2,
   "metadata": {
    "collapsed": true
   },
   "outputs": [],
   "source": [
    "import pickle\n",
    "import numpy as np\n",
    "lang_1 = pickle.load(open('data_pico_da.p', 'rb'))"
   ]
  },
  {
   "cell_type": "code",
   "execution_count": 3,
   "metadata": {
    "collapsed": true
   },
   "outputs": [],
   "source": [
    "lang_1['vocab_size'] = len(lang_1['word2idx'])\n",
    "lang_1['word_dim'] = 200"
   ]
  },
  {
   "cell_type": "code",
   "execution_count": 4,
   "metadata": {
    "collapsed": true
   },
   "outputs": [],
   "source": [
    "for i, doc in enumerate(lang_1['da']) :\n",
    "    new_sent = [sent for sent in doc if len(sent) > 0]\n",
    "    lang_1['da'][i] = new_sent"
   ]
  },
  {
   "cell_type": "code",
   "execution_count": 5,
   "metadata": {
    "collapsed": true
   },
   "outputs": [],
   "source": [
    "import torch\n",
    "import model\n",
    "mod = model.Model(lang_1=lang_1, num_aspect=30)"
   ]
  },
  {
   "cell_type": "code",
   "execution_count": 7,
   "metadata": {},
   "outputs": [],
   "source": [
    "mod.load_values('results/model_MonFeb1912:25:042018_pico_tanh')"
   ]
  },
  {
   "cell_type": "code",
   "execution_count": 8,
   "metadata": {
    "collapsed": true
   },
   "outputs": [],
   "source": [
    "embeds = []\n",
    "for doc in lang_1['da'] :\n",
    "    doc = [[x for x in sent] for sent in doc]\n",
    "    mod.train_batch(doc, [doc], update=False, do_tanh=True)\n",
    "    embeds.append(mod.z_s)"
   ]
  },
  {
   "cell_type": "code",
   "execution_count": 9,
   "metadata": {
    "collapsed": true
   },
   "outputs": [],
   "source": [
    "for i, e in enumerate(embeds) :\n",
    "    embeds[i] = e.sum(dim=0).cpu().numpy()\n",
    "e = np.array(embeds)"
   ]
  },
  {
   "cell_type": "code",
   "execution_count": 10,
   "metadata": {
    "collapsed": true
   },
   "outputs": [],
   "source": [
    "import pandas as pd\n",
    "import numpy as np\n",
    "da = pd.read_csv('../data/files/decision_aids_filter.csv')\n",
    "im_map = {'breast cancer': 'BCT', \n",
    "          'healthy women at risk of breast cancer': 'BCS', \n",
    "          'type II diabetes': 'D',\n",
    "          'menopausal women': 'MW',\n",
    "          'pregnant women, previous C section': 'PWC',\n",
    "          'pregnant women': 'PW',\n",
    "          'healthy people, at risk colon cancer': 'CCS',\n",
    "          'prostate cancer': 'PCT',\n",
    "          'healthy men, contemplating risk of prostate cancer': 'PCS',\n",
    "          'AF': 'AF',\n",
    "          'healthy women at genetic risk of breast cancer': 'BCG'}\n",
    "\n",
    "nb_studies = len(da)\n",
    "H = np.zeros((nb_studies, nb_studies))\n",
    "for i in range(nb_studies) :\n",
    "    H[i, da[da['IM_population'] == da['IM_population'][i]].index] = 1\n",
    "np.fill_diagonal(H, 0)"
   ]
  },
  {
   "cell_type": "code",
   "execution_count": 11,
   "metadata": {
    "collapsed": true
   },
   "outputs": [],
   "source": [
    "from sklearn.preprocessing import normalize\n",
    "e = normalize(e, 'l2')\n",
    "scores = np.dot(e, e.T)\n",
    "scores[np.arange(nb_studies), np.arange(nb_studies)] = -1000"
   ]
  },
  {
   "cell_type": "code",
   "execution_count": 12,
   "metadata": {},
   "outputs": [
    {
     "name": "stdout",
     "output_type": "stream",
     "text": [
      "AF                                                    0.381944\n",
      "breast cancer                                         0.613463\n",
      "healthy men, contemplating risk of prostate cancer    0.574461\n",
      "healthy people, at risk colon cancer                  0.556496\n",
      "healthy women at genetic risk of breast cancer        0.720482\n",
      "healthy women at risk of breast cancer                0.583825\n",
      "mean                                                  0.603923\n",
      "menopausal women                                      0.584330\n",
      "pregnant women                                        0.704879\n",
      "pregnant women, previous C section                    0.980392\n",
      "prostate cancer                                       0.431928\n",
      "type II diabetes                                      0.763253\n",
      "dtype: float64\n"
     ]
    }
   ],
   "source": [
    "from sklearn.metrics import roc_auc_score\n",
    "aucs = [0] * nb_studies\n",
    "for i in range(nb_studies) :\n",
    "    aucs[i] = roc_auc_score(H[i], scores[i])\n",
    "rocs = {}\n",
    "for key in im_map :\n",
    "    idxs = da[da['IM_population'] == key].index\n",
    "    rocs[key] = np.mean(np.array(aucs)[idxs])\n",
    "rocs['mean'] = np.mean(aucs)\n",
    "print(pd.Series(rocs))\n"
   ]
  },
  {
   "cell_type": "code",
   "execution_count": null,
   "metadata": {
    "collapsed": true
   },
   "outputs": [],
   "source": []
  }
 ],
 "metadata": {
  "kernelspec": {
   "display_name": "Python 3",
   "language": "python",
   "name": "python3"
  },
  "language_info": {
   "codemirror_mode": {
    "name": "ipython",
    "version": 3
   },
   "file_extension": ".py",
   "mimetype": "text/x-python",
   "name": "python",
   "nbconvert_exporter": "python",
   "pygments_lexer": "ipython3",
   "version": "3.6.4"
  }
 },
 "nbformat": 4,
 "nbformat_minor": 2
}
