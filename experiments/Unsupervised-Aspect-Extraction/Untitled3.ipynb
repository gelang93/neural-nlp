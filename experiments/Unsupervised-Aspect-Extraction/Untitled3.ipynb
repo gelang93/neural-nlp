{
 "cells": [
  {
   "cell_type": "code",
   "execution_count": 1,
   "metadata": {
    "collapsed": true
   },
   "outputs": [],
   "source": [
    "%matplotlib notebook\n",
    "%reload_ext autoreload\n",
    "%autoreload 2"
   ]
  },
  {
   "cell_type": "code",
   "execution_count": 2,
   "metadata": {},
   "outputs": [
    {
     "name": "stderr",
     "output_type": "stream",
     "text": [
      "/home/sarthak/anaconda3/lib/python3.6/site-packages/h5py/__init__.py:34: FutureWarning: Conversion of the second argument of issubdtype from `float` to `np.floating` is deprecated. In future, it will be treated as `np.float64 == np.dtype(float).type`.\n",
      "  from ._conv import register_converters as _register_converters\n",
      "Using TensorFlow backend.\n"
     ]
    },
    {
     "name": "stdout",
     "output_type": "stream",
     "text": [
      "[]\n"
     ]
    }
   ],
   "source": [
    "import pickle\n",
    "import sys\n",
    "sys.path.insert(0, '../../../summarisation/preprocess')\n",
    "import vectorizer\n",
    "\n",
    "from random import shuffle\n",
    "\n",
    "df, vecs = pickle.load(open('../../../summarisation/preprocess/pico_vecdf_mindf10.p', 'rb'))\n",
    "\n",
    "lang_1 = vecs['abstract']\n",
    "lang_2 = vecs['title']\n",
    "SOS_token = lang_1.word2idx['<SOS>']\n",
    "EOS_token = lang_1.word2idx['<EOS>']\n",
    "\n",
    "sentences = pickle.load(open('../../../summarisation/preprocess/abstract_sentences.p', 'rb'))\n",
    "lang_1.sents = [sent for sent in sentences if len(sent) < 100 and len(sent) > 3]\n",
    "shuffle(lang_1.sents)"
   ]
  },
  {
   "cell_type": "code",
   "execution_count": 3,
   "metadata": {},
   "outputs": [
    {
     "data": {
      "text/plain": [
       "464228"
      ]
     },
     "execution_count": 3,
     "metadata": {},
     "output_type": "execute_result"
    }
   ],
   "source": [
    "len(lang_1.sents)"
   ]
  },
  {
   "cell_type": "code",
   "execution_count": 9,
   "metadata": {
    "collapsed": true
   },
   "outputs": [],
   "source": [
    "data = {'word2idx' : lang_1.word2idx, 'idx2word' : lang_1.idx2word, \n",
    "        'training' : lang_1.sents, 'embeddings' : lang_1.embeddings}"
   ]
  },
  {
   "cell_type": "code",
   "execution_count": 10,
   "metadata": {
    "collapsed": true
   },
   "outputs": [],
   "source": [
    "#pickle.dump(data, open('data_pico.p', 'wb'))"
   ]
  },
  {
   "cell_type": "code",
   "execution_count": 3,
   "metadata": {
    "collapsed": true
   },
   "outputs": [],
   "source": [
    "from nltk.corpus import stopwords"
   ]
  },
  {
   "cell_type": "code",
   "execution_count": 4,
   "metadata": {
    "collapsed": true
   },
   "outputs": [],
   "source": [
    "from nltk.stem.wordnet import WordNetLemmatizer\n",
    "\n",
    "lmtzr = WordNetLemmatizer()"
   ]
  },
  {
   "cell_type": "code",
   "execution_count": 5,
   "metadata": {
    "collapsed": true
   },
   "outputs": [],
   "source": [
    "lemss = []\n",
    "for word in lang_1.word2idx :\n",
    "    lemss.append(lmtzr.lemmatize(word))"
   ]
  },
  {
   "cell_type": "code",
   "execution_count": 6,
   "metadata": {
    "collapsed": true
   },
   "outputs": [],
   "source": [
    "new_sents = []\n",
    "import re\n",
    "stops = stopwords.words('english')\n",
    "for sent in lang_1.sents :\n",
    "    sent = [lang_1.idx2word[idx] for idx in sent]\n",
    "    sent = [re.sub('[^a-zA-Z0-9]', '', x).strip() for x in sent]\n",
    "    sent = [x for x in sent if len(x) > 0]\n",
    "    sent = [word for word in sent if word not in stops]\n",
    "    sent = [lmtzr.lemmatize(word) for word in sent]\n",
    "    new_sents.append(sent)"
   ]
  },
  {
   "cell_type": "code",
   "execution_count": 8,
   "metadata": {},
   "outputs": [],
   "source": [
    "from gensim.models import KeyedVectors\n",
    "model = KeyedVectors.load_word2vec_format('../../wikipedia-pubmed-and-PMC-w2v.bin', binary=True)"
   ]
  },
  {
   "cell_type": "code",
   "execution_count": 9,
   "metadata": {
    "collapsed": true
   },
   "outputs": [],
   "source": [
    "from collections import defaultdict\n",
    "training_data = new_sents\n",
    "vocab = defaultdict(int)\n",
    "for line in training_data :\n",
    "    for word in line :\n",
    "        vocab[word] += 1"
   ]
  },
  {
   "cell_type": "code",
   "execution_count": 10,
   "metadata": {
    "collapsed": true
   },
   "outputs": [],
   "source": [
    "word2idx = {'[0]' : 0}\n",
    "idx = len(word2idx)\n",
    "for word in vocab :\n",
    "    word2idx[word] = idx\n",
    "    idx += 1"
   ]
  },
  {
   "cell_type": "code",
   "execution_count": 11,
   "metadata": {},
   "outputs": [
    {
     "name": "stdout",
     "output_type": "stream",
     "text": [
      "0\n",
      "100000\n",
      "200000\n",
      "300000\n",
      "400000\n"
     ]
    }
   ],
   "source": [
    "idx_train = []\n",
    "for i, line in enumerate(training_data) :\n",
    "    nline = []\n",
    "    for word in line :\n",
    "        if any(char.isdigit() for char in word) :\n",
    "            nline.append(word2idx['qqq'])\n",
    "        elif word in word2idx :\n",
    "            nline.append(word2idx[word])\n",
    "        else :\n",
    "            nline.append(word2idx['unk'])\n",
    "    idx_train.append(nline)\n",
    "    if i%100000 == 0:\n",
    "        print(i)"
   ]
  },
  {
   "cell_type": "code",
   "execution_count": 12,
   "metadata": {
    "collapsed": true
   },
   "outputs": [],
   "source": [
    "idx2word = {v:k for k,v in word2idx.items()}\n",
    "data = {'word2idx' : word2idx, 'idx2word' : idx2word, 'training' : idx_train}"
   ]
  },
  {
   "cell_type": "code",
   "execution_count": 13,
   "metadata": {
    "collapsed": true
   },
   "outputs": [],
   "source": [
    "import numpy as np\n",
    "embeddings = np.zeros((len(data['word2idx']), 200))"
   ]
  },
  {
   "cell_type": "code",
   "execution_count": 14,
   "metadata": {
    "collapsed": true
   },
   "outputs": [],
   "source": [
    "for word in data['word2idx'] :\n",
    "    if word in model.vocab :\n",
    "        embeddings[data['word2idx'][word], :] = list(model[word])\n",
    "    else :\n",
    "        embeddings[data['word2idx'][word], :] = np.random.randn(200)"
   ]
  },
  {
   "cell_type": "code",
   "execution_count": 15,
   "metadata": {
    "collapsed": true
   },
   "outputs": [],
   "source": [
    "data['embeddings'] = embeddings\n",
    "pickle.dump(data, open('data_pico_new.p', 'wb'))"
   ]
  }
 ],
 "metadata": {
  "kernelspec": {
   "display_name": "Python 3",
   "language": "python",
   "name": "python3"
  },
  "language_info": {
   "codemirror_mode": {
    "name": "ipython",
    "version": 3
   },
   "file_extension": ".py",
   "mimetype": "text/x-python",
   "name": "python",
   "nbconvert_exporter": "python",
   "pygments_lexer": "ipython3",
   "version": "3.6.4"
  }
 },
 "nbformat": 4,
 "nbformat_minor": 2
}
