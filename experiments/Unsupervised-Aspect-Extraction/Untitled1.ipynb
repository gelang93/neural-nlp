{
 "cells": [
  {
   "cell_type": "code",
   "execution_count": null,
   "metadata": {
    "collapsed": true
   },
   "outputs": [],
   "source": [
    "import pickle\n",
    "import sys\n",
    "sys.path.insert(0, '../../../summarisation/preprocess')\n",
    "import vectorizer"
   ]
  },
  {
   "cell_type": "code",
   "execution_count": null,
   "metadata": {
    "collapsed": true
   },
   "outputs": [],
   "source": [
    "training_data = open('preprocessed_data/beer/train.txt', 'r').readlines()"
   ]
  },
  {
   "cell_type": "code",
   "execution_count": null,
   "metadata": {
    "collapsed": true
   },
   "outputs": [],
   "source": [
    "training_data = [x.split() for x in training_data]"
   ]
  },
  {
   "cell_type": "code",
   "execution_count": null,
   "metadata": {
    "collapsed": true
   },
   "outputs": [],
   "source": [
    "from collections import defaultdict\n",
    "vocab = defaultdict(int)\n",
    "for line in training_data :\n",
    "    for word in line :\n",
    "        vocab[word] += 1"
   ]
  },
  {
   "cell_type": "code",
   "execution_count": null,
   "metadata": {
    "collapsed": true
   },
   "outputs": [],
   "source": [
    "filter_vocab = {k:v for k, v in vocab.items() if not any(char.isdigit() for char in k)}\n",
    "sorted_vocab = sorted(filter_vocab.items(), key=lambda x:-x[1])\n",
    "top10k = sorted_vocab[:10000]\n",
    "vocab_10k = {k:v for k,v in top10k}"
   ]
  },
  {
   "cell_type": "code",
   "execution_count": null,
   "metadata": {
    "collapsed": true
   },
   "outputs": [],
   "source": [
    "word2idx = {'[0]' : 0, '<unk>' : 1, '<qqq>' : 2}\n",
    "idx = len(word2idx)\n",
    "for word in vocab_10k :\n",
    "    word2idx[word] = idx\n",
    "    idx+=1"
   ]
  },
  {
   "cell_type": "code",
   "execution_count": null,
   "metadata": {
    "collapsed": true
   },
   "outputs": [],
   "source": [
    "idx_train = []\n",
    "for i, line in enumerate(training_data) :\n",
    "    nline = []\n",
    "    for word in line :\n",
    "        if any(char.isdigit() for char in word) :\n",
    "            nline.append(2)\n",
    "        elif word in word2idx :\n",
    "            nline.append(word2idx[word])\n",
    "        else :\n",
    "            nline.append(1)\n",
    "    idx_train.append(nline)\n",
    "    if i%100000 == 0:\n",
    "        print(i)"
   ]
  },
  {
   "cell_type": "code",
   "execution_count": null,
   "metadata": {
    "collapsed": true
   },
   "outputs": [],
   "source": [
    "test_data = open('preprocessed_data/beer/test.txt', 'r').readlines()\n",
    "test_data = [x.split() for x in test_data]"
   ]
  },
  {
   "cell_type": "code",
   "execution_count": null,
   "metadata": {
    "collapsed": true
   },
   "outputs": [],
   "source": [
    "idx_test = []\n",
    "for i, line in enumerate(test_data) :\n",
    "    nline = []\n",
    "    for word in line :\n",
    "        if any(char.isdigit() for char in word) :\n",
    "            nline.append(2)\n",
    "        elif word in word2idx :\n",
    "            nline.append(word2idx[word])\n",
    "        else :\n",
    "            nline.append(1)\n",
    "    idx_test.append(nline)\n",
    "    if i%100000 == 0:\n",
    "        print(i)"
   ]
  },
  {
   "cell_type": "code",
   "execution_count": null,
   "metadata": {
    "collapsed": true
   },
   "outputs": [],
   "source": [
    "idx2word = {v:k for k,v in word2idx.items()}"
   ]
  },
  {
   "cell_type": "code",
   "execution_count": null,
   "metadata": {
    "collapsed": true
   },
   "outputs": [],
   "source": [
    "data = {'word2idx' : word2idx, 'idx2word' : idx2word, 'training' : idx_train, 'test' : idx_test}"
   ]
  },
  {
   "cell_type": "code",
   "execution_count": null,
   "metadata": {
    "collapsed": true
   },
   "outputs": [],
   "source": [
    "#pickle.dump(data, open('data_beer.p', 'wb'))"
   ]
  },
  {
   "cell_type": "code",
   "execution_count": 1,
   "metadata": {
    "collapsed": true
   },
   "outputs": [],
   "source": [
    "import pickle\n",
    "data = pickle.load(open('data_beer.p', 'rb'))"
   ]
  },
  {
   "cell_type": "code",
   "execution_count": 2,
   "metadata": {
    "collapsed": true
   },
   "outputs": [],
   "source": [
    "from gensim.models import Word2Vec\n",
    "model = Word2Vec.load('preprocessed_data/beer/w2v_embedding')"
   ]
  },
  {
   "cell_type": "code",
   "execution_count": 3,
   "metadata": {
    "collapsed": true
   },
   "outputs": [],
   "source": [
    "import numpy as np\n",
    "embeddings = np.zeros((len(data['word2idx']), 200))"
   ]
  },
  {
   "cell_type": "code",
   "execution_count": 4,
   "metadata": {
    "collapsed": true
   },
   "outputs": [],
   "source": [
    "for word in data['word2idx'] :\n",
    "    if word in model.vocab :\n",
    "        embeddings[data['word2idx'][word], :] = list(model[word])\n",
    "        "
   ]
  },
  {
   "cell_type": "code",
   "execution_count": 5,
   "metadata": {
    "collapsed": true
   },
   "outputs": [],
   "source": [
    "for i in range(3) :\n",
    "    embeddings[i, :] = np.random.randn(200)"
   ]
  },
  {
   "cell_type": "code",
   "execution_count": 6,
   "metadata": {
    "collapsed": true
   },
   "outputs": [],
   "source": [
    "data['embeddings'] = embeddings"
   ]
  },
  {
   "cell_type": "code",
   "execution_count": 7,
   "metadata": {
    "collapsed": true
   },
   "outputs": [],
   "source": [
    "pickle.dump(data, open('data_beer_embed.p', 'wb'))"
   ]
  },
  {
   "cell_type": "code",
   "execution_count": 36,
   "metadata": {
    "collapsed": true
   },
   "outputs": [],
   "source": [
    "for word in data['word2idx'] :\n",
    "    if word in model.vocab :\n",
    "        assert all(embeddings[data['word2idx'][word]] == list(model[word]))"
   ]
  }
 ],
 "metadata": {
  "kernelspec": {
   "display_name": "Python 3",
   "language": "python",
   "name": "python3"
  },
  "language_info": {
   "codemirror_mode": {
    "name": "ipython",
    "version": 3
   },
   "file_extension": ".py",
   "mimetype": "text/x-python",
   "name": "python",
   "nbconvert_exporter": "python",
   "pygments_lexer": "ipython3",
   "version": "3.6.4"
  }
 },
 "nbformat": 4,
 "nbformat_minor": 2
}
