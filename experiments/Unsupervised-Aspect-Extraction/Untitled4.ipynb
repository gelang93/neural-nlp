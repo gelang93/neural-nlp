{
 "cells": [
  {
   "cell_type": "code",
   "execution_count": 1,
   "metadata": {
    "collapsed": true
   },
   "outputs": [],
   "source": [
    "%matplotlib notebook\n",
    "%reload_ext autoreload\n",
    "%autoreload 2"
   ]
  },
  {
   "cell_type": "code",
   "execution_count": 5,
   "metadata": {
    "collapsed": true
   },
   "outputs": [],
   "source": [
    "import pickle\n",
    "import sys\n",
    "sys.path.insert(0, '../../preprocess')\n",
    "import vectorizer\n",
    "\n",
    "with open('../../preprocess/cohendata_dedup_19995.p', 'rb') as f:\n",
    "    u = pickle._Unpickler(f)\n",
    "    u.encoding = 'latin1'\n",
    "    lang_1 = u.load()"
   ]
  },
  {
   "cell_type": "code",
   "execution_count": 9,
   "metadata": {
    "collapsed": true
   },
   "outputs": [],
   "source": [
    "import re\n",
    "\n",
    "joined = [[lang_1.idx2word[y] for y in sent] for sent in lang_1.X]\n",
    "joined = [list(filter(lambda x: '\\n' not in x and '[0]' not in x, sent)) for sent in joined]\n",
    "joined = [' '.join(sent) for sent in joined]\n",
    "joined = [re.sub(r'\\. qqq \\.', '.', sent) for sent in joined]\n",
    "joined = [sent.split(' ') for sent in joined]"
   ]
  },
  {
   "cell_type": "code",
   "execution_count": 16,
   "metadata": {
    "collapsed": true
   },
   "outputs": [],
   "source": [
    "from itertools import groupby\n",
    "new_sents = []\n",
    "for sent in joined :\n",
    "    sent = [x for x in sent if x not in ['<SOS>', '<EOS>'] and '\\n' not in x]\n",
    "    sents = [list(group) for k, group in groupby(sent, lambda x: x == '.' or x == '?') if not k]\n",
    "    new_sents.append(sents)"
   ]
  },
  {
   "cell_type": "code",
   "execution_count": 19,
   "metadata": {
    "collapsed": true
   },
   "outputs": [],
   "source": [
    "from nltk.corpus import stopwords\n",
    "from nltk.stem.wordnet import WordNetLemmatizer\n",
    "lmtzr = WordNetLemmatizer()"
   ]
  },
  {
   "cell_type": "code",
   "execution_count": 20,
   "metadata": {
    "collapsed": true
   },
   "outputs": [],
   "source": [
    "process_sents = []\n",
    "import re\n",
    "stops = stopwords.words('english')\n",
    "for doc in new_sents :\n",
    "    changes = []\n",
    "    for sent in doc :\n",
    "        sent = [re.sub('[^a-zA-Z0-9]', '', x).strip() for x in sent]\n",
    "        sent = [x for x in sent if len(x) > 0]\n",
    "        sent = [word for word in sent if word not in stops]\n",
    "        sent = [lmtzr.lemmatize(word) for word in sent]\n",
    "        changes.append(sent)\n",
    "    process_sents.append(changes)"
   ]
  },
  {
   "cell_type": "code",
   "execution_count": 28,
   "metadata": {
    "collapsed": true
   },
   "outputs": [],
   "source": [
    "data = pickle.load(open('data_pico_new.p', 'rb'))"
   ]
  },
  {
   "cell_type": "code",
   "execution_count": 30,
   "metadata": {
    "collapsed": true
   },
   "outputs": [],
   "source": [
    "idx_cohen = []\n",
    "word2idx = data['word2idx']\n",
    "for doc in process_sents :\n",
    "    idxs = []\n",
    "    for sent in doc :\n",
    "        nline = []\n",
    "        for word in sent :\n",
    "            if any(char.isdigit() for char in word) :\n",
    "                nline.append(word2idx['qqq'])\n",
    "            elif word in word2idx :\n",
    "                nline.append(word2idx[word])\n",
    "            else :\n",
    "                nline.append(word2idx['unk'])\n",
    "        idxs.append(nline)\n",
    "    idx_cohen.append(idxs)"
   ]
  },
  {
   "cell_type": "code",
   "execution_count": 34,
   "metadata": {
    "collapsed": true
   },
   "outputs": [],
   "source": [
    "data['cohen'] = idx_cohen"
   ]
  },
  {
   "cell_type": "code",
   "execution_count": 37,
   "metadata": {
    "collapsed": true
   },
   "outputs": [],
   "source": [
    "pickle.dump(data, open('data_pico_cohen.p', 'wb'))"
   ]
  },
  {
   "cell_type": "code",
   "execution_count": null,
   "metadata": {
    "collapsed": true
   },
   "outputs": [],
   "source": []
  }
 ],
 "metadata": {
  "kernelspec": {
   "display_name": "Python 3",
   "language": "python",
   "name": "python3"
  },
  "language_info": {
   "codemirror_mode": {
    "name": "ipython",
    "version": 3
   },
   "file_extension": ".py",
   "mimetype": "text/x-python",
   "name": "python",
   "nbconvert_exporter": "python",
   "pygments_lexer": "ipython3",
   "version": "3.6.4"
  }
 },
 "nbformat": 4,
 "nbformat_minor": 2
}
