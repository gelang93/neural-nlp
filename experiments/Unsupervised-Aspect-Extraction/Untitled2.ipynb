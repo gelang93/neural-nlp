{
 "cells": [
  {
   "cell_type": "code",
   "execution_count": 1,
   "metadata": {
    "collapsed": true
   },
   "outputs": [],
   "source": [
    "import spacy\n",
    "nlp = spacy.load('en', disable=['parser', 'tagger', 'ner'])\n",
    "\n",
    "nlp.add_pipe(nlp.create_pipe('sentencizer'))"
   ]
  },
  {
   "cell_type": "code",
   "execution_count": 2,
   "metadata": {
    "collapsed": true
   },
   "outputs": [],
   "source": [
    "import pandas as pd\n",
    "import pickle\n",
    "ds = pd.read_csv('../../beer_data/beer_ds.csv')"
   ]
  },
  {
   "cell_type": "code",
   "execution_count": 3,
   "metadata": {
    "collapsed": true
   },
   "outputs": [],
   "source": [
    "texts = ds['review/text']"
   ]
  },
  {
   "cell_type": "code",
   "execution_count": 4,
   "metadata": {
    "collapsed": true
   },
   "outputs": [],
   "source": [
    "from nltk.corpus import stopwords\n",
    "from nltk.stem.wordnet import WordNetLemmatizer\n",
    "\n",
    "lmtzr = WordNetLemmatizer()\n",
    "stop = stopwords.words('english')"
   ]
  },
  {
   "cell_type": "code",
   "execution_count": 5,
   "metadata": {},
   "outputs": [
    {
     "name": "stdout",
     "output_type": "stream",
     "text": [
      "0\n",
      "5000\n",
      "10000\n",
      "15000\n",
      "20000\n",
      "25000\n",
      "30000\n",
      "35000\n",
      "40000\n",
      "45000\n",
      "50000\n",
      "55000\n",
      "60000\n",
      "65000\n",
      "70000\n",
      "75000\n",
      "80000\n",
      "85000\n",
      "90000\n"
     ]
    }
   ],
   "source": [
    "import re\n",
    "sents = []\n",
    "for i, text in enumerate(texts) :\n",
    "    sents.append(nlp(re.sub(r\"\\s+\", ' ', text)).sents)\n",
    "    if i % 5000 == 0 :\n",
    "        print(i)"
   ]
  },
  {
   "cell_type": "code",
   "execution_count": 6,
   "metadata": {},
   "outputs": [
    {
     "name": "stdout",
     "output_type": "stream",
     "text": [
      "0\n",
      "5000\n",
      "10000\n",
      "15000\n",
      "20000\n",
      "25000\n",
      "30000\n",
      "35000\n",
      "40000\n",
      "45000\n",
      "50000\n",
      "55000\n",
      "60000\n",
      "65000\n",
      "70000\n",
      "75000\n",
      "80000\n",
      "85000\n",
      "90000\n"
     ]
    }
   ],
   "source": [
    "breaks = []\n",
    "for i, s in enumerate(sents) :\n",
    "    changed = []\n",
    "    for g in s :\n",
    "        tokens = [x.text.lower() for x in g]\n",
    "        tokens = [re.sub('[^a-zA-Z0-9]', '', x).strip() for x in tokens]\n",
    "        tokens = [x for x in tokens if len(x) > 0]\n",
    "        tokens = [x for x in tokens if x not in stop]\n",
    "        tokens = [lmtzr.lemmatize(w) for w in tokens]\n",
    "        changed.append(tokens)\n",
    "    breaks.append(changed)\n",
    "    if i % 5000 == 0 :\n",
    "        print(i)"
   ]
  },
  {
   "cell_type": "code",
   "execution_count": 28,
   "metadata": {
    "collapsed": true
   },
   "outputs": [],
   "source": [
    "lowercase_sents = []\n",
    "for sent in breaks :\n",
    "    if len(sent) <= 100 and len(sent) > 2 :\n",
    "        lowercase_sents.append(sent)"
   ]
  },
  {
   "cell_type": "code",
   "execution_count": 7,
   "metadata": {
    "collapsed": true
   },
   "outputs": [],
   "source": [
    "from collections import defaultdict\n",
    "training_data = breaks\n",
    "vocab = defaultdict(int)\n",
    "for doc in training_data :\n",
    "    for line in doc :\n",
    "        for word in line :\n",
    "            vocab[word] += 1"
   ]
  },
  {
   "cell_type": "code",
   "execution_count": 32,
   "metadata": {
    "collapsed": true
   },
   "outputs": [],
   "source": [
    "filter_vocab = {k:v for k, v in vocab.items() if not any(char.isdigit() for char in k)}\n",
    "sorted_vocab = sorted(filter_vocab.items(), key=lambda x:-x[1])\n",
    "top10k = sorted_vocab[:10000]\n",
    "vocab_10k = {k:v for k,v in top10k}"
   ]
  },
  {
   "cell_type": "code",
   "execution_count": 34,
   "metadata": {
    "collapsed": true
   },
   "outputs": [],
   "source": [
    "word2idx = {'[0]' : 0, '<unk>' : 1, '<qqq>' : 2}\n",
    "idx = len(word2idx)\n",
    "for word in vocab_10k :\n",
    "    word2idx[word] = idx\n",
    "    idx+=1"
   ]
  },
  {
   "cell_type": "code",
   "execution_count": 35,
   "metadata": {},
   "outputs": [
    {
     "name": "stdout",
     "output_type": "stream",
     "text": [
      "0\n",
      "100000\n",
      "200000\n",
      "300000\n",
      "400000\n",
      "500000\n",
      "600000\n",
      "700000\n",
      "800000\n"
     ]
    }
   ],
   "source": [
    "idx_train = []\n",
    "for i, line in enumerate(training_data) :\n",
    "    nline = []\n",
    "    for word in line :\n",
    "        if any(char.isdigit() for char in word) :\n",
    "            nline.append(2)\n",
    "        elif word in word2idx :\n",
    "            nline.append(word2idx[word])\n",
    "        else :\n",
    "            nline.append(1)\n",
    "    idx_train.append(nline)\n",
    "    if i%100000 == 0:\n",
    "        print(i)"
   ]
  },
  {
   "cell_type": "code",
   "execution_count": 36,
   "metadata": {
    "collapsed": true
   },
   "outputs": [],
   "source": [
    "idx2word = {v:k for k,v in word2idx.items()}"
   ]
  },
  {
   "cell_type": "code",
   "execution_count": 37,
   "metadata": {
    "collapsed": true
   },
   "outputs": [],
   "source": [
    "data = {'word2idx' : word2idx, 'idx2word' : idx2word, 'training' : idx_train}"
   ]
  },
  {
   "cell_type": "code",
   "execution_count": 38,
   "metadata": {
    "collapsed": true
   },
   "outputs": [],
   "source": [
    "from gensim.models import Word2Vec\n",
    "model = Word2Vec.load('../../beer_data/embedding_full.mod')"
   ]
  },
  {
   "cell_type": "code",
   "execution_count": 39,
   "metadata": {
    "collapsed": true
   },
   "outputs": [],
   "source": [
    "import numpy as np\n",
    "embeddings = np.zeros((len(data['word2idx']), 200))"
   ]
  },
  {
   "cell_type": "code",
   "execution_count": 45,
   "metadata": {
    "collapsed": true
   },
   "outputs": [],
   "source": [
    "for word in data['word2idx'] :\n",
    "    if word in model.vocab :\n",
    "        embeddings[data['word2idx'][word], :] = list(model[word])\n",
    "    else :\n",
    "        embeddings[data['word2idx'][word], :] = np.random.randn(200)"
   ]
  },
  {
   "cell_type": "code",
   "execution_count": 46,
   "metadata": {
    "collapsed": true
   },
   "outputs": [],
   "source": [
    "data['embeddings'] = embeddings\n",
    "pickle.dump(data, open('data_beer_lemm_90K.p', 'wb'))"
   ]
  },
  {
   "cell_type": "code",
   "execution_count": 48,
   "metadata": {
    "collapsed": true
   },
   "outputs": [],
   "source": [
    "for word in data['word2idx'] :\n",
    "    if word in model.vocab :\n",
    "        assert all(embeddings[data['word2idx'][word]] == list(model[word]))"
   ]
  },
  {
   "cell_type": "code",
   "execution_count": 8,
   "metadata": {
    "collapsed": true
   },
   "outputs": [],
   "source": [
    "data = pickle.load(open('data_beer_lemm_90K.p', 'rb'))"
   ]
  },
  {
   "cell_type": "code",
   "execution_count": 11,
   "metadata": {},
   "outputs": [
    {
     "name": "stdout",
     "output_type": "stream",
     "text": [
      "0\n"
     ]
    }
   ],
   "source": [
    "idx_train = []\n",
    "word2idx = data['word2idx']\n",
    "for i, doc in enumerate(breaks) :\n",
    "    lines = []\n",
    "    for line in doc :\n",
    "        nline = []\n",
    "        for word in line :\n",
    "            if any(char.isdigit() for char in word) :\n",
    "                nline.append(2)\n",
    "            elif word in word2idx :\n",
    "                nline.append(word2idx[word])\n",
    "            else :\n",
    "                nline.append(1)\n",
    "        lines.append(nline)\n",
    "    idx_train.append(lines)\n",
    "    if i%100000 == 0:\n",
    "        print(i)"
   ]
  },
  {
   "cell_type": "code",
   "execution_count": 14,
   "metadata": {},
   "outputs": [],
   "source": [
    "data['training'] = idx_train\n",
    "pickle.dump(data, open('data_beer_lemm_90K_sep.p', 'wb'))"
   ]
  },
  {
   "cell_type": "code",
   "execution_count": null,
   "metadata": {
    "collapsed": true
   },
   "outputs": [],
   "source": []
  }
 ],
 "metadata": {
  "kernelspec": {
   "display_name": "Python 3",
   "language": "python",
   "name": "python3"
  },
  "language_info": {
   "codemirror_mode": {
    "name": "ipython",
    "version": 3
   },
   "file_extension": ".py",
   "mimetype": "text/x-python",
   "name": "python",
   "nbconvert_exporter": "python",
   "pygments_lexer": "ipython3",
   "version": "3.6.4"
  }
 },
 "nbformat": 4,
 "nbformat_minor": 2
}
