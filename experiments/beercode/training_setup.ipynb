{
 "cells": [
  {
   "cell_type": "code",
   "execution_count": 3,
   "metadata": {},
   "outputs": [
    {
     "name": "stderr",
     "output_type": "stream",
     "text": [
      "Using TensorFlow backend.\n"
     ]
    }
   ],
   "source": [
    "from keras.models  import load_model\n",
    "import keras.backend as K\n",
    "\n",
    "import cPickle\n",
    "import sys\n",
    "sys.path.insert(0, '../../preprocess')\n",
    "import vectorizer\n",
    "\n",
    "import pandas as pd\n",
    "import numpy as np\n",
    "\n",
    "from support import norm\n",
    "aspects = [str(i) for i in range(4)]"
   ]
  },
  {
   "cell_type": "code",
   "execution_count": 4,
   "metadata": {
    "collapsed": true
   },
   "outputs": [],
   "source": [
    "vec = cPickle.load(open('../../beer_data/beer_vec_ds_2000.p', 'rb'))"
   ]
  },
  {
   "cell_type": "code",
   "execution_count": 5,
   "metadata": {
    "collapsed": true
   },
   "outputs": [],
   "source": [
    "X = vec.X"
   ]
  },
  {
   "cell_type": "code",
   "execution_count": 6,
   "metadata": {},
   "outputs": [],
   "source": [
    "model = load_model('../store/weights/beer/ThuNov220:01:282017/loss.h5', \n",
    "                   custom_objects={'contrastive_loss' : lambda a,b:b})"
   ]
  },
  {
   "cell_type": "code",
   "execution_count": 7,
   "metadata": {},
   "outputs": [
    {
     "name": "stdout",
     "output_type": "stream",
     "text": [
      "____________________________________________________________________________________________________\n",
      "Layer (type)                     Output Shape          Param #     Connected to                     \n",
      "====================================================================================================\n",
      "O (InputLayer)                   (None, 305)           0                                            \n",
      "____________________________________________________________________________________________________\n",
      "S0 (InputLayer)                  (None, 305)           0                                            \n",
      "____________________________________________________________________________________________________\n",
      "D0 (InputLayer)                  (None, 305)           0                                            \n",
      "____________________________________________________________________________________________________\n",
      "S1 (InputLayer)                  (None, 305)           0                                            \n",
      "____________________________________________________________________________________________________\n",
      "D1 (InputLayer)                  (None, 305)           0                                            \n",
      "____________________________________________________________________________________________________\n",
      "S2 (InputLayer)                  (None, 305)           0                                            \n",
      "____________________________________________________________________________________________________\n",
      "D2 (InputLayer)                  (None, 305)           0                                            \n",
      "____________________________________________________________________________________________________\n",
      "S3 (InputLayer)                  (None, 305)           0                                            \n",
      "____________________________________________________________________________________________________\n",
      "D3 (InputLayer)                  (None, 305)           0                                            \n",
      "____________________________________________________________________________________________________\n",
      "pool_0 (Model)                   (None, 900)           3303000     S0[0][0]                         \n",
      "                                                                   D0[0][0]                         \n",
      "                                                                   O[0][0]                          \n",
      "____________________________________________________________________________________________________\n",
      "pool_1 (Model)                   (None, 900)           3303000     D1[0][0]                         \n",
      "                                                                   O[0][0]                          \n",
      "                                                                   S1[0][0]                         \n",
      "____________________________________________________________________________________________________\n",
      "pool_2 (Model)                   (None, 900)           3303000     S2[0][0]                         \n",
      "                                                                   O[0][0]                          \n",
      "                                                                   D2[0][0]                         \n",
      "____________________________________________________________________________________________________\n",
      "pool_3 (Model)                   (None, 900)           3303000     D3[0][0]                         \n",
      "                                                                   O[0][0]                          \n",
      "                                                                   S3[0][0]                         \n",
      "____________________________________________________________________________________________________\n",
      "concatenate_5 (Concatenate)      (None, 1800)          0           pool_0[3][0]                     \n",
      "                                                                   pool_0[1][0]                     \n",
      "____________________________________________________________________________________________________\n",
      "concatenate_6 (Concatenate)      (None, 1800)          0           pool_0[3][0]                     \n",
      "                                                                   pool_0[2][0]                     \n",
      "____________________________________________________________________________________________________\n",
      "concatenate_7 (Concatenate)      (None, 1800)          0           pool_1[2][0]                     \n",
      "                                                                   pool_1[3][0]                     \n",
      "____________________________________________________________________________________________________\n",
      "concatenate_8 (Concatenate)      (None, 1800)          0           pool_1[2][0]                     \n",
      "                                                                   pool_1[1][0]                     \n",
      "____________________________________________________________________________________________________\n",
      "concatenate_9 (Concatenate)      (None, 1800)          0           pool_2[2][0]                     \n",
      "                                                                   pool_2[1][0]                     \n",
      "____________________________________________________________________________________________________\n",
      "concatenate_10 (Concatenate)     (None, 1800)          0           pool_2[2][0]                     \n",
      "                                                                   pool_2[3][0]                     \n",
      "____________________________________________________________________________________________________\n",
      "concatenate_11 (Concatenate)     (None, 1800)          0           pool_3[2][0]                     \n",
      "                                                                   pool_3[3][0]                     \n",
      "____________________________________________________________________________________________________\n",
      "concatenate_12 (Concatenate)     (None, 1800)          0           pool_3[2][0]                     \n",
      "                                                                   pool_3[1][0]                     \n",
      "____________________________________________________________________________________________________\n",
      "B0 (Dense)                       (None, 1)             1801        concatenate_5[0][0]              \n",
      "                                                                   concatenate_6[0][0]              \n",
      "____________________________________________________________________________________________________\n",
      "B1 (Dense)                       (None, 1)             1801        concatenate_7[0][0]              \n",
      "                                                                   concatenate_8[0][0]              \n",
      "____________________________________________________________________________________________________\n",
      "B2 (Dense)                       (None, 1)             1801        concatenate_9[0][0]              \n",
      "                                                                   concatenate_10[0][0]             \n",
      "____________________________________________________________________________________________________\n",
      "B3 (Dense)                       (None, 1)             1801        concatenate_11[0][0]             \n",
      "                                                                   concatenate_12[0][0]             \n",
      "____________________________________________________________________________________________________\n",
      "O_S0_score (Activation)          (None, 1)             0           B0[0][0]                         \n",
      "____________________________________________________________________________________________________\n",
      "O_D0_score (Activation)          (None, 1)             0           B0[1][0]                         \n",
      "____________________________________________________________________________________________________\n",
      "O_S1_score (Activation)          (None, 1)             0           B1[0][0]                         \n",
      "____________________________________________________________________________________________________\n",
      "O_D1_score (Activation)          (None, 1)             0           B1[1][0]                         \n",
      "____________________________________________________________________________________________________\n",
      "O_S2_score (Activation)          (None, 1)             0           B2[0][0]                         \n",
      "____________________________________________________________________________________________________\n",
      "O_D2_score (Activation)          (None, 1)             0           B2[1][0]                         \n",
      "____________________________________________________________________________________________________\n",
      "O_S3_score (Activation)          (None, 1)             0           B3[0][0]                         \n",
      "____________________________________________________________________________________________________\n",
      "O_D3_score (Activation)          (None, 1)             0           B3[1][0]                         \n",
      "====================================================================================================\n",
      "Total params: 13,219,204\n",
      "Trainable params: 13,219,204\n",
      "Non-trainable params: 0\n",
      "____________________________________________________________________________________________________\n"
     ]
    }
   ],
   "source": [
    "model.summary()"
   ]
  },
  {
   "cell_type": "code",
   "execution_count": 8,
   "metadata": {
    "collapsed": true
   },
   "outputs": [],
   "source": [
    "model_c1 = {}\n",
    "for aspect in aspects :\n",
    "    model_c1[aspect] = K.function(model.get_layer('pool_'+aspect).inputs + [K.learning_phase()], \n",
    "                          model.get_layer('pool_'+aspect).outputs)"
   ]
  },
  {
   "cell_type": "code",
   "execution_count": 12,
   "metadata": {
    "collapsed": true
   },
   "outputs": [],
   "source": [
    "samples = np.random.choice(len(X), 500, replace=False)\n",
    "X_s = X[samples]\n",
    "embeds = {}\n",
    "for aspect in aspects :\n",
    "    embeds[aspect] = model_c1[aspect]([X_s, 0])[0]"
   ]
  },
  {
   "cell_type": "code",
   "execution_count": 13,
   "metadata": {
    "collapsed": true
   },
   "outputs": [],
   "source": [
    "ds = pd.read_csv('../../beer_data/beer_ds.csv')\n",
    "from ast import literal_eval as make_tuple\n",
    "ds['bits'] = ds['bits'].map(lambda s : make_tuple(s))\n",
    "val_idxs = samples\n",
    "H = {}\n",
    "aspect_columns = sorted(['review/appearance', 'review/taste', 'review/aroma', 'review/palate'])\n",
    "\n",
    "for i in range(4) :\n",
    "    H[str(i)] = np.zeros((len(val_idxs), len(val_idxs)))\n",
    "    a0 = set(ds[ds[aspect_columns[i]] == 0].index) & set(val_idxs)\n",
    "    a1 = set(ds[ds[aspect_columns[i]] == 1].index) & set(val_idxs)\n",
    "    a0 = map(lambda s : list(val_idxs).index(s), a0)\n",
    "    a1 = map(lambda s : list(val_idxs).index(s), a1)\n",
    "    for j in a0 :\n",
    "        H[str(i)][j, a0] = 1\n",
    "    for j in a1 :\n",
    "        H[str(i)][j, a1] = 1\n",
    "\n",
    "    H[str(i)][np.arange(len(val_idxs)), np.arange(len(val_idxs))] = 0"
   ]
  },
  {
   "cell_type": "code",
   "execution_count": 14,
   "metadata": {},
   "outputs": [
    {
     "name": "stdout",
     "output_type": "stream",
     "text": [
      "0 0.556996197958\n",
      "1 0.524092064041\n",
      "2 0.514808763711\n",
      "3 0.489425963469\n"
     ]
    }
   ],
   "source": [
    "from sklearn.preprocessing import normalize\n",
    "from sklearn.metrics import roc_auc_score\n",
    "for aspect in aspects :\n",
    "    result = embeds[aspect]\n",
    "    #result = np.concatenate(embeds[aspect], axis=0)\n",
    "    result = normalize(result, 'l2')\n",
    "    scores = np.dot(result, result.T)\n",
    "    scores[np.arange(len(samples)), np.arange(len(samples))] = -1000\n",
    "    aucs = [0] * len(samples)\n",
    "    for i in range(len(samples)) :\n",
    "        aucs[i] = roc_auc_score(H[aspect][i], scores[i])\n",
    "    print aspect, np.mean(aucs)"
   ]
  },
  {
   "cell_type": "code",
   "execution_count": null,
   "metadata": {},
   "outputs": [],
   "source": [
    "input = {}\n",
    "input['O'] = X_s[0:1, :]\n",
    "vals = []\n",
    "for aspect in aspects :\n",
    "    for i in range(1, len(X_s)) :\n",
    "        input['S'+aspect] = X_s[i:(i+1), :]\n",
    "        input['D'+aspect] = X_s[i:(i+1), :]\n",
    "        vals.append(model.predict[input])\n",
    "    \n",
    "ds.iloc[[0,5,7]]"
   ]
  },
  {
   "cell_type": "code",
   "execution_count": 22,
   "metadata": {},
   "outputs": [
    {
     "data": {
      "text/plain": [
       "beer/style                 bits        \n",
       " Altbier                   (0, 0, 0, 0)      26\n",
       "                           (0, 0, 1, 0)       1\n",
       "                           (0, 1, 1, 1)       1\n",
       "                           (1, 0, 0, 0)      15\n",
       "                           (1, 0, 1, 0)       2\n",
       "                           (1, 0, 1, 1)       5\n",
       "                           (1, 1, 0, 0)      10\n",
       "                           (1, 1, 0, 1)       1\n",
       "                           (1, 1, 1, 0)       2\n",
       "                           (1, 1, 1, 1)     235\n",
       " American Adjunct Lager    (0, 0, 0, 0)    5650\n",
       "                           (0, 0, 0, 1)       2\n",
       "                           (0, 0, 1, 0)      23\n",
       "                           (0, 0, 1, 1)       3\n",
       "                           (0, 1, 0, 0)       4\n",
       "                           (0, 1, 0, 1)       1\n",
       "                           (0, 1, 1, 0)       1\n",
       "                           (1, 0, 0, 0)     171\n",
       "                           (1, 0, 1, 0)      12\n",
       "                           (1, 0, 1, 1)       5\n",
       "                           (1, 1, 0, 0)       5\n",
       "                           (1, 1, 1, 0)       2\n",
       "                           (1, 1, 1, 1)      60\n",
       " American Amber / Red Ale  (0, 0, 0, 0)     250\n",
       "                           (0, 0, 1, 0)       3\n",
       "                           (0, 1, 0, 0)       6\n",
       "                           (0, 1, 1, 0)       2\n",
       "                           (0, 1, 1, 1)       6\n",
       "                           (1, 0, 0, 0)     101\n",
       "                           (1, 0, 1, 0)      14\n",
       "                                           ... \n",
       " Wheatwine                 (1, 0, 0, 0)       5\n",
       "                           (1, 0, 1, 0)       1\n",
       "                           (1, 0, 1, 1)       1\n",
       "                           (1, 1, 0, 0)       1\n",
       "                           (1, 1, 1, 1)     167\n",
       " Winter Warmer             (0, 0, 0, 0)     101\n",
       "                           (0, 0, 1, 1)       1\n",
       "                           (0, 1, 0, 0)       2\n",
       "                           (0, 1, 1, 0)       1\n",
       "                           (0, 1, 1, 1)       4\n",
       "                           (1, 0, 0, 0)      57\n",
       "                           (1, 0, 1, 0)       9\n",
       "                           (1, 0, 1, 1)       2\n",
       "                           (1, 1, 0, 0)      23\n",
       "                           (1, 1, 0, 1)       1\n",
       "                           (1, 1, 1, 0)      13\n",
       "                           (1, 1, 1, 1)     585\n",
       " Witbier                   (0, 0, 0, 0)     259\n",
       "                           (0, 0, 1, 0)       6\n",
       "                           (0, 0, 1, 1)       1\n",
       "                           (0, 1, 0, 0)       9\n",
       "                           (0, 1, 0, 1)       2\n",
       "                           (0, 1, 1, 1)       3\n",
       "                           (1, 0, 0, 0)      62\n",
       "                           (1, 0, 1, 0)      15\n",
       "                           (1, 0, 1, 1)       4\n",
       "                           (1, 1, 0, 0)      16\n",
       "                           (1, 1, 0, 1)       5\n",
       "                           (1, 1, 1, 0)       7\n",
       "                           (1, 1, 1, 1)     716\n",
       "Length: 1013, dtype: int64"
      ]
     },
     "execution_count": 22,
     "metadata": {},
     "output_type": "execute_result"
    }
   ],
   "source": [
    "ds.groupby(['beer/style', 'bits']).size()"
   ]
  },
  {
   "cell_type": "code",
   "execution_count": null,
   "metadata": {
    "collapsed": true
   },
   "outputs": [],
   "source": []
  }
 ],
 "metadata": {
  "kernelspec": {
   "display_name": "Python 2",
   "language": "python",
   "name": "python2"
  },
  "language_info": {
   "codemirror_mode": {
    "name": "ipython",
    "version": 2
   },
   "file_extension": ".py",
   "mimetype": "text/x-python",
   "name": "python",
   "nbconvert_exporter": "python",
   "pygments_lexer": "ipython2",
   "version": "2.7.14"
  }
 },
 "nbformat": 4,
 "nbformat_minor": 2
}
