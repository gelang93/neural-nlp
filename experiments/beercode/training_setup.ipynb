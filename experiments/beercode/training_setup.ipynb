{
 "cells": [
  {
   "cell_type": "code",
   "execution_count": 1,
   "metadata": {},
   "outputs": [
    {
     "name": "stderr",
     "output_type": "stream",
     "text": [
      "Using TensorFlow backend.\n"
     ]
    },
    {
     "name": "stdout",
     "output_type": "stream",
     "text": [
      "[]\n"
     ]
    }
   ],
   "source": [
    "import cPickle\n",
    "import sys\n",
    "sys.path.insert(0, '../../preprocess')\n",
    "import vectorizer\n",
    "beer_data = cPickle.load(open('../../beer_data/beer_vec_ds_2000.p', 'rb'))"
   ]
  },
  {
   "cell_type": "code",
   "execution_count": 2,
   "metadata": {},
   "outputs": [
    {
     "name": "stderr",
     "output_type": "stream",
     "text": [
      "/home/sarthak/anaconda2/lib/python2.7/site-packages/sklearn/model_selection/_split.py:2026: FutureWarning: From version 0.21, test_size will always complement train_size unless both are specified.\n",
      "  FutureWarning)\n"
     ]
    }
   ],
   "source": [
    "import pandas as pd\n",
    "from sklearn.model_selection import train_test_split\n",
    "import numpy as np\n",
    "\n",
    "ds = pd.read_csv('../../beer_data/beer_ds.csv')\n",
    "\n",
    "from ast import literal_eval as make_tuple\n",
    "ds['bits'] = ds['bits'].map(lambda s : make_tuple(s))\n",
    "\n",
    "aspect_columns = sorted(['review/appearance', 'review/taste', 'review/aroma', 'review/palate'])\n",
    "aspects = [str(i) for i in range(4)]\n",
    "\n",
    "train_idxs, val_idxs = train_test_split(ds.index, stratify=ds['bits'], train_size=0.9, random_state=1337)"
   ]
  },
  {
   "cell_type": "code",
   "execution_count": 3,
   "metadata": {
    "collapsed": true
   },
   "outputs": [],
   "source": [
    "idxs = val_idxs\n",
    "H = {}\n",
    "labs = {}\n",
    "for i in range(4) :\n",
    "    H[str(i)] = np.zeros((len(idxs), len(idxs)))\n",
    "    a0 = set(ds[ds[aspect_columns[i]] == 0].index) & set(idxs)\n",
    "    a1 = set(ds[ds[aspect_columns[i]] == 1].index) & set(idxs)\n",
    "    a0 = map(lambda s : list(idxs).index(s), a0)\n",
    "    a1 = map(lambda s : list(idxs).index(s), a1)\n",
    "#     H[str(i)][np.ix_(a0, a0)] = 1\n",
    "#     H[str(i)][np.ix_(a1, a1)] = 1\n",
    "    \n",
    "    labs[str(i)] = np.array([0] * len(idxs))\n",
    "    labs[str(i)][a1] = 1\n",
    "    for j in a0 :\n",
    "        H[str(i)][j, a0] = 1\n",
    "    for j in a1 :\n",
    "        H[str(i)][j, a1] = 1\n",
    "\n",
    "    H[str(i)][np.arange(len(idxs)), np.arange(len(idxs))] = 0"
   ]
  },
  {
   "cell_type": "code",
   "execution_count": 5,
   "metadata": {
    "collapsed": true
   },
   "outputs": [],
   "source": [
    "from NVDMModel import log_softmax, cross_ent_loss, sample_norm"
   ]
  },
  {
   "cell_type": "code",
   "execution_count": 6,
   "metadata": {},
   "outputs": [],
   "source": [
    "from keras.models import load_model\n",
    "# model = load_model('../store/weights/beer/Gated2CNNModelWedDec616:48:472017gatedfinal/loss.h5', \n",
    "#                    custom_objects={'contrastive_loss' : lambda a,b:b})\n",
    "#model = load_model('../store/weights/beer/CountModelWedDec620:08:322017coutnfinal/loss.h5',\n",
    "#                   custom_objects={'contrastive_loss' : lambda a,b:b})\n",
    "model = load_model('../store/weights/beer/Gated2CNNModelSunDec1015:45:442017testingsigmoid/loss.h5',\n",
    "                  custom_objects={'contrastive_loss' : lambda a,b:b, 'log_softmax' : log_softmax,\n",
    "                                 'cross_ent_loss' : cross_ent_loss, 'sample_norm' : sample_norm,\n",
    "                                 '<lambda>' : lambda a,b : a})"
   ]
  },
  {
   "cell_type": "code",
   "execution_count": 7,
   "metadata": {
    "collapsed": true
   },
   "outputs": [],
   "source": [
    "import keras.backend as K\n",
    "model_c1 = {}\n",
    "for aspect in aspects :\n",
    "    model_c1[aspect] = K.function(\n",
    "                model.get_layer('pred_'+aspect).get_layer('pool_'+aspect).inputs + [K.learning_phase()], \n",
    "                model.get_layer('pred_'+aspect).get_layer('pool_'+aspect).outputs)"
   ]
  },
  {
   "cell_type": "code",
   "execution_count": 8,
   "metadata": {
    "collapsed": true
   },
   "outputs": [],
   "source": [
    "X_s = beer_data.X[val_idxs]\n",
    "# X_tf = np.zeros((X_s.shape[0], beer_data.vocab_size))\n",
    "# for i in range(len(X_s)) :\n",
    "#     X_tf[i, X_s[i, :]] = 1.\n",
    "\n",
    "# X_tf = X_tf[:, 2:]\n",
    "# X_s = X_tf"
   ]
  },
  {
   "cell_type": "code",
   "execution_count": 9,
   "metadata": {
    "collapsed": true
   },
   "outputs": [],
   "source": [
    "embeds = {}\n",
    "vecs = {k:[] for k in aspects}\n",
    "i, bs = 0, 100\n",
    "while i*bs < len(val_idxs):\n",
    "    for aspect in aspects :\n",
    "        result = model_c1[aspect]([X_s[i*bs:(i+1)*bs], 0])[0]\n",
    "        vecs[aspect].append(result)\n",
    "    i += 1\n",
    "\n",
    "for aspect in aspects :\n",
    "    embeds[aspect] = np.concatenate(vecs[aspect], axis=0)\n"
   ]
  },
  {
   "cell_type": "code",
   "execution_count": 11,
   "metadata": {},
   "outputs": [
    {
     "name": "stdout",
     "output_type": "stream",
     "text": [
      "0 0 0.919458938317\n",
      "0 1 0.890791133054\n",
      "0 2 0.888964736673\n",
      "0 3 0.878375715957\n",
      "1 0 0.895124552889\n",
      "1 1 0.93424373024\n",
      "1 2 0.915162573522\n",
      "1 3 0.921256197243\n",
      "2 0 0.903979074933\n",
      "2 1 0.92566484676\n",
      "2 2 0.937620831213\n",
      "2 3 0.931992225086\n",
      "3 0 0.886492009786\n",
      "3 1 0.94115653166\n",
      "3 2 0.947768928205\n",
      "3 3 0.965067441015\n"
     ]
    }
   ],
   "source": [
    "#Gated CNN\n",
    "from sklearn.preprocessing import normalize\n",
    "from sklearn.metrics import roc_auc_score\n",
    "for aspect in aspects :\n",
    "    result = embeds[aspect]\n",
    "    result = normalize(result, 'l2')\n",
    "    scores = np.dot(result, result.T)\n",
    "    scores[np.arange(len(val_idxs)), np.arange(len(val_idxs))] = -1000\n",
    "    aucs = [0] * len(val_idxs)\n",
    "    for aspect_j in aspects :\n",
    "        for i in range(len(val_idxs)) :\n",
    "            aucs[i] = roc_auc_score(H[aspect_j][i], scores[i])\n",
    "        print aspect, aspect_j, np.mean(aucs)"
   ]
  },
  {
   "cell_type": "code",
   "execution_count": 16,
   "metadata": {},
   "outputs": [
    {
     "name": "stdout",
     "output_type": "stream",
     "text": [
      "0 0 0.891117629855\n",
      "0 1 0.857810746154\n",
      "0 2 0.84943157754\n",
      "0 3 0.83754084048\n",
      "1 0 0.884981179082\n",
      "1 1 0.9061766209\n",
      "1 2 0.894146949952\n",
      "1 3 0.893188805196\n",
      "2 0 0.890444927586\n",
      "2 1 0.908702550073\n",
      "2 2 0.914806296358\n",
      "2 3 0.908085598575\n",
      "3 0 0.874131910989\n",
      "3 1 0.920884309361\n",
      "3 2 0.921607899325\n",
      "3 3 0.933467855926\n"
     ]
    }
   ],
   "source": [
    "#Count \n",
    "from sklearn.preprocessing import normalize\n",
    "from sklearn.metrics import roc_auc_score\n",
    "for aspect in aspects :\n",
    "    result = embeds[aspect]\n",
    "    result = normalize(result, 'l2')\n",
    "    scores = np.dot(result, result.T)\n",
    "    scores[np.arange(len(val_idxs)), np.arange(len(val_idxs))] = -1000\n",
    "    aucs = [0] * len(val_idxs)\n",
    "    for aspect_j in aspects :\n",
    "        for i in range(len(val_idxs)) :\n",
    "            aucs[i] = roc_auc_score(H[aspect_j][i], scores[i])\n",
    "        print aspect, aspect_j, np.mean(aucs)"
   ]
  },
  {
   "cell_type": "code",
   "execution_count": 26,
   "metadata": {},
   "outputs": [
    {
     "name": "stdout",
     "output_type": "stream",
     "text": [
      "0 0 0.886122322955\n",
      "0 1 0.855051963556\n",
      "0 2 0.850455666909\n",
      "0 3 0.838426165931\n",
      "1 0 0.875429650128\n",
      "1 1 0.891505756083\n",
      "1 2 0.877707700492\n",
      "1 3 0.876479043451\n",
      "2 0 0.889969666359\n",
      "2 1 0.899792354281\n",
      "2 2 0.905744404886\n",
      "2 3 0.89723012972\n",
      "3 0 0.891406536654\n",
      "3 1 0.929039774465\n",
      "3 2 0.92639481212\n",
      "3 3 0.933953585987\n"
     ]
    }
   ],
   "source": [
    "#NVDM\n",
    "from sklearn.preprocessing import normalize\n",
    "from sklearn.metrics import roc_auc_score\n",
    "for aspect in aspects :\n",
    "    result = embeds[aspect]\n",
    "    result = normalize(result, 'l2')\n",
    "    scores = np.dot(result, result.T)\n",
    "    scores[np.arange(len(val_idxs)), np.arange(len(val_idxs))] = -1000\n",
    "    aucs = [0] * len(val_idxs)\n",
    "    for aspect_j in aspects :\n",
    "        for i in range(len(val_idxs)) :\n",
    "            aucs[i] = roc_auc_score(H[aspect_j][i], scores[i])\n",
    "        print aspect, aspect_j, np.mean(aucs)"
   ]
  },
  {
   "cell_type": "code",
   "execution_count": 34,
   "metadata": {},
   "outputs": [
    {
     "name": "stdout",
     "output_type": "stream",
     "text": [
      "0 0 nan nan\n",
      "0 1 0.370622286877 0.639396171127\n",
      "0 2 0.365474339217 0.645146144333\n",
      "0 3 0.352879303733 0.661331265471\n",
      "1 0 0.28271214123 0.72691360183\n",
      "1 1 nan nan\n",
      "1 2 0.348389218007 0.655365019946\n",
      "1 3 0.372001240086 0.632264282159\n",
      "2 0 0.32830255246 0.681236980896\n",
      "2 1 0.408681245031 0.593148601301\n",
      "2 2 nan nan\n",
      "2 3 0.422449328884 0.579977565423\n",
      "3 0 0.145812273849 0.880433171665\n",
      "3 1 0.204332165151 0.802590598688\n",
      "3 2 0.23556738969 0.768500434829\n",
      "3 3 nan nan\n"
     ]
    }
   ],
   "source": [
    "#Gated CNN\n",
    "from sklearn.preprocessing import normalize\n",
    "from sklearn.metrics import roc_auc_score\n",
    "for aspect in aspects :\n",
    "    result = embeds[aspect]\n",
    "    result = normalize(result, 'l2')\n",
    "    scores = np.dot(result, result.T)\n",
    "    scores[np.arange(len(val_idxs)), np.arange(len(val_idxs))] = -1000\n",
    "    \n",
    "    for aspect_j in aspects :\n",
    "        aucs_1, aucs_2 = [], []\n",
    "        diff = np.where(labs[aspect] != labs[aspect_j])[0]\n",
    "        for i, j in enumerate(diff) :\n",
    "            aucs_1.append(roc_auc_score(H[aspect_j][j], scores[j]))\n",
    "            aucs_2.append(roc_auc_score(H[aspect][j], scores[j]))\n",
    "\n",
    "        print aspect, aspect_j, np.mean(aucs_1), np.mean(aucs_2)"
   ]
  },
  {
   "cell_type": "code",
   "execution_count": 10,
   "metadata": {},
   "outputs": [
    {
     "name": "stdout",
     "output_type": "stream",
     "text": [
      "0 0 0.914870707499\n",
      "0 1 0.883242027296\n",
      "0 2 0.878992594595\n",
      "0 3 0.86796036685\n",
      "1 0 0.894897050529\n",
      "1 1 0.929701394345\n",
      "1 2 0.911345285882\n",
      "1 3 0.9134474411\n",
      "2 0 0.898631977632\n",
      "2 1 0.920803103162\n",
      "2 2 0.930926076498\n",
      "2 3 0.926525263047\n",
      "3 0 0.881059784896\n",
      "3 1 0.934046852142\n",
      "3 2 0.937719486865\n",
      "3 3 0.952891638474\n"
     ]
    }
   ],
   "source": [
    "#Gated CNN\n",
    "from sklearn.preprocessing import normalize\n",
    "from sklearn.metrics import roc_auc_score\n",
    "for aspect in aspects :\n",
    "    result = embeds[aspect]\n",
    "    result = normalize(result, 'l2')\n",
    "    scores = np.dot(result, result.T)\n",
    "    scores[np.arange(len(val_idxs)), np.arange(len(val_idxs))] = -1000\n",
    "    aucs = [0] * len(val_idxs)\n",
    "    for aspect_j in aspects :\n",
    "        for i in range(len(val_idxs)) :\n",
    "            aucs[i] = roc_auc_score(H[aspect_j][i], scores[i])\n",
    "        print aspect, aspect_j, np.mean(aucs)"
   ]
  },
  {
   "cell_type": "code",
   "execution_count": null,
   "metadata": {
    "collapsed": true
   },
   "outputs": [],
   "source": []
  }
 ],
 "metadata": {
  "kernelspec": {
   "display_name": "Python 2",
   "language": "python",
   "name": "python2"
  },
  "language_info": {
   "codemirror_mode": {
    "name": "ipython",
    "version": 2
   },
   "file_extension": ".py",
   "mimetype": "text/x-python",
   "name": "python",
   "nbconvert_exporter": "python",
   "pygments_lexer": "ipython2",
   "version": "2.7.14"
  }
 },
 "nbformat": 4,
 "nbformat_minor": 2
}
