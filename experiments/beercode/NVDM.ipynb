{
 "cells": [
  {
   "cell_type": "code",
   "execution_count": 1,
   "metadata": {},
   "outputs": [
    {
     "name": "stderr",
     "output_type": "stream",
     "text": [
      "Using TensorFlow backend.\n"
     ]
    },
    {
     "name": "stdout",
     "output_type": "stream",
     "text": [
      "[]\n"
     ]
    }
   ],
   "source": [
    "import cPickle\n",
    "import sys\n",
    "sys.path.insert(0, '../../preprocess')\n",
    "import vectorizer\n",
    "beer_data = cPickle.load(open('../../beer_data/beer_vec_ds_df10.p', 'rb'))"
   ]
  },
  {
   "cell_type": "code",
   "execution_count": 2,
   "metadata": {},
   "outputs": [
    {
     "name": "stderr",
     "output_type": "stream",
     "text": [
      "/home/sarthak/anaconda2/lib/python2.7/site-packages/sklearn/model_selection/_split.py:2026: FutureWarning: From version 0.21, test_size will always complement train_size unless both are specified.\n",
      "  FutureWarning)\n"
     ]
    }
   ],
   "source": [
    "import pandas as pd\n",
    "from sklearn.model_selection import train_test_split\n",
    "import numpy as np\n",
    "\n",
    "ds = pd.read_csv('../../beer_data/beer_ds.csv')\n",
    "\n",
    "from ast import literal_eval as make_tuple\n",
    "ds['bits'] = ds['bits'].map(lambda s : make_tuple(s))\n",
    "\n",
    "aspect_columns = sorted(['review/appearance', 'review/taste', 'review/aroma', 'review/palate'])\n",
    "\n",
    "train_idxs, val_idxs = train_test_split(ds.index, stratify=ds['bits'], train_size=0.9, random_state=1337)"
   ]
  },
  {
   "cell_type": "code",
   "execution_count": 3,
   "metadata": {
    "collapsed": true
   },
   "outputs": [],
   "source": [
    "train_X = beer_data.X[train_idxs]\n",
    "X_tf = np.zeros((train_X.shape[0], beer_data.vocab_size))\n",
    "for i in range(len(train_X)) :\n",
    "    X_tf[i, train_X[i, :]] = 1.\n",
    "\n",
    "X_tf = X_tf[:, 2:]\n",
    "train_Xtf = X_tf\n",
    "\n",
    "val_X = beer_data.X[val_idxs]\n",
    "X_tf = np.zeros((val_X.shape[0], beer_data.vocab_size))\n",
    "for i in range(len(val_X)) :\n",
    "    X_tf[i, val_X[i, :]] = 1.\n",
    "\n",
    "X_tf = X_tf[:, 2:]\n",
    "val_Xtf = X_tf"
   ]
  },
  {
   "cell_type": "code",
   "execution_count": 4,
   "metadata": {},
   "outputs": [],
   "source": [
    "from keras.layers import Input, Dense, Lambda\n",
    "from keras.models import Model\n",
    "from keras import backend as K\n",
    "from keras import objectives\n",
    "from keras import optimizers\n",
    "\n",
    "learning_rate = 5e-5\n",
    "batch_size = 64\n",
    "vocab_size = beer_data.vocab_size - 2\n",
    "intermediate_dim = 500\n",
    "latent_dim = 200\n",
    "epochs = 1000\n",
    "epsilon_std = 1.0\n",
    "activation = 'tanh'\n",
    "\n",
    "x = Input(shape=(vocab_size,), name='x')\n",
    "h = Dense(intermediate_dim, activation=activation, name='h')(x)\n",
    "mu = Dense(latent_dim, name='mu')(h)\n",
    "log_sigma2 = Dense(latent_dim, name='l')(h)\n",
    "encoder = Model(x, mu)\n",
    "\n",
    "# reparameterized sampler for normal distributions\n",
    "def sample_norm(args):\n",
    "    '''reparameterized sampling from normal distribution'''\n",
    "    mu, log_var = args\n",
    "    epsilon = K.random_normal(shape=(K.shape(mu)[0], latent_dim,), mean=0.)\n",
    "    return mu + K.exp(0.5 * log_var) * epsilon\n",
    "\n",
    "# decoder / generative network\n",
    "z = Lambda(sample_norm, output_shape=(latent_dim,), name='z')([mu, log_sigma2])\n",
    "e = Dense(vocab_size, name='e')(z)\n",
    "\n",
    "def log_softmax(x, axis=None):\n",
    "    x0 = x - K.max(x, axis=axis, keepdims=True)\n",
    "    log_sum_exp_x0 = K.log(K.sum(K.exp(x0), axis=axis, keepdims=True))\n",
    "    return x0 - log_sum_exp_x0\n",
    "\n",
    "def kl_loss(x, e): \n",
    "    return (- 0.5 * K.sum(1 + log_sigma2 - K.square(mu) - K.exp(log_sigma2), axis=-1))\n",
    "\n",
    "\n",
    "def cross_ent_loss(x, e): \n",
    "    return - K.sum(x * log_softmax(e, axis=-1), axis=-1) \n",
    "    \n",
    "\n",
    "def vae_loss(x, e):\n",
    "    xent_loss = cross_ent_loss(x, e)\n",
    "    kld = kl_loss(x, e)\n",
    "    return xent_loss + kld\n",
    "\n",
    "\n",
    "opt = optimizers.adam(lr=learning_rate)\n",
    "vae = Model(x, e)\n",
    "vae.compile(optimizer=opt, \n",
    "            loss=vae_loss)"
   ]
  },
  {
   "cell_type": "code",
   "execution_count": null,
   "metadata": {},
   "outputs": [
    {
     "name": "stdout",
     "output_type": "stream",
     "text": [
      "Train on 73872 samples, validate on 8208 samples\n",
      "Epoch 1/1000\n",
      "73872/73872 [==============================] - 29s - loss: 652.9218 - val_loss: 648.7383\n",
      "Epoch 2/1000\n",
      "73872/73872 [==============================] - 29s - loss: 648.9754 - val_loss: 645.4938\n",
      "Epoch 3/1000\n",
      "73872/73872 [==============================] - 29s - loss: 646.3455 - val_loss: 643.4037\n",
      "Epoch 4/1000\n",
      "73872/73872 [==============================] - 29s - loss: 644.5708 - val_loss: 641.7129\n",
      "Epoch 5/1000\n",
      "73872/73872 [==============================] - 29s - loss: 643.2042 - val_loss: 640.8848\n",
      "Epoch 6/1000\n",
      "73872/73872 [==============================] - 28s - loss: 642.1464 - val_loss: 639.8315\n",
      "Epoch 7/1000\n",
      "73872/73872 [==============================] - 29s - loss: 641.3772 - val_loss: 639.0850\n",
      "Epoch 8/1000\n",
      "73872/73872 [==============================] - 29s - loss: 640.6602 - val_loss: 638.4774\n",
      "Epoch 9/1000\n",
      "73872/73872 [==============================] - 29s - loss: 639.9163 - val_loss: 637.8398\n",
      "Epoch 10/1000\n",
      "73872/73872 [==============================] - 29s - loss: 639.3151 - val_loss: 637.2647\n",
      "Epoch 11/1000\n",
      "73872/73872 [==============================] - 29s - loss: 638.8022 - val_loss: 636.6459\n",
      "Epoch 12/1000\n",
      "73872/73872 [==============================] - 28s - loss: 638.3303 - val_loss: 636.2109\n",
      "Epoch 13/1000\n",
      "73872/73872 [==============================] - 28s - loss: 637.9828 - val_loss: 635.9214\n",
      "Epoch 14/1000\n",
      "73872/73872 [==============================] - 28s - loss: 637.5126 - val_loss: 635.5724\n",
      "Epoch 15/1000\n",
      "73872/73872 [==============================] - 27s - loss: 637.1537 - val_loss: 635.4274\n",
      "Epoch 16/1000\n",
      "73872/73872 [==============================] - 28s - loss: 636.7931 - val_loss: 634.8150\n",
      "Epoch 17/1000\n",
      "73872/73872 [==============================] - 28s - loss: 636.5208 - val_loss: 634.7305\n",
      "Epoch 18/1000\n",
      "73872/73872 [==============================] - 28s - loss: 636.1322 - val_loss: 634.5858\n",
      "Epoch 19/1000\n",
      "73872/73872 [==============================] - 28s - loss: 635.8231 - val_loss: 634.0483\n",
      "Epoch 20/1000\n",
      "73872/73872 [==============================] - 29s - loss: 635.5813 - val_loss: 633.8673\n",
      "Epoch 21/1000\n",
      "73872/73872 [==============================] - 29s - loss: 635.2321 - val_loss: 633.7353\n",
      "Epoch 22/1000\n",
      "73872/73872 [==============================] - 29s - loss: 635.0109 - val_loss: 633.4895\n",
      "Epoch 23/1000\n",
      "35776/73872 [=============>................] - ETA: 14s - loss: 635.6267"
     ]
    }
   ],
   "source": [
    "from keras import callbacks\n",
    "patience = 0\n",
    "earlyStopping = callbacks.EarlyStopping(monitor='val_loss', patience=patience, verbose=1, mode='min')\n",
    "\n",
    "vae.fit(train_Xtf,  \n",
    "        train_Xtf, \n",
    "        shuffle=True,\n",
    "        epochs=epochs,\n",
    "        batch_size=batch_size,\n",
    "        verbose=1, \n",
    "        callbacks=[earlyStopping], \n",
    "        validation_split=0.1)"
   ]
  },
  {
   "cell_type": "code",
   "execution_count": 6,
   "metadata": {
    "collapsed": true
   },
   "outputs": [],
   "source": [
    "embedds = encoder.predict(val_Xtf)"
   ]
  },
  {
   "cell_type": "code",
   "execution_count": 7,
   "metadata": {
    "collapsed": true
   },
   "outputs": [],
   "source": [
    "idxs = val_idxs\n",
    "H = {}\n",
    "for i in range(4) :\n",
    "    H[str(i)] = np.zeros((len(idxs), len(idxs)))\n",
    "    a0 = set(ds[ds[aspect_columns[i]] == 0].index) & set(idxs)\n",
    "    a1 = set(ds[ds[aspect_columns[i]] == 1].index) & set(idxs)\n",
    "    a0 = map(lambda s : list(idxs).index(s), a0)\n",
    "    a1 = map(lambda s : list(idxs).index(s), a1)\n",
    "    for j in a0 :\n",
    "        H[str(i)][j, a0] = 1\n",
    "    for j in a1 :\n",
    "        H[str(i)][j, a1] = 1\n",
    "\n",
    "    H[str(i)][np.arange(len(idxs)), np.arange(len(idxs))] = 0"
   ]
  },
  {
   "cell_type": "code",
   "execution_count": 8,
   "metadata": {
    "collapsed": true
   },
   "outputs": [],
   "source": [
    "from sklearn.preprocessing import normalize\n",
    "embedds_n = normalize(embedds, 'l2')\n",
    "scores = np.dot(embedds_n, embedds_n.T)\n",
    "nb_studies = len(val_idxs)\n",
    "scores[np.arange(nb_studies), np.arange(nb_studies)] = -1000"
   ]
  },
  {
   "cell_type": "code",
   "execution_count": 25,
   "metadata": {},
   "outputs": [
    {
     "name": "stdout",
     "output_type": "stream",
     "text": [
      "1 0.69504547126\n",
      "0 0.679372734004\n",
      "3 0.698324965887\n",
      "2 0.695540049732\n"
     ]
    }
   ],
   "source": [
    "from sklearn.metrics import roc_auc_score\n",
    "scores = np.array(scores)\n",
    "for aspect_j in H :\n",
    "    aucs = [0] * nb_studies\n",
    "    for i in range(nb_studies) :\n",
    "        aucs[i] = roc_auc_score(H[aspect_j][i], scores[i])\n",
    "    print aspect_j, np.mean(aucs)"
   ]
  },
  {
   "cell_type": "code",
   "execution_count": 9,
   "metadata": {},
   "outputs": [
    {
     "name": "stdout",
     "output_type": "stream",
     "text": [
      "1 0.64926456748\n",
      "0 0.644489786921\n",
      "3 0.651441195122\n",
      "2 0.650329906976\n"
     ]
    }
   ],
   "source": [
    "from sklearn.metrics import roc_auc_score\n",
    "scores = np.array(scores)\n",
    "for aspect_j in H :\n",
    "    aucs = [0] * nb_studies\n",
    "    for i in range(nb_studies) :\n",
    "        aucs[i] = roc_auc_score(H[aspect_j][i], scores[i])\n",
    "    print aspect_j, np.mean(aucs)"
   ]
  },
  {
   "cell_type": "code",
   "execution_count": null,
   "metadata": {
    "collapsed": true
   },
   "outputs": [],
   "source": []
  }
 ],
 "metadata": {
  "kernelspec": {
   "display_name": "Python 2",
   "language": "python",
   "name": "python2"
  },
  "language_info": {
   "codemirror_mode": {
    "name": "ipython",
    "version": 2
   },
   "file_extension": ".py",
   "mimetype": "text/x-python",
   "name": "python",
   "nbconvert_exporter": "python",
   "pygments_lexer": "ipython2",
   "version": "2.7.14"
  }
 },
 "nbformat": 4,
 "nbformat_minor": 2
}
