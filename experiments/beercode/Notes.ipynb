{
 "cells": [
  {
   "cell_type": "raw",
   "metadata": {
    "collapsed": true
   },
   "source": [
    "models to try :\n",
    "1) Linear + sigmoid + (2,3)-cnn + normalize + sqrloss = 90/90\n",
    "3) Sigmoid + sigmoid + (2,3)-cnn + normalize + sqrloss = 82/82/78/81\n",
    "4) Relu + sigmoid + (2,3)-cnn + normalize + conloss = 83/83/79/81\n",
    "2) Relu + sigmoid + (2,3)-cnn + normalize + sqrloss = 84/82/82/86\n",
    "5) Relu + sigmoid + (2,3)-cnn + mean/norm + conloss = 83/83/78/82\n",
    "8) Relu + sigmoid + (2,3)-cnn + mean/norm + sqrloss = 87/85/77/81\n",
    "6) Relu + sigmoid + (2,3)-cnn + mean + conloss = 65/68/63/66\n",
    "7) Relu + sigmoid + (2,3)-cnn + mean + sqrloss = 43/41/61/63\n",
    "\n",
    "9) Linear + sigmoid + (2,3)-cnn + mean/norm + sqrloss = 90/88/85/89\n",
    "9) Linear + sigmoid + (2,3)-cnn + mean/norm + conloss (-1 margin) = \n",
    "\n",
    "Linear + softmax + (2,3)-cnn + sum/norm + conloss = 90/87/85/87\n",
    "Relu + softmax + (2,3)-cnn + sum/norm + conloss = 83/82/80/83"
   ]
  }
 ],
 "metadata": {
  "kernelspec": {
   "display_name": "Python 2",
   "language": "python",
   "name": "python2"
  },
  "language_info": {
   "codemirror_mode": {
    "name": "ipython",
    "version": 2
   },
   "file_extension": ".py",
   "mimetype": "text/x-python",
   "name": "python",
   "nbconvert_exporter": "python",
   "pygments_lexer": "ipython2",
   "version": "2.7.14"
  }
 },
 "nbformat": 4,
 "nbformat_minor": 2
}
