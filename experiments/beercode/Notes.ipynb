{
 "cells": [
  {
   "cell_type": "raw",
   "metadata": {
    "collapsed": true
   },
   "source": [
    "models to try :\n",
    "1) Linear + sigmoid + (2,3)-cnn + normalize + sqrloss = 90/90\n",
    "3) Sigmoid + sigmoid + (2,3)-cnn + normalize + sqrloss = 82/82/78/81\n",
    "4) Relu + sigmoid + (2,3)-cnn + normalize + conloss = 83/83/79/81\n",
    "2) Relu + sigmoid + (2,3)-cnn + normalize + sqrloss = 84/82/82/86\n",
    "5) Relu + sigmoid + (2,3)-cnn + mean/norm + conloss = 83/83/78/82\n",
    "8) Relu + sigmoid + (2,3)-cnn + mean/norm + sqrloss = 87/85/77/81\n",
    "6) Relu + sigmoid + (2,3)-cnn + mean + conloss = 65/68/63/66\n",
    "7) Relu + sigmoid + (2,3)-cnn + mean + sqrloss = 43/41/61/63\n",
    "\n",
    "9) Linear + sigmoid + (2,3)-cnn + mean/norm + sqrloss = 90/88/85/89\n",
    "9) Linear + sigmoid + (2,3)-cnn + mean/norm + conloss (-1 margin) = \n",
    "\n",
    "Linear + softmax + (2,3)-cnn + sum/norm + conloss = 90/87/85/87\n",
    "Relu + softmax + (2,3)-cnn + sum/norm + conloss = 83/82/80/83"
   ]
  },
  {
   "cell_type": "code",
   "execution_count": null,
   "metadata": {},
   "outputs": [],
   "source": [
    "1 0.500170493183\n",
    "2 0.710296810903\n",
    "3 0.766128404167\n",
    "4 0.828780794421\n",
    "5 0.728363162594\n",
    "6 0.733000582207\n",
    "7 0.73845945943\n",
    "8 0.725484990308\n",
    "9 0.715338165464\n",
    "10 0.741679627528\n",
    "11 0.690483753801\n",
    "12 0.739115287582\n",
    "13 0.723561691851\n",
    "14 0.737929461019\n",
    "15 0.707615425239\n",
    "16 0.74659927508\n",
    "17 0.781842536399\n",
    "18 0.709476549801\n",
    "19 0.727780888787\n",
    "20 0.716860596945\n",
    "21 0.751282719178\n",
    "22 0.747910954897\n",
    "23 0.776697087493\n",
    "24 0.652011112945\n",
    "25 0.68041265337\n",
    "26 0.721232803824\n",
    "27 0.730539254943"
   ]
  }
 ],
 "metadata": {
  "kernelspec": {
   "display_name": "Python 2",
   "language": "python",
   "name": "python2"
  },
  "language_info": {
   "codemirror_mode": {
    "name": "ipython",
    "version": 2
   },
   "file_extension": ".py",
   "mimetype": "text/x-python",
   "name": "python",
   "nbconvert_exporter": "python",
   "pygments_lexer": "ipython2",
   "version": "2.7.14"
  }
 },
 "nbformat": 4,
 "nbformat_minor": 2
}
