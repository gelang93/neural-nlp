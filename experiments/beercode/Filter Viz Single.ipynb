{
 "cells": [
  {
   "cell_type": "code",
   "execution_count": 1,
   "metadata": {},
   "outputs": [
    {
     "name": "stderr",
     "output_type": "stream",
     "text": [
      "Using TensorFlow backend.\n"
     ]
    },
    {
     "name": "stdout",
     "output_type": "stream",
     "text": [
      "[]\n"
     ]
    }
   ],
   "source": [
    "from keras.models  import load_model\n",
    "import keras.backend as K\n",
    "from sklearn.preprocessing import normalize\n",
    "import cPickle\n",
    "import sys\n",
    "sys.path.insert(0, '../../preprocess')\n",
    "import vectorizer\n",
    "from colors import color\n",
    "import pandas as pd\n",
    "import numpy as np\n",
    "\n",
    "aspects = [str(i) for i in range(4)] #app, aroma, palate,taste"
   ]
  },
  {
   "cell_type": "code",
   "execution_count": 2,
   "metadata": {
    "collapsed": true
   },
   "outputs": [],
   "source": [
    "vec = cPickle.load(open('../../beer_data/beer_vec_ds_2000.p', 'rb'))"
   ]
  },
  {
   "cell_type": "code",
   "execution_count": 3,
   "metadata": {},
   "outputs": [
    {
     "name": "stderr",
     "output_type": "stream",
     "text": [
      "/home/sarthak/anaconda2/lib/python2.7/site-packages/sklearn/model_selection/_split.py:2026: FutureWarning: From version 0.21, test_size will always complement train_size unless both are specified.\n",
      "  FutureWarning)\n"
     ]
    }
   ],
   "source": [
    "import pandas as pd\n",
    "from sklearn.model_selection import train_test_split\n",
    "import numpy as np\n",
    "\n",
    "ds = pd.read_csv('../../beer_data/beer_ds.csv')\n",
    "\n",
    "from ast import literal_eval as make_tuple\n",
    "ds['bits'] = ds['bits'].map(lambda s : make_tuple(s))\n",
    "\n",
    "aspect_columns = sorted(['review/appearance', 'review/taste', 'review/aroma', 'review/palate'])\n",
    "aspects = [str(i) for i in range(4)]\n",
    "\n",
    "train_idxs, val_idxs = train_test_split(ds.index, stratify=ds['bits'], train_size=0.9, random_state=1337)"
   ]
  },
  {
   "cell_type": "code",
   "execution_count": 4,
   "metadata": {
    "collapsed": true
   },
   "outputs": [],
   "source": [
    "idxs = val_idxs\n",
    "H = {}\n",
    "for i in range(4) :\n",
    "    H[str(i)] = np.zeros((len(idxs), len(idxs)))\n",
    "    a0 = set(ds[ds[aspect_columns[i]] == 0].index) & set(idxs)\n",
    "    a1 = set(ds[ds[aspect_columns[i]] == 1].index) & set(idxs)\n",
    "    a0 = map(lambda s : list(idxs).index(s), a0)\n",
    "    a1 = map(lambda s : list(idxs).index(s), a1)\n",
    "    for j in a0 :\n",
    "        H[str(i)][j, a0] = 1\n",
    "    for j in a1 :\n",
    "        H[str(i)][j, a1] = 1\n",
    "\n",
    "    H[str(i)][np.arange(len(idxs)), np.arange(len(idxs))] = 0"
   ]
  },
  {
   "cell_type": "code",
   "execution_count": 6,
   "metadata": {},
   "outputs": [],
   "source": [
    "model = load_model('../store/weights/beer/Gated2CNNModelSunDec1015:45:442017testingsigmoid//loss.h5', \n",
    "                   custom_objects={'contrastive_loss' : lambda a,b:b, '<lambda>' : lambda a,b : b})"
   ]
  },
  {
   "cell_type": "code",
   "execution_count": 7,
   "metadata": {
    "collapsed": true
   },
   "outputs": [],
   "source": [
    "model_c1 = {}\n",
    "for aspect in aspects :\n",
    "    model_c1[aspect] = K.function(model.get_layer('pred_'+aspect).get_layer('pool_'+aspect).inputs, \n",
    "                          [model.get_layer('pred_'+aspect).get_layer('pool_'+aspect).layers[16].output])"
   ]
  },
  {
   "cell_type": "code",
   "execution_count": 8,
   "metadata": {
    "collapsed": true
   },
   "outputs": [],
   "source": [
    "X = vec.X[val_idxs]"
   ]
  },
  {
   "cell_type": "code",
   "execution_count": 21,
   "metadata": {},
   "outputs": [
    {
     "name": "stdout",
     "output_type": "stream",
     "text": [
      "(2, 305, 2)\n",
      "(2, 305, 2)\n",
      "(2, 305, 2)\n",
      "(2, 305, 2)\n"
     ]
    }
   ],
   "source": [
    "filters_pico = {k:[] for k in aspects}\n",
    "X = X[-2:]\n",
    "i, bs = 0, 100\n",
    "while i*bs < len(X):\n",
    "    for aspect in aspects :\n",
    "        val = model_c1[aspect]([X[i*bs:(i+1)*bs]])[0][:, :, 0]\n",
    "        val = np.dstack((X[i*bs:(i+1)*bs], val))\n",
    "        filters_pico[aspect].append(val)\n",
    "    i+=1\n",
    "        \n",
    "for aspect in aspects :\n",
    "    filters_pico[aspect] = np.concatenate(filters_pico[aspect])\n",
    "    print filters_pico[aspect].shape"
   ]
  },
  {
   "cell_type": "code",
   "execution_count": 56,
   "metadata": {
    "scrolled": false
   },
   "outputs": [
    {
     "name": "stdout",
     "output_type": "stream",
     "text": [
      "[ 0.          0.          0.          0.          0.          0.35327138\n",
      "  0.52125588  0.4248944   0.25071592  0.14725121  0.19651399  0.          0.\n",
      "  0.          0.          0.          0.          0.03698237  0.01129183\n",
      "  0.          0.          0.11531213  0.25677586  0.11324884  0.          0.\n",
      "  0.          0.02476721  0.41915582  0.59964804  0.39863117  0.10912928\n",
      "  0.17325796  0.31799579  0.26279002  0.47787685  0.91308683  1.\n",
      "  0.94886685  0.49929893  0.65839284  0.39444359  0.13806057  0.          0.\n",
      "  0.08405309  0.11133996  0.        ] [ 0.2999336   0.06353321  0.16878274  0.2526388   0.20492785  0.14846945\n",
      "  0.1269808   0.25804949  0.36477396  0.36642014  0.22873796  0.20717621\n",
      "  0.19644356  0.13824173  0.05178962  0.05446577  0.03670126  0.          0.\n",
      "  0.          0.          0.          0.          0.          0.          0.\n",
      "  0.          0.          0.          0.          0.          0.          0.\n",
      "  0.          0.          0.          0.          0.          0.          0.\n",
      "  0.          0.          0.          0.02035904  0.03006301  0.00270479\n",
      "  0.          0.        ]\n",
      "\u001b[41mdeep\u001b[0m \u001b[41mamber\u001b[0m \u001b[41mhue\u001b[0m \u001b[41m,\u001b[0m \u001b[42mthis\u001b[0m \u001b[42mbrew\u001b[0m \u001b[43mis\u001b[0m \u001b[43mtopped\u001b[0m \u001b[41mwith\u001b[0m \u001b[41ma\u001b[0m \u001b[41mfinger\u001b[0m \u001b[41mof\u001b[0m \u001b[41moff\u001b[0m \u001b[42mwhite\u001b[0m \u001b[42mhead\u001b[0m \u001b[42m.\u001b[0m \u001b[42msmell\u001b[0m \u001b[42mof\u001b[0m \u001b[42mdog\u001b[0m \u001b[42munk\u001b[0m \u001b[41m,\u001b[0m \u001b[43mgreen\u001b[0m \u001b[43munk\u001b[0m \u001b[42m,\u001b[0m \u001b[42mand\u001b[0m \u001b[42mslightly\u001b[0m \u001b[42mfruity\u001b[0m \u001b[42m.\u001b[0m \u001b[42mtaste\u001b[0m \u001b[43mof\u001b[0m \u001b[43mbelgian\u001b[0m \u001b[44myeast\u001b[0m \u001b[44m,\u001b[0m \u001b[44mcoriander\u001b[0m \u001b[44m,\u001b[0m \u001b[43mhard\u001b[0m \u001b[43mwater\u001b[0m \u001b[43mand\u001b[0m \u001b[43mbready\u001b[0m \u001b[44mmalt\u001b[0m \u001b[44m.\u001b[0m \u001b[44mlight\u001b[0m \u001b[44mbody\u001b[0m \u001b[44m,\u001b[0m \u001b[44mwith\u001b[0m \u001b[44mlittle\u001b[0m \u001b[44mcarbonation\u001b[0m \u001b[41m.\u001b[0m \n",
      "\u001b[48;2;255;178;178mdeep\u001b[0m \u001b[48;2;255;238;238mamber\u001b[0m \u001b[48;2;255;211;211mhue\u001b[0m \u001b[48;2;255;190;190m,\u001b[0m \u001b[48;2;255;202;202mthis\u001b[0m \u001b[48;2;255;217;217mbrew\u001b[0m \u001b[48;2;255;222;222mis\u001b[0m \u001b[48;2;255;189;189mtopped\u001b[0m \u001b[48;2;255;161;161mwith\u001b[0m \u001b[48;2;255;161;161ma\u001b[0m \u001b[48;2;255;196;196mfinger\u001b[0m \u001b[48;2;255;202;202mof\u001b[0m \u001b[48;2;255;204;204moff\u001b[0m \u001b[48;2;255;219;219mwhite\u001b[0m \u001b[48;2;255;241;241mhead\u001b[0m \u001b[48;2;255;241;241m.\u001b[0m \u001b[48;2;255;245;245msmell\u001b[0m \u001b[48;2;255;255;255mof\u001b[0m \u001b[48;2;255;255;255mdog\u001b[0m \u001b[48;2;255;255;255munk\u001b[0m \u001b[48;2;255;255;255m,\u001b[0m \u001b[48;2;255;255;255mgreen\u001b[0m \u001b[48;2;255;255;255munk\u001b[0m \u001b[48;2;255;255;255m,\u001b[0m \u001b[48;2;255;255;255mand\u001b[0m \u001b[48;2;255;255;255mslightly\u001b[0m \u001b[48;2;255;255;255mfruity\u001b[0m \u001b[48;2;255;255;255m.\u001b[0m \u001b[48;2;255;255;255mtaste\u001b[0m \u001b[48;2;255;255;255mof\u001b[0m \u001b[48;2;255;255;255mbelgian\u001b[0m \u001b[48;2;255;255;255myeast\u001b[0m \u001b[48;2;255;255;255m,\u001b[0m \u001b[48;2;255;255;255mcoriander\u001b[0m \u001b[48;2;255;255;255m,\u001b[0m \u001b[48;2;255;255;255mhard\u001b[0m \u001b[48;2;255;255;255mwater\u001b[0m \u001b[48;2;255;255;255mand\u001b[0m \u001b[48;2;255;255;255mbready\u001b[0m \u001b[48;2;255;255;255mmalt\u001b[0m \u001b[48;2;255;255;255m.\u001b[0m \u001b[48;2;255;255;255mlight\u001b[0m \u001b[48;2;255;255;255mbody\u001b[0m \u001b[48;2;255;249;249m,\u001b[0m \u001b[48;2;255;247;247mwith\u001b[0m \u001b[48;2;255;254;254mlittle\u001b[0m \u001b[48;2;255;255;255mcarbonation\u001b[0m \u001b[48;2;255;255;255m.\u001b[0m \n",
      "\u001b[48;2;255;255;255mdeep\u001b[0m \u001b[48;2;255;255;255mamber\u001b[0m \u001b[48;2;255;255;255mhue\u001b[0m \u001b[48;2;225;255;225m,\u001b[0m \u001b[48;2;109;255;109mthis\u001b[0m \u001b[48;2;111;255;111mbrew\u001b[0m \u001b[48;2;172;255;172mis\u001b[0m \u001b[48;2;243;255;243mtopped\u001b[0m \u001b[48;2;255;255;255mwith\u001b[0m \u001b[48;2;255;255;255ma\u001b[0m \u001b[48;2;255;255;255mfinger\u001b[0m \u001b[48;2;255;255;255mof\u001b[0m \u001b[48;2;255;255;255moff\u001b[0m \u001b[48;2;135;255;135mwhite\u001b[0m \u001b[48;2;20;255;20mhead\u001b[0m \u001b[48;2;37;255;37m.\u001b[0m \u001b[48;2;50;255;50msmell\u001b[0m \u001b[48;2;11;255;11mof\u001b[0m \u001b[48;2;0;255;0mdog\u001b[0m \u001b[48;2;143;255;143munk\u001b[0m \u001b[48;2;255;255;255m,\u001b[0m \u001b[48;2;255;255;255mgreen\u001b[0m \u001b[48;2;255;255;255munk\u001b[0m \u001b[48;2;218;255;218m,\u001b[0m \u001b[48;2;185;255;185mand\u001b[0m \u001b[48;2;206;255;206mslightly\u001b[0m \u001b[48;2;218;255;218mfruity\u001b[0m \u001b[48;2;120;255;120m.\u001b[0m \u001b[48;2;83;255;83mtaste\u001b[0m \u001b[48;2;183;255;183mof\u001b[0m \u001b[48;2;255;255;255mbelgian\u001b[0m \u001b[48;2;255;255;255myeast\u001b[0m \u001b[48;2;255;255;255m,\u001b[0m \u001b[48;2;255;255;255mcoriander\u001b[0m \u001b[48;2;255;255;255m,\u001b[0m \u001b[48;2;255;255;255mhard\u001b[0m \u001b[48;2;255;255;255mwater\u001b[0m \u001b[48;2;255;255;255mand\u001b[0m \u001b[48;2;255;255;255mbready\u001b[0m \u001b[48;2;255;255;255mmalt\u001b[0m \u001b[48;2;255;255;255m.\u001b[0m \u001b[48;2;255;255;255mlight\u001b[0m \u001b[48;2;255;255;255mbody\u001b[0m \u001b[48;2;255;255;255m,\u001b[0m \u001b[48;2;255;255;255mwith\u001b[0m \u001b[48;2;255;255;255mlittle\u001b[0m \u001b[48;2;255;255;255mcarbonation\u001b[0m \u001b[48;2;255;255;255m.\u001b[0m \n",
      "\u001b[48;2;255;255;255mdeep\u001b[0m \u001b[48;2;247;247;255mamber\u001b[0m \u001b[48;2;255;255;255mhue\u001b[0m \u001b[48;2;255;255;255m,\u001b[0m \u001b[48;2;255;255;255mthis\u001b[0m \u001b[48;2;255;255;255mbrew\u001b[0m \u001b[48;2;255;255;255mis\u001b[0m \u001b[48;2;255;255;255mtopped\u001b[0m \u001b[48;2;255;255;255mwith\u001b[0m \u001b[48;2;255;255;255ma\u001b[0m \u001b[48;2;255;255;255mfinger\u001b[0m \u001b[48;2;255;255;255mof\u001b[0m \u001b[48;2;255;255;255moff\u001b[0m \u001b[48;2;255;255;255mwhite\u001b[0m \u001b[48;2;255;255;255mhead\u001b[0m \u001b[48;2;255;255;255m.\u001b[0m \u001b[48;2;255;255;255msmell\u001b[0m \u001b[48;2;191;191;255mof\u001b[0m \u001b[48;2;195;195;255mdog\u001b[0m \u001b[48;2;235;235;255munk\u001b[0m \u001b[48;2;255;255;255m,\u001b[0m \u001b[48;2;252;252;255mgreen\u001b[0m \u001b[48;2;255;255;255munk\u001b[0m \u001b[48;2;255;255;255m,\u001b[0m \u001b[48;2;255;255;255mand\u001b[0m \u001b[48;2;255;255;255mslightly\u001b[0m \u001b[48;2;255;255;255mfruity\u001b[0m \u001b[48;2;247;247;255m.\u001b[0m \u001b[48;2;207;207;255mtaste\u001b[0m \u001b[48;2;189;189;255mof\u001b[0m \u001b[48;2;182;182;255mbelgian\u001b[0m \u001b[48;2;172;172;255myeast\u001b[0m \u001b[48;2;163;163;255m,\u001b[0m \u001b[48;2;157;157;255mcoriander\u001b[0m \u001b[48;2;178;178;255m,\u001b[0m \u001b[48;2;238;238;255mhard\u001b[0m \u001b[48;2;230;230;255mwater\u001b[0m \u001b[48;2;131;131;255mand\u001b[0m \u001b[48;2;45;45;255mbready\u001b[0m \u001b[48;2;7;7;255mmalt\u001b[0m \u001b[48;2;47;47;255m.\u001b[0m \u001b[48;2;54;54;255mlight\u001b[0m \u001b[48;2;61;61;255mbody\u001b[0m \u001b[48;2;22;22;255m,\u001b[0m \u001b[48;2;0;0;255mwith\u001b[0m \u001b[48;2;39;39;255mlittle\u001b[0m \u001b[48;2;89;89;255mcarbonation\u001b[0m \u001b[48;2;255;255;255m.\u001b[0m \n",
      "\u001b[48;2;255;255;255mdeep\u001b[0m \u001b[48;2;255;255;255mamber\u001b[0m \u001b[48;2;255;255;255mhue\u001b[0m \u001b[48;2;255;255;255m,\u001b[0m \u001b[48;2;255;255;255mthis\u001b[0m \u001b[48;2;255;164;255mbrew\u001b[0m \u001b[48;2;255;122;255mis\u001b[0m \u001b[48;2;255;146;255mtopped\u001b[0m \u001b[48;2;255;191;255mwith\u001b[0m \u001b[48;2;255;217;255ma\u001b[0m \u001b[48;2;255;204;255mfinger\u001b[0m \u001b[48;2;255;255;255mof\u001b[0m \u001b[48;2;255;255;255moff\u001b[0m \u001b[48;2;255;255;255mwhite\u001b[0m \u001b[48;2;255;255;255mhead\u001b[0m \u001b[48;2;255;255;255m.\u001b[0m \u001b[48;2;255;255;255msmell\u001b[0m \u001b[48;2;255;245;255mof\u001b[0m \u001b[48;2;255;252;255mdog\u001b[0m \u001b[48;2;255;255;255munk\u001b[0m \u001b[48;2;255;255;255m,\u001b[0m \u001b[48;2;255;225;255mgreen\u001b[0m \u001b[48;2;255;189;255munk\u001b[0m \u001b[48;2;255;226;255m,\u001b[0m \u001b[48;2;255;255;255mand\u001b[0m \u001b[48;2;255;255;255mslightly\u001b[0m \u001b[48;2;255;255;255mfruity\u001b[0m \u001b[48;2;255;248;255m.\u001b[0m \u001b[48;2;255;148;255mtaste\u001b[0m \u001b[48;2;255;102;255mof\u001b[0m \u001b[48;2;255;153;255mbelgian\u001b[0m \u001b[48;2;255;227;255myeast\u001b[0m \u001b[48;2;255;210;255m,\u001b[0m \u001b[48;2;255;173;255mcoriander\u001b[0m \u001b[48;2;255;187;255m,\u001b[0m \u001b[48;2;255;133;255mhard\u001b[0m \u001b[48;2;255;22;255mwater\u001b[0m \u001b[48;2;255;0;255mand\u001b[0m \u001b[48;2;255;13;255mbready\u001b[0m \u001b[48;2;255;127;255mmalt\u001b[0m \u001b[48;2;255;87;255m.\u001b[0m \u001b[48;2;255;154;255mlight\u001b[0m \u001b[48;2;255;219;255mbody\u001b[0m \u001b[48;2;255;255;255m,\u001b[0m \u001b[48;2;255;255;255mwith\u001b[0m \u001b[48;2;255;233;255mlittle\u001b[0m \u001b[48;2;255;226;255mcarbonation\u001b[0m \u001b[48;2;255;255;255m.\u001b[0m\n"
     ]
    }
   ],
   "source": [
    "s = -1\n",
    "from random import random\n",
    "#30, 50, 60, 95, 120, 150, 7000\n",
    "\n",
    "nz = sum([1 for i in filters_pico['3'][s, :, 0] if i == 0])\n",
    "gate0 = filters_pico['0'][s, :, 1]\n",
    "gate1 = filters_pico['1'][s, :, 1]\n",
    "gate2 = filters_pico['2'][s, :, 1]\n",
    "gate3 = filters_pico['3'][s, :, 1]\n",
    "\n",
    "gate0[:nz] = 1.\n",
    "gate0 = np.convolve(gate0, [1./3 for _ in range(3)], mode='same')\n",
    "gate1 = np.convolve(gate1, [1./3 for _ in range(3)], mode='same')\n",
    "gate2 = np.convolve(gate2, [1./3 for _ in range(3)], mode='same')\n",
    "gate3 = np.convolve(gate3, [1./3 for _ in range(3)], mode='same')\n",
    "\n",
    "gate0 = gate0 - gate0[nz:].mean(axis=0)\n",
    "gate1 = gate1 - gate1[nz:].mean(axis=0)\n",
    "gate2 = gate2 - gate2[nz:].mean(axis=0)\n",
    "gate3 = gate3 - gate3[nz:].mean(axis=0)\n",
    "\n",
    "gate0 = gate0 / gate0.max(axis=0)\n",
    "gate1 = gate1 / gate1.max(axis=0)\n",
    "gate2 = gate2 / gate2.max(axis=0)\n",
    "gate3 = gate3 / gate3.max(axis=0)\n",
    "\n",
    "gate0 = gate0.clip(0, 1)\n",
    "gate1 = gate1.clip(0, 1)\n",
    "gate2 = gate2.clip(0, 1)\n",
    "gate3 = gate3.clip(0, 1)\n",
    "\n",
    "\n",
    "\n",
    "print gate3[nz:], gate0[nz:]\n",
    "gate4 = np.vstack([gate0, gate1, gate2, gate3])\n",
    "gate4 = np.argmax(gate4, axis=0)\n",
    "\n",
    "#print gate0\n",
    "X_words = [vec.idx2word[int(i)] for i in filters_pico['3'][s, :, 0]]\n",
    "c = ['red', 'green', 'blue', 'yellow']\n",
    "for i, j in zip(X_words, gate4.T) :\n",
    "    if i != '[0]' :\n",
    "        print color(i, bg=c[j]),\n",
    "print \"\"\n",
    "for i, j in zip(X_words, gate0):\n",
    "    if i != '[0]':\n",
    "        #if j < 0.4 : j = 0\n",
    "        print color(i, bg=[int(255),int((1-j)*255), int((1-j)*255)]),\n",
    "# for i, j in zip(X_words, gate0):\n",
    "#     if i != '[0]':\n",
    "#         print '{\\setlength{\\\\fboxsep}{0pt}\\colorbox{red!'+ str(int(j*100)) + '!white}{'+i+'}}',\n",
    "print \"\"\n",
    "for i, j in zip(X_words, gate1) :\n",
    "    if i != '[0]':\n",
    "        #if j < 0.4 : j = 0\n",
    "        print color(i, bg=[int((1-j)*255), int(255), int((1-j)*255)]),\n",
    "# for i, j in zip(X_words, gate1):\n",
    "#     if i != '[0]':\n",
    "#         print '{\\setlength{\\\\fboxsep}{0pt}\\colorbox{green!'+ str(int(j*100)) + '!white}{'+i+'}}',\n",
    "print \"\"\n",
    "\n",
    "for i, j in zip(X_words, gate2) :\n",
    "    if i != '[0]':\n",
    "        #if j < 0.4 : j = 0\n",
    "        print color(i, bg=[int((1-j)*255), int((1-j)*255), int(255)]),\n",
    "# for i, j in zip(X_words, gate2):\n",
    "#     if i != '[0]':\n",
    "#         print '{\\setlength{\\\\fboxsep}{0pt}\\colorbox{blue!'+ str(int(j*100)) + '!white}{'+i+'}}',\n",
    "print \"\"\n",
    "for i, j in zip(X_words, gate3) :\n",
    "    if i != '[0]':\n",
    "        #if j < 0.4 : j = 0\n",
    "        print color(i, bg=[int(255), int((1-j)*255), int(255)]),\n",
    "# for i, j in zip(X_words, gate3):\n",
    "#     if i != '[0]':\n",
    "#         print '{\\setlength{\\\\fboxsep}{0pt}\\colorbox{yellow!'+ str(int(j*100)) + '!white}{'+i+'}}',"
   ]
  },
  {
   "cell_type": "code",
   "execution_count": 51,
   "metadata": {
    "collapsed": true
   },
   "outputs": [],
   "source": [
    "activated_words = {}\n",
    "for aspect in aspects :\n",
    "    filters = filters_pico[aspect]\n",
    "    word_activations = np.zeros((vec.vocab_size, 1))\n",
    "    word2filter = filters.reshape(-1, filters.shape[-1])\n",
    "    for word in word2filter :\n",
    "        word_activations[int(word[0]), 0] = word[1]\n",
    "    activated_words[aspect] = word_activations\n",
    "    \n",
    "joint = np.concatenate([activated_words[aspect] for aspect in aspects], axis=1)"
   ]
  },
  {
   "cell_type": "code",
   "execution_count": 56,
   "metadata": {},
   "outputs": [
    {
     "name": "stdout",
     "output_type": "stream",
     "text": [
      "['attractive', 'beautiful', 'fingers', 'pumpkin', 'quarter', 'received', 'retention', 'sheets', 'sipper', 'well-balanced']\n",
      "['beer', 'cardboard', 'cheap', 'down', 'follows', 'medium-light', 'rice', 'settled', 'skunked', 'skunky']\n",
      "['bother', 'crafted', 'luscious', 'mellow', 'mint', 'range', 'recommended', 'roasted', 'tasting', 'weight']\n",
      "['amazingly', 'down', 'highly', 'product', 'recommended', 'tasted', 'thoroughly', 'to', 'truly', 'wow']\n"
     ]
    },
    {
     "data": {
      "text/html": [
       "<div>\n",
       "<style>\n",
       "    .dataframe thead tr:only-child th {\n",
       "        text-align: right;\n",
       "    }\n",
       "\n",
       "    .dataframe thead th {\n",
       "        text-align: left;\n",
       "    }\n",
       "\n",
       "    .dataframe tbody tr th {\n",
       "        vertical-align: top;\n",
       "    }\n",
       "</style>\n",
       "<table border=\"1\" class=\"dataframe\">\n",
       "  <thead>\n",
       "    <tr style=\"text-align: right;\">\n",
       "      <th></th>\n",
       "      <th>0</th>\n",
       "      <th>1</th>\n",
       "      <th>2</th>\n",
       "      <th>3</th>\n",
       "    </tr>\n",
       "  </thead>\n",
       "  <tbody>\n",
       "    <tr>\n",
       "      <th>0</th>\n",
       "      <td>attractive</td>\n",
       "      <td>beer</td>\n",
       "      <td>bother</td>\n",
       "      <td>amazingly</td>\n",
       "    </tr>\n",
       "    <tr>\n",
       "      <th>1</th>\n",
       "      <td>beautiful</td>\n",
       "      <td>cardboard</td>\n",
       "      <td>crafted</td>\n",
       "      <td>down</td>\n",
       "    </tr>\n",
       "    <tr>\n",
       "      <th>2</th>\n",
       "      <td>fingers</td>\n",
       "      <td>cheap</td>\n",
       "      <td>luscious</td>\n",
       "      <td>highly</td>\n",
       "    </tr>\n",
       "    <tr>\n",
       "      <th>3</th>\n",
       "      <td>pumpkin</td>\n",
       "      <td>down</td>\n",
       "      <td>mellow</td>\n",
       "      <td>product</td>\n",
       "    </tr>\n",
       "    <tr>\n",
       "      <th>4</th>\n",
       "      <td>quarter</td>\n",
       "      <td>follows</td>\n",
       "      <td>mint</td>\n",
       "      <td>recommended</td>\n",
       "    </tr>\n",
       "    <tr>\n",
       "      <th>5</th>\n",
       "      <td>received</td>\n",
       "      <td>medium-light</td>\n",
       "      <td>range</td>\n",
       "      <td>tasted</td>\n",
       "    </tr>\n",
       "    <tr>\n",
       "      <th>6</th>\n",
       "      <td>retention</td>\n",
       "      <td>rice</td>\n",
       "      <td>recommended</td>\n",
       "      <td>thoroughly</td>\n",
       "    </tr>\n",
       "    <tr>\n",
       "      <th>7</th>\n",
       "      <td>sheets</td>\n",
       "      <td>settled</td>\n",
       "      <td>roasted</td>\n",
       "      <td>to</td>\n",
       "    </tr>\n",
       "    <tr>\n",
       "      <th>8</th>\n",
       "      <td>sipper</td>\n",
       "      <td>skunked</td>\n",
       "      <td>tasting</td>\n",
       "      <td>truly</td>\n",
       "    </tr>\n",
       "    <tr>\n",
       "      <th>9</th>\n",
       "      <td>well-balanced</td>\n",
       "      <td>skunky</td>\n",
       "      <td>weight</td>\n",
       "      <td>wow</td>\n",
       "    </tr>\n",
       "  </tbody>\n",
       "</table>\n",
       "</div>"
      ],
      "text/plain": [
       "               0             1            2            3\n",
       "0     attractive          beer       bother    amazingly\n",
       "1      beautiful     cardboard      crafted         down\n",
       "2        fingers         cheap     luscious       highly\n",
       "3        pumpkin          down       mellow      product\n",
       "4        quarter       follows         mint  recommended\n",
       "5       received  medium-light        range       tasted\n",
       "6      retention          rice  recommended   thoroughly\n",
       "7         sheets       settled      roasted           to\n",
       "8         sipper       skunked      tasting        truly\n",
       "9  well-balanced        skunky       weight          wow"
      ]
     },
     "execution_count": 56,
     "metadata": {},
     "output_type": "execute_result"
    }
   ],
   "source": [
    "top_words_df = pd.DataFrame()\n",
    "top_words_size = 10\n",
    "for aspect in aspects :\n",
    "    popwords = joint[:, int(aspect)]\n",
    "    sorted_idx = np.argsort(popwords)\n",
    "    top_words = sorted_idx[-top_words_size:]\n",
    "    print [str(v) for k, v in vec.idx2word.items() if k in top_words]\n",
    "    top_words = pd.Series([v for k, v in vec.idx2word.items() if k in top_words])\n",
    "    \n",
    "    top_words_df[aspect] = top_words\n",
    "top_words_df"
   ]
  },
  {
   "cell_type": "code",
   "execution_count": 123,
   "metadata": {
    "collapsed": true
   },
   "outputs": [],
   "source": [
    "import keras.backend as K\n",
    "model_e = {}\n",
    "for aspect in aspects :\n",
    "    model_e[aspect] = K.function(\n",
    "                model.get_layer('pred_'+aspect).get_layer('pool_'+aspect).inputs + [K.learning_phase()], \n",
    "                model.get_layer('pred_'+aspect).get_layer('pool_'+aspect).outputs)\n",
    "embeds = {}\n",
    "vecs = {k:[] for k in aspects}\n",
    "i, bs = 0, 100\n",
    "while i*bs < len(val_idxs):\n",
    "    for aspect in aspects :\n",
    "        result = model_e[aspect]([X[i*bs:(i+1)*bs], 0])[0]\n",
    "        vecs[aspect].append(result)\n",
    "    i += 1\n",
    "\n",
    "for aspect in aspects :\n",
    "    embeds[aspect] = np.concatenate(vecs[aspect], axis=0)\n"
   ]
  },
  {
   "cell_type": "code",
   "execution_count": 126,
   "metadata": {},
   "outputs": [
    {
     "name": "stdout",
     "output_type": "stream",
     "text": [
      "0 0.919458938987 2090\n",
      "1 0.934243729845 4560\n",
      "2 0.937620830739 380\n",
      "3 0.965067441236 3893\n"
     ]
    }
   ],
   "source": [
    "#Gated CNN\n",
    "from sklearn.preprocessing import normalize\n",
    "from sklearn.metrics import roc_auc_score\n",
    "for aspect in aspects :\n",
    "    result = embeds[aspect]\n",
    "    result = normalize(result, 'l2')\n",
    "    scores = np.dot(result, result.T)\n",
    "    scores[np.arange(len(val_idxs)), np.arange(len(val_idxs))] = -1000\n",
    "    aucs = [0] * len(val_idxs)\n",
    "    for i in range(len(val_idxs)) :\n",
    "        aucs[i] = roc_auc_score(H[aspect][i], scores[i])\n",
    "    print aspect, np.mean(aucs), np.argmax(aucs)"
   ]
  },
  {
   "cell_type": "code",
   "execution_count": 37,
   "metadata": {
    "collapsed": true
   },
   "outputs": [],
   "source": [
    "def softmax(X, theta = 1.0, axis = None):\n",
    "    \"\"\"\n",
    "    Compute the softmax of each element along an axis of X.\n",
    "\n",
    "    Parameters\n",
    "    ----------\n",
    "    X: ND-Array. Probably should be floats. \n",
    "    theta (optional): float parameter, used as a multiplier\n",
    "        prior to exponentiation. Default = 1.0\n",
    "    axis (optional): axis to compute values along. Default is the \n",
    "        first non-singleton axis.\n",
    "\n",
    "    Returns an array the same size as X. The result will sum to 1\n",
    "    along the specified axis.\n",
    "    \"\"\"\n",
    "\n",
    "    # make X at least 2d\n",
    "    y = np.atleast_2d(X)\n",
    "\n",
    "    # find axis\n",
    "    if axis is None:\n",
    "        axis = next(j[0] for j in enumerate(y.shape) if j[1] > 1)\n",
    "\n",
    "    # multiply y against the theta parameter, \n",
    "    y = y * float(theta)\n",
    "\n",
    "    # subtract the max for numerical stability\n",
    "    y = y - np.expand_dims(np.max(y, axis = axis), axis)\n",
    "\n",
    "    # exponentiate y\n",
    "    y = np.exp(y)\n",
    "\n",
    "    # take the sum along the specified axis\n",
    "    ax_sum = np.expand_dims(np.sum(y, axis = axis), axis)\n",
    "\n",
    "    # finally: divide elementwise\n",
    "    p = y / ax_sum\n",
    "\n",
    "    # flatten if X was 1D\n",
    "    if len(X.shape) == 1: p = p.flatten()\n",
    "\n",
    "    return p"
   ]
  },
  {
   "cell_type": "code",
   "execution_count": 57,
   "metadata": {
    "collapsed": true
   },
   "outputs": [],
   "source": [
    "clip_X = np.clip(X, 0, 1)"
   ]
  },
  {
   "cell_type": "code",
   "execution_count": 58,
   "metadata": {
    "collapsed": true
   },
   "outputs": [],
   "source": [
    "clip_X = clip_X.sum(axis=1)"
   ]
  },
  {
   "cell_type": "code",
   "execution_count": 59,
   "metadata": {
    "collapsed": true
   },
   "outputs": [],
   "source": [
    "len_X = np.argsort(clip_X)"
   ]
  },
  {
   "cell_type": "code",
   "execution_count": 70,
   "metadata": {},
   "outputs": [
    {
     "data": {
      "text/plain": [
       "305"
      ]
     },
     "execution_count": 70,
     "metadata": {},
     "output_type": "execute_result"
    }
   ],
   "source": [
    "clip_X[len_X[-1]]"
   ]
  },
  {
   "cell_type": "code",
   "execution_count": 72,
   "metadata": {},
   "outputs": [
    {
     "data": {
      "text/plain": [
       "305"
      ]
     },
     "execution_count": 72,
     "metadata": {},
     "output_type": "execute_result"
    }
   ],
   "source": [
    "clip_X[len_X[-1]]"
   ]
  },
  {
   "cell_type": "code",
   "execution_count": 46,
   "metadata": {
    "collapsed": true
   },
   "outputs": [],
   "source": [
    "t = \"very dark beer . pours a nice finger and a half of creamy foam and stays throughout the beer . smells of coffee and roasted malt . has a major coffee taste with hints of chocolate . if you like black coffee , you will love this porter . creamy smooth mouthfeel and definitely gets smoother on the palate once it warms . it 's an ok porter but i feel there are much beer one 's out there .\""
   ]
  },
  {
   "cell_type": "code",
   "execution_count": 20,
   "metadata": {},
   "outputs": [
    {
     "name": "stdout",
     "output_type": "stream",
     "text": [
      "[u'deep', u'amber', u'hue', u',', u'this', u'brew', u'is', u'topped', u'with', u'a', u'finger', u'of', u'off', u'white', u'head', u'.', u'smell', u'of', u'dog', 1, u',', u'green', 1, u',', u'and', u'slightly', u'fruity', u'.', u'taste', u'of', u'belgian', u'yeast', u',', u'coriander', u',', u'hard', u'water', u'and', u'bready', u'malt', u'.', u'light', u'body', u',', u'with', u'little', u'carbonation', u'.']\n"
     ]
    }
   ],
   "source": [
    "t1 = [vec.word2idx[x.text.lower()] if x.text.lower() in vec.word2idx else 1 for x in nlp(unicode(s))]# if x in vec.word2idx]\n",
    "t2 = [0]*(305-len(t1)) + t1\n",
    "X = np.vstack((X[:-1], t2))\n",
    "print [x.text.lower() if x.text.lower() in vec.word2idx else 1 for x in nlp(unicode(s))]"
   ]
  },
  {
   "cell_type": "code",
   "execution_count": 86,
   "metadata": {
    "collapsed": true
   },
   "outputs": [],
   "source": [
    "s = \"Has a medium, white head, a hazy gold orange appearance, glass lacing, and some bubble action. Aroma is of a strong mango fruit whiff, with underlying white wheat bread. Taste is of those elements and a very mild, rounding hop bitterness. Mouthfeel is high medium, and Mango Wheat finishes midway between wet & dry. Great stuff, in the style. \""
   ]
  },
  {
   "cell_type": "code",
   "execution_count": 65,
   "metadata": {
    "collapsed": true
   },
   "outputs": [],
   "source": [
    "s= \"Poured a dark brown color with a small, light brown head of foam. It smelled of chocolate, caramel and toastiness. Sweet chocolate flavor with a burnt toast maltiness. Same amazing smoothness as regular Dark Matter.\""
   ]
  },
  {
   "cell_type": "code",
   "execution_count": 49,
   "metadata": {
    "collapsed": true
   },
   "outputs": [],
   "source": [
    "s = \"A: The beer is jet black in color. It poured with a finger high dense tan head. The head died down, but consistently left a short head covering the surface. \\\n",
    "S: Light aromas of dark roasted malts and a bit of roast are present in the nose. \\\n",
    "T: The taste has flavors of dark and chocolate malts with a light amount of roast and hints of coffee beans. The roasted flavors become stronger in the finish and linger through the aftertaste. \\\n",
    "M: It feels medium-bodied and silky smooth on the palate with a moderate amount of carbonation.\""
   ]
  },
  {
   "cell_type": "code",
   "execution_count": 107,
   "metadata": {
    "collapsed": true
   },
   "outputs": [],
   "source": [
    "s=\"his beer pours a deep black with medium sized head. The aroma features dark chocolate, licorice, brown sugar, and tobacco. The flavor is lovely and rich, with big brown sugar and roasty notes upfront. The mouthfeel is fairly full but not syrupy, with gentle carbonation.\""
   ]
  },
  {
   "cell_type": "code",
   "execution_count": 19,
   "metadata": {
    "collapsed": true
   },
   "outputs": [],
   "source": [
    "s=\"Deep amber hue ,this brew is topped with a finger of off white head.\\\n",
    "Smell of dog hair, green olives, and slightly fruity.\\\n",
    "Taste of Belgian yeast, coriander, hard water and bready malt.\\\n",
    "Light body, with little carbonation.\""
   ]
  },
  {
   "cell_type": "code",
   "execution_count": 9,
   "metadata": {
    "collapsed": true
   },
   "outputs": [],
   "source": [
    "s=\"Pours a dark brown-black with a finger of khaki foam. Head retention is alright with no lacing left behind. Aroma is burnt coffee, cigarettes, and toasted malts. Flavor profile is more smoky coffee, cigarettes, and toasted malts. Coffee is charred, burnt, and bitter. Mouth feel is medium-thin with a slightly watery, grainy texture. Overall, it comes off as smoked, bitter, and harsh. \""
   ]
  },
  {
   "cell_type": "code",
   "execution_count": 10,
   "metadata": {
    "collapsed": true
   },
   "outputs": [],
   "source": [
    "import spacy\n",
    "nlp = spacy.load('en', disable=['parser', 'tagger', 'ner'])"
   ]
  },
  {
   "cell_type": "code",
   "execution_count": 151,
   "metadata": {},
   "outputs": [
    {
     "data": {
      "text/plain": [
       "[u'deep',\n",
       " u'amber',\n",
       " u'hue',\n",
       " u',',\n",
       " u'well',\n",
       " u'filtered',\n",
       " u'and',\n",
       " u'only',\n",
       " u'a',\n",
       " u'little',\n",
       " u'carbonation',\n",
       " u',',\n",
       " u'this',\n",
       " u'brew',\n",
       " u'is',\n",
       " u'topped',\n",
       " u'with',\n",
       " u'a',\n",
       " u'finger',\n",
       " u'of',\n",
       " u'off',\n",
       " u'white',\n",
       " u'head',\n",
       " u'.',\n",
       " u'smell',\n",
       " u'of',\n",
       " u'caramel',\n",
       " u',',\n",
       " u'dog',\n",
       " u'hair',\n",
       " u',',\n",
       " u'green',\n",
       " u'olives',\n",
       " u',',\n",
       " u'and',\n",
       " u'slightly',\n",
       " u'fruity',\n",
       " u'.',\n",
       " u'taste',\n",
       " u'of',\n",
       " u'belgian',\n",
       " u'yeasts',\n",
       " u',',\n",
       " u'bubblegum',\n",
       " u',',\n",
       " u'coriander',\n",
       " u',',\n",
       " u'hard',\n",
       " u'water',\n",
       " u'and',\n",
       " u'bready',\n",
       " u'malt',\n",
       " u'.',\n",
       " u'light',\n",
       " u'body',\n",
       " u',',\n",
       " u'with',\n",
       " u'little',\n",
       " u'carbonation',\n",
       " u'.']"
      ]
     },
     "execution_count": 151,
     "metadata": {},
     "output_type": "execute_result"
    }
   ],
   "source": [
    "[t.text.lower() for t in nlp(unicode(s))]"
   ]
  },
  {
   "cell_type": "code",
   "execution_count": 161,
   "metadata": {},
   "outputs": [
    {
     "ename": "KeyError",
     "evalue": "'olives'",
     "output_type": "error",
     "traceback": [
      "\u001b[0;31m---------------------------------------------------------------------------\u001b[0m",
      "\u001b[0;31mKeyError\u001b[0m                                  Traceback (most recent call last)",
      "\u001b[0;32m<ipython-input-161-7c07f4cb552f>\u001b[0m in \u001b[0;36m<module>\u001b[0;34m()\u001b[0m\n\u001b[0;32m----> 1\u001b[0;31m \u001b[0mvec\u001b[0m\u001b[0;34m.\u001b[0m\u001b[0mword2idx\u001b[0m\u001b[0;34m[\u001b[0m\u001b[0;34m'olives'\u001b[0m\u001b[0;34m]\u001b[0m\u001b[0;34m\u001b[0m\u001b[0m\n\u001b[0m",
      "\u001b[0;31mKeyError\u001b[0m: 'olives'"
     ]
    }
   ],
   "source": [
    "vec.word2idx['olives']"
   ]
  },
  {
   "cell_type": "code",
   "execution_count": null,
   "metadata": {
    "collapsed": true
   },
   "outputs": [],
   "source": []
  }
 ],
 "metadata": {
  "kernelspec": {
   "display_name": "Python 2",
   "language": "python",
   "name": "python2"
  },
  "language_info": {
   "codemirror_mode": {
    "name": "ipython",
    "version": 2
   },
   "file_extension": ".py",
   "mimetype": "text/x-python",
   "name": "python",
   "nbconvert_exporter": "python",
   "pygments_lexer": "ipython2",
   "version": "2.7.14"
  }
 },
 "nbformat": 4,
 "nbformat_minor": 2
}
