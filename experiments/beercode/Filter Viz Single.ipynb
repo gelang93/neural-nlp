{
 "cells": [
  {
   "cell_type": "code",
   "execution_count": 7,
   "metadata": {},
   "outputs": [],
   "source": [
    "from keras.models  import load_model\n",
    "import keras.backend as K\n",
    "from sklearn.preprocessing import normalize\n",
    "import cPickle\n",
    "import sys\n",
    "sys.path.insert(0, '../../preprocess')\n",
    "import vectorizer\n",
    "from colors import color\n",
    "import pandas as pd\n",
    "import numpy as np\n",
    "\n",
    "aspects = [str(i) for i in range(4)] #app, aroma, palate,taste"
   ]
  },
  {
   "cell_type": "code",
   "execution_count": 8,
   "metadata": {
    "collapsed": true
   },
   "outputs": [],
   "source": [
    "vec = cPickle.load(open('../../beer_data/beer_vec_ds_2000.p', 'rb'))"
   ]
  },
  {
   "cell_type": "code",
   "execution_count": 9,
   "metadata": {},
   "outputs": [],
   "source": [
    "import pandas as pd\n",
    "from sklearn.model_selection import train_test_split\n",
    "import numpy as np\n",
    "\n",
    "ds = pd.read_csv('../../beer_data/beer_ds.csv')\n",
    "\n",
    "from ast import literal_eval as make_tuple\n",
    "ds['bits'] = ds['bits'].map(lambda s : make_tuple(s))\n",
    "\n",
    "aspect_columns = sorted(['review/appearance', 'review/taste', 'review/aroma', 'review/palate'])\n",
    "aspects = [str(i) for i in range(4)]\n",
    "\n",
    "train_idxs, val_idxs = train_test_split(ds.index, stratify=ds['bits'], train_size=0.9, random_state=1337)"
   ]
  },
  {
   "cell_type": "code",
   "execution_count": 10,
   "metadata": {
    "collapsed": true
   },
   "outputs": [],
   "source": [
    "idxs = val_idxs\n",
    "H = {}\n",
    "for i in range(4) :\n",
    "    H[str(i)] = np.zeros((len(idxs), len(idxs)))\n",
    "    a0 = set(ds[ds[aspect_columns[i]] == 0].index) & set(idxs)\n",
    "    a1 = set(ds[ds[aspect_columns[i]] == 1].index) & set(idxs)\n",
    "    a0 = map(lambda s : list(idxs).index(s), a0)\n",
    "    a1 = map(lambda s : list(idxs).index(s), a1)\n",
    "    for j in a0 :\n",
    "        H[str(i)][j, a0] = 1\n",
    "    for j in a1 :\n",
    "        H[str(i)][j, a1] = 1\n",
    "\n",
    "    H[str(i)][np.arange(len(idxs)), np.arange(len(idxs))] = 0"
   ]
  },
  {
   "cell_type": "code",
   "execution_count": 11,
   "metadata": {
    "collapsed": true
   },
   "outputs": [],
   "source": [
    "model = load_model('../store/weights/beer/Gated2CNNModelThuDec1400:49:582017grugate/loss.h5', \n",
    "                   custom_objects={'contrastive_loss' : lambda a,b:b, '<lambda>' : lambda a,b : b})"
   ]
  },
  {
   "cell_type": "code",
   "execution_count": 13,
   "metadata": {},
   "outputs": [
    {
     "name": "stdout",
     "output_type": "stream",
     "text": [
      "__________________________________________________________________________________________________\n",
      "Layer (type)                    Output Shape         Param #     Connected to                     \n",
      "==================================================================================================\n",
      "input_1 (InputLayer)            (None, 305)          0                                            \n",
      "__________________________________________________________________________________________________\n",
      "embedding (Embedding)           (None, 305, 300)     600600      input_1[0][0]                    \n",
      "__________________________________________________________________________________________________\n",
      "lambda_1 (Lambda)               (None, 305, 1)       0           input_1[0][0]                    \n",
      "__________________________________________________________________________________________________\n",
      "multiply_1 (Multiply)           (None, 305, 300)     0           embedding[0][0]                  \n",
      "                                                                 lambda_1[0][0]                   \n",
      "__________________________________________________________________________________________________\n",
      "cu_dnngru_1 (CuDNNGRU)          (None, 305, 128)     165120      multiply_1[0][0]                 \n",
      "__________________________________________________________________________________________________\n",
      "time_distributed_1 (TimeDistrib (None, 305, 1)       129         cu_dnngru_1[0][0]                \n",
      "__________________________________________________________________________________________________\n",
      "multiply_2 (Multiply)           (None, 305, 128)     0           cu_dnngru_1[0][0]                \n",
      "                                                                 time_distributed_1[0][0]         \n",
      "__________________________________________________________________________________________________\n",
      "multiply_3 (Multiply)           (None, 305, 128)     0           multiply_2[0][0]                 \n",
      "                                                                 lambda_1[0][0]                   \n",
      "__________________________________________________________________________________________________\n",
      "lambda_2 (Lambda)               (None, 128)          0           multiply_3[0][0]                 \n",
      "==================================================================================================\n",
      "Total params: 765,849\n",
      "Trainable params: 765,849\n",
      "Non-trainable params: 0\n",
      "__________________________________________________________________________________________________\n"
     ]
    }
   ],
   "source": [
    "model.get_layer('pred_0').get_layer('pool_0').summary()"
   ]
  },
  {
   "cell_type": "code",
   "execution_count": 14,
   "metadata": {},
   "outputs": [],
   "source": [
    "model_c1 = {}\n",
    "for aspect in aspects :\n",
    "    model_c1[aspect] = K.function(model.get_layer('pred_'+aspect).get_layer('pool_'+aspect).inputs, \n",
    "                          [model.get_layer('pred_'+aspect).get_layer('pool_'+aspect).layers[5].output])"
   ]
  },
  {
   "cell_type": "code",
   "execution_count": 28,
   "metadata": {
    "collapsed": true
   },
   "outputs": [],
   "source": [
    "X = vec.X[val_idxs]"
   ]
  },
  {
   "cell_type": "code",
   "execution_count": 29,
   "metadata": {},
   "outputs": [
    {
     "name": "stdout",
     "output_type": "stream",
     "text": [
      "(9121, 305, 2)\n",
      "(9121, 305, 2)\n",
      "(9121, 305, 2)\n",
      "(9121, 305, 2)\n"
     ]
    }
   ],
   "source": [
    "filters_pico = {k:[] for k in aspects}\n",
    "#X = X[-2:]\n",
    "i, bs = 0, 100\n",
    "while i*bs < len(X):\n",
    "    for aspect in aspects :\n",
    "        val = model_c1[aspect]([X[i*bs:(i+1)*bs]])[0]#[:, :, :]\n",
    "        val = val.mean(axis=-1)\n",
    "        val = np.dstack((X[i*bs:(i+1)*bs], val))\n",
    "        filters_pico[aspect].append(val)\n",
    "    i+=1\n",
    "        \n",
    "for aspect in aspects :\n",
    "    filters_pico[aspect] = np.concatenate(filters_pico[aspect])\n",
    "#     for s in range(len(filters_pico[aspect])) :\n",
    "#         nz = sum([1 for i in filters_pico[aspect][s, :, 0] if i == 0])\n",
    "#         filters_pico[aspect][s, :nz, 1] = 1.\n",
    "#         filters_pico[aspect][s, :, 1] = np.convolve(filters_pico[aspect][s, :, 1], \n",
    "#                                                     [1./5 for _ in range(5)], mode='same')\n",
    "    print filters_pico[aspect].shape"
   ]
  },
  {
   "cell_type": "code",
   "execution_count": 27,
   "metadata": {
    "scrolled": false
   },
   "outputs": [
    {
     "name": "stdout",
     "output_type": "stream",
     "text": [
      "\u001b[48;2;255;0;0mthe\u001b[0m \u001b[48;2;255;127;127mcolour\u001b[0m \u001b[48;2;255;247;247mis\u001b[0m \u001b[48;2;255;249;249mopaque\u001b[0m \u001b[48;2;255;252;252mblack\u001b[0m \u001b[48;2;255;255;255m-\u001b[0m \u001b[48;2;255;255;255mthe\u001b[0m \u001b[48;2;255;255;255msmall\u001b[0m \u001b[48;2;255;255;255mhead\u001b[0m \u001b[48;2;255;255;255mis\u001b[0m \u001b[48;2;255;254;254mbrown\u001b[0m \u001b[48;2;255;240;240m.\u001b[0m \u001b[48;2;255;228;228mthe\u001b[0m \u001b[48;2;255;192;192mfine\u001b[0m \u001b[48;2;255;158;158mand\u001b[0m \u001b[48;2;255;126;126minviting\u001b[0m \u001b[48;2;255;110;110msmell\u001b[0m \u001b[48;2;255;95;95mgot\u001b[0m \u001b[48;2;255;117;117mnotes\u001b[0m \u001b[48;2;255;138;138mof\u001b[0m \u001b[48;2;255;164;164mcoffee\u001b[0m \u001b[48;2;255;179;179mand\u001b[0m \u001b[48;2;255;194;194mtoffee\u001b[0m \u001b[48;2;255;204;204mand\u001b[0m \u001b[48;2;255;214;214ma\u001b[0m \u001b[48;2;255;224;224munk\u001b[0m \u001b[48;2;255;234;234mtouch\u001b[0m \u001b[48;2;255;250;250mof\u001b[0m \u001b[48;2;255;255;255mdry\u001b[0m \u001b[48;2;255;255;255munk\u001b[0m \u001b[48;2;255;255;255munk\u001b[0m \u001b[48;2;255;255;255m.\u001b[0m \u001b[48;2;255;255;255mthe\u001b[0m \u001b[48;2;255;255;255mtaste\u001b[0m \u001b[48;2;255;255;255mis\u001b[0m \u001b[48;2;255;255;255munk\u001b[0m \u001b[48;2;255;255;255mweak\u001b[0m \u001b[48;2;255;255;255m(\u001b[0m \u001b[48;2;255;255;255malmost\u001b[0m \u001b[48;2;255;255;255mwatery\u001b[0m \u001b[48;2;255;255;255m)\u001b[0m \u001b[48;2;255;255;255mand\u001b[0m \u001b[48;2;255;255;255munbalanced\u001b[0m \u001b[48;2;255;234;234mwith\u001b[0m \u001b[48;2;255;188;188ma\u001b[0m \u001b[48;2;255;173;173mplain\u001b[0m \u001b[48;2;255;172;172mbitter\u001b[0m \u001b[48;2;255;181;181msomewhat\u001b[0m \u001b[48;2;255;227;227msmoky\u001b[0m \u001b[48;2;255;255;255mflavour\u001b[0m \u001b[48;2;255;255;255mand\u001b[0m \u001b[48;2;255;255;255ma\u001b[0m \u001b[48;2;255;255;255mtouch\u001b[0m \u001b[48;2;255;255;255mof\u001b[0m \u001b[48;2;255;255;255munk\u001b[0m \u001b[48;2;255;255;255munk\u001b[0m \u001b[48;2;255;255;255m.\u001b[0m \u001b[48;2;255;255;255mthe\u001b[0m \u001b[48;2;255;255;255maftertaste\u001b[0m \u001b[48;2;255;255;255mis\u001b[0m \u001b[48;2;255;255;255mbitter\u001b[0m \u001b[48;2;255;255;255mwith\u001b[0m \u001b[48;2;255;255;255mcreamy\u001b[0m \u001b[48;2;255;255;255mnotes\u001b[0m \u001b[48;2;255;255;255m,\u001b[0m \u001b[48;2;255;255;255mlike\u001b[0m \u001b[48;2;255;255;255mdrinking\u001b[0m \u001b[48;2;255;255;255mcold\u001b[0m \u001b[48;2;255;255;255m,\u001b[0m \u001b[48;2;255;255;255munk\u001b[0m \u001b[48;2;255;255;255mcoffee\u001b[0m \u001b[48;2;255;255;255mwith\u001b[0m \u001b[48;2;255;255;255munk\u001b[0m \u001b[48;2;255;255;255munk\u001b[0m \u001b[48;2;255;255;255m.\u001b[0m \u001b[48;2;255;255;255mthe\u001b[0m \u001b[48;2;255;255;255mcarbonation\u001b[0m \u001b[48;2;255;255;255mis\u001b[0m \u001b[48;2;255;255;255mgentle\u001b[0m \u001b[48;2;255;243;243mand\u001b[0m \u001b[48;2;255;255;255mmild\u001b[0m \u001b[48;2;255;255;255m.\u001b[0m \n",
      "\u001b[48;2;250;255;250mthe\u001b[0m \u001b[48;2;255;255;255mcolour\u001b[0m \u001b[48;2;255;255;255mis\u001b[0m \u001b[48;2;255;255;255mopaque\u001b[0m \u001b[48;2;255;255;255mblack\u001b[0m \u001b[48;2;255;255;255m-\u001b[0m \u001b[48;2;255;255;255mthe\u001b[0m \u001b[48;2;255;255;255msmall\u001b[0m \u001b[48;2;255;255;255mhead\u001b[0m \u001b[48;2;255;255;255mis\u001b[0m \u001b[48;2;255;255;255mbrown\u001b[0m \u001b[48;2;250;255;250m.\u001b[0m \u001b[48;2;246;255;246mthe\u001b[0m \u001b[48;2;182;255;182mfine\u001b[0m \u001b[48;2;117;255;117mand\u001b[0m \u001b[48;2;72;255;72minviting\u001b[0m \u001b[48;2;35;255;35msmell\u001b[0m \u001b[48;2;0;255;0mgot\u001b[0m \u001b[48;2;26;255;26mnotes\u001b[0m \u001b[48;2;55;255;55mof\u001b[0m \u001b[48;2;86;255;86mcoffee\u001b[0m \u001b[48;2;115;255;115mand\u001b[0m \u001b[48;2;145;255;145mtoffee\u001b[0m \u001b[48;2;173;255;173mand\u001b[0m \u001b[48;2;212;255;212ma\u001b[0m \u001b[48;2;227;255;227munk\u001b[0m \u001b[48;2;248;255;248mtouch\u001b[0m \u001b[48;2;255;255;255mof\u001b[0m \u001b[48;2;255;255;255mdry\u001b[0m \u001b[48;2;255;255;255munk\u001b[0m \u001b[48;2;255;255;255munk\u001b[0m \u001b[48;2;255;255;255m.\u001b[0m \u001b[48;2;244;255;244mthe\u001b[0m \u001b[48;2;236;255;236mtaste\u001b[0m \u001b[48;2;222;255;222mis\u001b[0m \u001b[48;2;214;255;214munk\u001b[0m \u001b[48;2;220;255;220mweak\u001b[0m \u001b[48;2;221;255;221m(\u001b[0m \u001b[48;2;223;255;223malmost\u001b[0m \u001b[48;2;233;255;233mwatery\u001b[0m \u001b[48;2;247;255;247m)\u001b[0m \u001b[48;2;254;255;254mand\u001b[0m \u001b[48;2;255;255;255munbalanced\u001b[0m \u001b[48;2;255;255;255mwith\u001b[0m \u001b[48;2;255;255;255ma\u001b[0m \u001b[48;2;255;255;255mplain\u001b[0m \u001b[48;2;255;255;255mbitter\u001b[0m \u001b[48;2;255;255;255msomewhat\u001b[0m \u001b[48;2;255;255;255msmoky\u001b[0m \u001b[48;2;255;255;255mflavour\u001b[0m \u001b[48;2;255;255;255mand\u001b[0m \u001b[48;2;255;255;255ma\u001b[0m \u001b[48;2;255;255;255mtouch\u001b[0m \u001b[48;2;255;255;255mof\u001b[0m \u001b[48;2;255;255;255munk\u001b[0m \u001b[48;2;255;255;255munk\u001b[0m \u001b[48;2;255;255;255m.\u001b[0m \u001b[48;2;255;255;255mthe\u001b[0m \u001b[48;2;255;255;255maftertaste\u001b[0m \u001b[48;2;255;255;255mis\u001b[0m \u001b[48;2;255;255;255mbitter\u001b[0m \u001b[48;2;255;255;255mwith\u001b[0m \u001b[48;2;255;255;255mcreamy\u001b[0m \u001b[48;2;255;255;255mnotes\u001b[0m \u001b[48;2;255;255;255m,\u001b[0m \u001b[48;2;255;255;255mlike\u001b[0m \u001b[48;2;255;255;255mdrinking\u001b[0m \u001b[48;2;255;255;255mcold\u001b[0m \u001b[48;2;255;255;255m,\u001b[0m \u001b[48;2;255;255;255munk\u001b[0m \u001b[48;2;255;255;255mcoffee\u001b[0m \u001b[48;2;255;255;255mwith\u001b[0m \u001b[48;2;255;255;255munk\u001b[0m \u001b[48;2;255;255;255munk\u001b[0m \u001b[48;2;255;255;255m.\u001b[0m \u001b[48;2;255;255;255mthe\u001b[0m \u001b[48;2;255;255;255mcarbonation\u001b[0m \u001b[48;2;255;255;255mis\u001b[0m \u001b[48;2;255;255;255mgentle\u001b[0m \u001b[48;2;255;255;255mand\u001b[0m \u001b[48;2;255;255;255mmild\u001b[0m \u001b[48;2;255;255;255m.\u001b[0m \n",
      "\u001b[48;2;239;239;255mthe\u001b[0m \u001b[48;2;255;255;255mcolour\u001b[0m \u001b[48;2;255;255;255mis\u001b[0m \u001b[48;2;255;255;255mopaque\u001b[0m \u001b[48;2;255;255;255mblack\u001b[0m \u001b[48;2;255;255;255m-\u001b[0m \u001b[48;2;255;255;255mthe\u001b[0m \u001b[48;2;255;255;255msmall\u001b[0m \u001b[48;2;255;255;255mhead\u001b[0m \u001b[48;2;255;255;255mis\u001b[0m \u001b[48;2;242;242;255mbrown\u001b[0m \u001b[48;2;228;228;255m.\u001b[0m \u001b[48;2;216;216;255mthe\u001b[0m \u001b[48;2;140;140;255mfine\u001b[0m \u001b[48;2;118;118;255mand\u001b[0m \u001b[48;2;70;70;255minviting\u001b[0m \u001b[48;2;34;34;255msmell\u001b[0m \u001b[48;2;0;0;255mgot\u001b[0m \u001b[48;2;62;62;255mnotes\u001b[0m \u001b[48;2;72;72;255mof\u001b[0m \u001b[48;2;142;142;255mcoffee\u001b[0m \u001b[48;2;205;205;255mand\u001b[0m \u001b[48;2;255;255;255mtoffee\u001b[0m \u001b[48;2;255;255;255mand\u001b[0m \u001b[48;2;255;255;255ma\u001b[0m \u001b[48;2;255;255;255munk\u001b[0m \u001b[48;2;255;255;255mtouch\u001b[0m \u001b[48;2;255;255;255mof\u001b[0m \u001b[48;2;255;255;255mdry\u001b[0m \u001b[48;2;255;255;255munk\u001b[0m \u001b[48;2;255;255;255munk\u001b[0m \u001b[48;2;255;255;255m.\u001b[0m \u001b[48;2;255;255;255mthe\u001b[0m \u001b[48;2;255;255;255mtaste\u001b[0m \u001b[48;2;255;255;255mis\u001b[0m \u001b[48;2;255;255;255munk\u001b[0m \u001b[48;2;255;255;255mweak\u001b[0m \u001b[48;2;248;248;255m(\u001b[0m \u001b[48;2;236;236;255malmost\u001b[0m \u001b[48;2;222;222;255mwatery\u001b[0m \u001b[48;2;201;201;255m)\u001b[0m \u001b[48;2;186;186;255mand\u001b[0m \u001b[48;2;196;196;255munbalanced\u001b[0m \u001b[48;2;185;185;255mwith\u001b[0m \u001b[48;2;174;174;255ma\u001b[0m \u001b[48;2;195;195;255mplain\u001b[0m \u001b[48;2;203;203;255mbitter\u001b[0m \u001b[48;2;210;210;255msomewhat\u001b[0m \u001b[48;2;232;232;255msmoky\u001b[0m \u001b[48;2;255;255;255mflavour\u001b[0m \u001b[48;2;255;255;255mand\u001b[0m \u001b[48;2;255;255;255ma\u001b[0m \u001b[48;2;255;255;255mtouch\u001b[0m \u001b[48;2;255;255;255mof\u001b[0m \u001b[48;2;255;255;255munk\u001b[0m \u001b[48;2;255;255;255munk\u001b[0m \u001b[48;2;255;255;255m.\u001b[0m \u001b[48;2;255;255;255mthe\u001b[0m \u001b[48;2;255;255;255maftertaste\u001b[0m \u001b[48;2;255;255;255mis\u001b[0m \u001b[48;2;255;255;255mbitter\u001b[0m \u001b[48;2;211;211;255mwith\u001b[0m \u001b[48;2;164;164;255mcreamy\u001b[0m \u001b[48;2;150;150;255mnotes\u001b[0m \u001b[48;2;175;175;255m,\u001b[0m \u001b[48;2;239;239;255mlike\u001b[0m \u001b[48;2;255;255;255mdrinking\u001b[0m \u001b[48;2;255;255;255mcold\u001b[0m \u001b[48;2;255;255;255m,\u001b[0m \u001b[48;2;255;255;255munk\u001b[0m \u001b[48;2;255;255;255mcoffee\u001b[0m \u001b[48;2;255;255;255mwith\u001b[0m \u001b[48;2;255;255;255munk\u001b[0m \u001b[48;2;255;255;255munk\u001b[0m \u001b[48;2;255;255;255m.\u001b[0m \u001b[48;2;255;255;255mthe\u001b[0m \u001b[48;2;201;201;255mcarbonation\u001b[0m \u001b[48;2;145;145;255mis\u001b[0m \u001b[48;2;137;137;255mgentle\u001b[0m \u001b[48;2;141;141;255mand\u001b[0m \u001b[48;2;198;198;255mmild\u001b[0m \u001b[48;2;255;255;255m.\u001b[0m \n",
      "\u001b[48;2;255;255;255mthe\u001b[0m \u001b[48;2;255;255;255mcolour\u001b[0m \u001b[48;2;255;255;255mis\u001b[0m \u001b[48;2;255;255;255mopaque\u001b[0m \u001b[48;2;255;255;255mblack\u001b[0m \u001b[48;2;255;255;255m-\u001b[0m \u001b[48;2;255;255;255mthe\u001b[0m \u001b[48;2;255;255;255msmall\u001b[0m \u001b[48;2;255;255;253mhead\u001b[0m \u001b[48;2;255;255;246mis\u001b[0m \u001b[48;2;255;255;230mbrown\u001b[0m \u001b[48;2;255;255;230m.\u001b[0m \u001b[48;2;255;255;233mthe\u001b[0m \u001b[48;2;255;255;195mfine\u001b[0m \u001b[48;2;255;255;189mand\u001b[0m \u001b[48;2;255;255;193minviting\u001b[0m \u001b[48;2;255;255;193msmell\u001b[0m \u001b[48;2;255;255;194mgot\u001b[0m \u001b[48;2;255;255;237mnotes\u001b[0m \u001b[48;2;255;255;255mof\u001b[0m \u001b[48;2;255;255;255mcoffee\u001b[0m \u001b[48;2;255;255;255mand\u001b[0m \u001b[48;2;255;255;255mtoffee\u001b[0m \u001b[48;2;255;255;255mand\u001b[0m \u001b[48;2;255;255;255ma\u001b[0m \u001b[48;2;255;255;255munk\u001b[0m \u001b[48;2;255;255;255mtouch\u001b[0m \u001b[48;2;255;255;255mof\u001b[0m \u001b[48;2;255;255;255mdry\u001b[0m \u001b[48;2;255;255;255munk\u001b[0m \u001b[48;2;255;255;255munk\u001b[0m \u001b[48;2;255;255;255m.\u001b[0m \u001b[48;2;255;255;255mthe\u001b[0m \u001b[48;2;255;255;255mtaste\u001b[0m \u001b[48;2;255;255;207mis\u001b[0m \u001b[48;2;255;255;180munk\u001b[0m \u001b[48;2;255;255;193mweak\u001b[0m \u001b[48;2;255;255;149m(\u001b[0m \u001b[48;2;255;255;112malmost\u001b[0m \u001b[48;2;255;255;97mwatery\u001b[0m \u001b[48;2;255;255;33m)\u001b[0m \u001b[48;2;255;255;0mand\u001b[0m \u001b[48;2;255;255;20munbalanced\u001b[0m \u001b[48;2;255;255;23mwith\u001b[0m \u001b[48;2;255;255;35ma\u001b[0m \u001b[48;2;255;255;121mplain\u001b[0m \u001b[48;2;255;255;141mbitter\u001b[0m \u001b[48;2;255;255;155msomewhat\u001b[0m \u001b[48;2;255;255;183msmoky\u001b[0m \u001b[48;2;255;255;199mflavour\u001b[0m \u001b[48;2;255;255;227mand\u001b[0m \u001b[48;2;255;255;255ma\u001b[0m \u001b[48;2;255;255;255mtouch\u001b[0m \u001b[48;2;255;255;255mof\u001b[0m \u001b[48;2;255;255;255munk\u001b[0m \u001b[48;2;255;255;255munk\u001b[0m \u001b[48;2;255;255;255m.\u001b[0m \u001b[48;2;255;255;234mthe\u001b[0m \u001b[48;2;255;255;204maftertaste\u001b[0m \u001b[48;2;255;255;181mis\u001b[0m \u001b[48;2;255;255;181mbitter\u001b[0m \u001b[48;2;255;255;199mwith\u001b[0m \u001b[48;2;255;255;213mcreamy\u001b[0m \u001b[48;2;255;255;236mnotes\u001b[0m \u001b[48;2;255;255;255m,\u001b[0m \u001b[48;2;255;255;255mlike\u001b[0m \u001b[48;2;255;255;255mdrinking\u001b[0m \u001b[48;2;255;255;255mcold\u001b[0m \u001b[48;2;255;255;255m,\u001b[0m \u001b[48;2;255;255;255munk\u001b[0m \u001b[48;2;255;255;255mcoffee\u001b[0m \u001b[48;2;255;255;255mwith\u001b[0m \u001b[48;2;255;255;255munk\u001b[0m \u001b[48;2;255;255;255munk\u001b[0m \u001b[48;2;255;255;255m.\u001b[0m \u001b[48;2;255;255;255mthe\u001b[0m \u001b[48;2;255;255;255mcarbonation\u001b[0m \u001b[48;2;255;255;255mis\u001b[0m \u001b[48;2;255;255;255mgentle\u001b[0m \u001b[48;2;255;255;227mand\u001b[0m \u001b[48;2;255;255;255mmild\u001b[0m \u001b[48;2;255;255;255m.\u001b[0m \n",
      "----------------------------------------------------------------------------------0\n",
      "\u001b[48;2;255;0;0mdeep\u001b[0m \u001b[48;2;255;109;109mamber\u001b[0m \u001b[48;2;255;215;215mhue\u001b[0m \u001b[48;2;255;205;205m,\u001b[0m \u001b[48;2;255;206;206mthis\u001b[0m \u001b[48;2;255;206;206mbrew\u001b[0m \u001b[48;2;255;212;212mis\u001b[0m \u001b[48;2;255;222;222mtopped\u001b[0m \u001b[48;2;255;234;234mwith\u001b[0m \u001b[48;2;255;241;241ma\u001b[0m \u001b[48;2;255;255;255mfinger\u001b[0m \u001b[48;2;255;255;255mof\u001b[0m \u001b[48;2;255;255;255moff\u001b[0m \u001b[48;2;255;255;255mwhite\u001b[0m \u001b[48;2;255;247;247mhead\u001b[0m \u001b[48;2;255;236;236m.\u001b[0m \u001b[48;2;255;231;231msmell\u001b[0m \u001b[48;2;255;238;238mof\u001b[0m \u001b[48;2;255;249;249mdog\u001b[0m \u001b[48;2;255;255;255munk\u001b[0m \u001b[48;2;255;255;255m,\u001b[0m \u001b[48;2;255;255;255mgreen\u001b[0m \u001b[48;2;255;255;255munk\u001b[0m \u001b[48;2;255;255;255m,\u001b[0m \u001b[48;2;255;255;255mand\u001b[0m \u001b[48;2;255;255;255mslightly\u001b[0m \u001b[48;2;255;255;255mfruity\u001b[0m \u001b[48;2;255;255;255m.\u001b[0m \u001b[48;2;255;255;255mtaste\u001b[0m \u001b[48;2;255;255;255mof\u001b[0m \u001b[48;2;255;255;255mbelgian\u001b[0m \u001b[48;2;255;255;255myeast\u001b[0m \u001b[48;2;255;255;255m,\u001b[0m \u001b[48;2;255;255;255mcoriander\u001b[0m \u001b[48;2;255;255;255m,\u001b[0m \u001b[48;2;255;255;255mhard\u001b[0m \u001b[48;2;255;255;255mwater\u001b[0m \u001b[48;2;255;255;255mand\u001b[0m \u001b[48;2;255;255;255mbready\u001b[0m \u001b[48;2;255;255;255mmalt\u001b[0m \u001b[48;2;255;255;255m.\u001b[0m \u001b[48;2;255;255;255mlight\u001b[0m \u001b[48;2;255;255;255mbody\u001b[0m \u001b[48;2;255;255;255m,\u001b[0m \u001b[48;2;255;253;253mwith\u001b[0m \u001b[48;2;255;251;251mlittle\u001b[0m \u001b[48;2;255;255;255mcarbonation\u001b[0m \u001b[48;2;255;255;255m.\u001b[0m \n",
      "\u001b[48;2;85;255;85mdeep\u001b[0m \u001b[48;2;31;255;31mamber\u001b[0m \u001b[48;2;0;255;0mhue\u001b[0m \u001b[48;2;0;255;0m,\u001b[0m \u001b[48;2;4;255;4mthis\u001b[0m \u001b[48;2;97;255;97mbrew\u001b[0m \u001b[48;2;183;255;183mis\u001b[0m \u001b[48;2;251;255;251mtopped\u001b[0m \u001b[48;2;255;255;255mwith\u001b[0m \u001b[48;2;255;255;255ma\u001b[0m \u001b[48;2;255;255;255mfinger\u001b[0m \u001b[48;2;255;255;255mof\u001b[0m \u001b[48;2;255;255;255moff\u001b[0m \u001b[48;2;255;255;255mwhite\u001b[0m \u001b[48;2;255;255;255mhead\u001b[0m \u001b[48;2;255;255;255m.\u001b[0m \u001b[48;2;199;255;199msmell\u001b[0m \u001b[48;2;101;255;101mof\u001b[0m \u001b[48;2;11;255;11mdog\u001b[0m \u001b[48;2;13;255;13munk\u001b[0m \u001b[48;2;22;255;22m,\u001b[0m \u001b[48;2;80;255;80mgreen\u001b[0m \u001b[48;2;137;255;137munk\u001b[0m \u001b[48;2;213;255;213m,\u001b[0m \u001b[48;2;243;255;243mand\u001b[0m \u001b[48;2;255;255;255mslightly\u001b[0m \u001b[48;2;255;255;255mfruity\u001b[0m \u001b[48;2;255;255;255m.\u001b[0m \u001b[48;2;240;255;240mtaste\u001b[0m \u001b[48;2;211;255;211mof\u001b[0m \u001b[48;2;189;255;189mbelgian\u001b[0m \u001b[48;2;238;255;238myeast\u001b[0m \u001b[48;2;255;255;255m,\u001b[0m \u001b[48;2;255;255;255mcoriander\u001b[0m \u001b[48;2;255;255;255m,\u001b[0m \u001b[48;2;255;255;255mhard\u001b[0m \u001b[48;2;255;255;255mwater\u001b[0m \u001b[48;2;255;255;255mand\u001b[0m \u001b[48;2;255;255;255mbready\u001b[0m \u001b[48;2;255;255;255mmalt\u001b[0m \u001b[48;2;255;255;255m.\u001b[0m \u001b[48;2;255;255;255mlight\u001b[0m \u001b[48;2;255;255;255mbody\u001b[0m \u001b[48;2;255;255;255m,\u001b[0m \u001b[48;2;242;255;242mwith\u001b[0m \u001b[48;2;253;255;253mlittle\u001b[0m \u001b[48;2;255;255;255mcarbonation\u001b[0m \u001b[48;2;255;255;255m.\u001b[0m \n",
      "\u001b[48;2;129;129;255mdeep\u001b[0m \u001b[48;2;151;151;255mamber\u001b[0m \u001b[48;2;166;166;255mhue\u001b[0m \u001b[48;2;115;115;255m,\u001b[0m \u001b[48;2;78;78;255mthis\u001b[0m \u001b[48;2;149;149;255mbrew\u001b[0m \u001b[48;2;211;211;255mis\u001b[0m \u001b[48;2;255;255;255mtopped\u001b[0m \u001b[48;2;255;255;255mwith\u001b[0m \u001b[48;2;255;255;255ma\u001b[0m \u001b[48;2;255;255;255mfinger\u001b[0m \u001b[48;2;255;255;255mof\u001b[0m \u001b[48;2;255;255;255moff\u001b[0m \u001b[48;2;255;255;255mwhite\u001b[0m \u001b[48;2;255;255;255mhead\u001b[0m \u001b[48;2;255;255;255m.\u001b[0m \u001b[48;2;255;255;255msmell\u001b[0m \u001b[48;2;255;255;255mof\u001b[0m \u001b[48;2;255;255;255mdog\u001b[0m \u001b[48;2;200;200;255munk\u001b[0m \u001b[48;2;149;149;255m,\u001b[0m \u001b[48;2;137;137;255mgreen\u001b[0m \u001b[48;2;134;134;255munk\u001b[0m \u001b[48;2;170;170;255m,\u001b[0m \u001b[48;2;219;219;255mand\u001b[0m \u001b[48;2;252;252;255mslightly\u001b[0m \u001b[48;2;255;255;255mfruity\u001b[0m \u001b[48;2;255;255;255m.\u001b[0m \u001b[48;2;255;255;255mtaste\u001b[0m \u001b[48;2;255;255;255mof\u001b[0m \u001b[48;2;246;246;255mbelgian\u001b[0m \u001b[48;2;255;255;255myeast\u001b[0m \u001b[48;2;255;255;255m,\u001b[0m \u001b[48;2;255;255;255mcoriander\u001b[0m \u001b[48;2;255;255;255m,\u001b[0m \u001b[48;2;255;255;255mhard\u001b[0m \u001b[48;2;255;255;255mwater\u001b[0m \u001b[48;2;255;255;255mand\u001b[0m \u001b[48;2;255;255;255mbready\u001b[0m \u001b[48;2;255;255;255mmalt\u001b[0m \u001b[48;2;237;237;255m.\u001b[0m \u001b[48;2;155;155;255mlight\u001b[0m \u001b[48;2;86;86;255mbody\u001b[0m \u001b[48;2;52;52;255m,\u001b[0m \u001b[48;2;0;0;255mwith\u001b[0m \u001b[48;2;0;0;255mlittle\u001b[0m \u001b[48;2;154;154;255mcarbonation\u001b[0m \u001b[48;2;255;255;255m.\u001b[0m \n",
      "\u001b[48;2;255;255;255mdeep\u001b[0m \u001b[48;2;255;255;255mamber\u001b[0m \u001b[48;2;255;255;255mhue\u001b[0m \u001b[48;2;255;255;223m,\u001b[0m \u001b[48;2;255;255;159mthis\u001b[0m \u001b[48;2;255;255;83mbrew\u001b[0m \u001b[48;2;255;255;24mis\u001b[0m \u001b[48;2;255;255;0mtopped\u001b[0m \u001b[48;2;255;255;44mwith\u001b[0m \u001b[48;2;255;255;84ma\u001b[0m \u001b[48;2;255;255;153mfinger\u001b[0m \u001b[48;2;255;255;217mof\u001b[0m \u001b[48;2;255;255;255moff\u001b[0m \u001b[48;2;255;255;255mwhite\u001b[0m \u001b[48;2;255;255;255mhead\u001b[0m \u001b[48;2;255;255;255m.\u001b[0m \u001b[48;2;255;255;255msmell\u001b[0m \u001b[48;2;255;255;255mof\u001b[0m \u001b[48;2;255;255;240mdog\u001b[0m \u001b[48;2;255;255;225munk\u001b[0m \u001b[48;2;255;255;188m,\u001b[0m \u001b[48;2;255;255;182mgreen\u001b[0m \u001b[48;2;255;255;194munk\u001b[0m \u001b[48;2;255;255;228m,\u001b[0m \u001b[48;2;255;255;246mand\u001b[0m \u001b[48;2;255;255;255mslightly\u001b[0m \u001b[48;2;255;255;255mfruity\u001b[0m \u001b[48;2;255;255;255m.\u001b[0m \u001b[48;2;255;255;236mtaste\u001b[0m \u001b[48;2;255;255;233mof\u001b[0m \u001b[48;2;255;255;241mbelgian\u001b[0m \u001b[48;2;255;255;255myeast\u001b[0m \u001b[48;2;255;255;255m,\u001b[0m \u001b[48;2;255;255;255mcoriander\u001b[0m \u001b[48;2;255;255;255m,\u001b[0m \u001b[48;2;255;255;255mhard\u001b[0m \u001b[48;2;255;255;255mwater\u001b[0m \u001b[48;2;255;255;255mand\u001b[0m \u001b[48;2;255;255;255mbready\u001b[0m \u001b[48;2;255;255;255mmalt\u001b[0m \u001b[48;2;255;255;255m.\u001b[0m \u001b[48;2;255;255;255mlight\u001b[0m \u001b[48;2;255;255;229mbody\u001b[0m \u001b[48;2;255;255;211m,\u001b[0m \u001b[48;2;255;255;208mwith\u001b[0m \u001b[48;2;255;255;255mlittle\u001b[0m \u001b[48;2;255;255;255mcarbonation\u001b[0m \u001b[48;2;255;255;255m.\u001b[0m \n",
      "----------------------------------------------------------------------------------1\n"
     ]
    }
   ],
   "source": [
    "from random import random, randint\n",
    "for v in range(2) :\n",
    "    s = randint(0, len(filters_pico['3'])-1)\n",
    "\n",
    "    nz = sum([1 for i in filters_pico['3'][s, :, 0] if i == 0])\n",
    "    gate0 = filters_pico['0'][s, :, 1]\n",
    "    gate1 = filters_pico['1'][s, :, 1]\n",
    "    gate2 = filters_pico['2'][s, :, 1]\n",
    "    gate3 = filters_pico['3'][s, :, 1]\n",
    "\n",
    "    gate0[:nz] = 1.\n",
    "#     gate1[:nz] = 1.\n",
    "#     gate2[:nz] = 1.\n",
    "#     gate3[:nz] = 1.\n",
    "    gate0 = np.convolve(gate0, [1./5 for _ in range(5)], mode='same')\n",
    "    gate1 = np.convolve(gate1, [1./5 for _ in range(5)], mode='same')\n",
    "    gate2 = np.convolve(gate2, [1./5 for _ in range(5)], mode='same')\n",
    "    gate3 = np.convolve(gate3, [1./5 for _ in range(5)], mode='same')\n",
    "\n",
    "    gate0 = gate0 - gate0[nz:].mean(axis=0)\n",
    "    gate1 = gate1 - gate1[nz:].mean(axis=0)\n",
    "    gate2 = gate2 - gate2[nz:].mean(axis=0)\n",
    "    gate3 = gate3 - gate3[nz:].mean(axis=0)\n",
    "    \n",
    "    gate0 = gate0.clip(0, 1)\n",
    "    gate1 = gate1.clip(0, 1)\n",
    "    gate2 = gate2.clip(0, 1)\n",
    "    gate3 = gate3.clip(0, 1)\n",
    "\n",
    "    gate0 = (gate0 - gate0[nz:].min(axis=0))/ (gate0[nz:].max(axis=0) - gate0[nz:].min(axis=0))\n",
    "    gate1 = (gate1 - gate1[nz:].min(axis=0))/ (gate1[nz:].max(axis=0) - gate1[nz:].min(axis=0))\n",
    "    gate2 = (gate2 - gate2[nz:].min(axis=0))/ (gate2[nz:].max(axis=0) - gate2[nz:].min(axis=0))\n",
    "    gate3 = (gate3 - gate3[nz:].min(axis=0))/ (gate3[nz:].max(axis=0) - gate3[nz:].min(axis=0))\n",
    "\n",
    "\n",
    "\n",
    "    X_words = [vec.idx2word[int(i)] for i in filters_pico['3'][s, :, 0]]\n",
    "\n",
    "    for i, j in zip(X_words, gate0):\n",
    "        if i != '[0]':\n",
    "            print color(i, bg=[int(255),int((1-j)*255), int((1-j)*255)]),\n",
    "\n",
    "    print \"\"\n",
    "    for i, j in zip(X_words, gate1) :\n",
    "        if i != '[0]':\n",
    "            print color(i, bg=[int((1-j)*255), int(255), int((1-j)*255)]),\n",
    "\n",
    "    print \"\"\n",
    "\n",
    "    for i, j in zip(X_words, gate2) :\n",
    "        if i != '[0]':\n",
    "            print color(i, bg=[int((1-j)*255), int((1-j)*255), int(255)]),\n",
    "\n",
    "    print \"\"\n",
    "    for i, j in zip(X_words, gate3) :\n",
    "        if i != '[0]':\n",
    "            print color(i, bg=[int(255), int(255), int((1-j)*255)]),\n",
    "            \n",
    "    print \"\"\n",
    "    print \"----------------------------------------------------------------------------------\"+str(v)"
   ]
  },
  {
   "cell_type": "code",
   "execution_count": 30,
   "metadata": {},
   "outputs": [],
   "source": [
    "activated_words = {}\n",
    "for aspect in aspects :\n",
    "    filters = filters_pico[aspect]\n",
    "    word_activations = np.zeros((vec.vocab_size, 1))\n",
    "    word2filter = filters.reshape(-1, filters.shape[-1])\n",
    "    for word in word2filter :\n",
    "        word_activations[int(word[0]), 0] = word[1]\n",
    "    activated_words[aspect] = word_activations\n",
    "    \n",
    "joint = np.concatenate([activated_words[aspect] for aspect in aspects], axis=1)\n",
    "joint = joint[2:, :]"
   ]
  },
  {
   "cell_type": "code",
   "execution_count": 31,
   "metadata": {},
   "outputs": [
    {
     "name": "stdout",
     "output_type": "stream",
     "text": [
      "['beans', 'bomb', 'christmas', 'complexity', 'disappointment', 'fingers', 'folks', 'good', 'holy', 'including', 'lemons', 'looked', 'metallic', 'mildly', 'nor', 'presentation', 'size', 'steady', 'time', 'waste']\n",
      "['brownish', 'complete', 'drain', 'edge', 'everything', 'gone', 'interesting', 'into', 'lacing', 'malty', 'mexican', 'o', 'pine', 'play', 'qqq', 'representation', 'skunk', 'slowly', 'terms', 'want']\n",
      "['amount', 'black', 'bomber', 'cut', 'd-', 'degrees', 'deserves', 'drink', 'english', 'excited', 'healthy', 'hops', 'mass', 'needs', 'nutty', 'previous', 'qqq', 'retains', 'thirst', 'worst']\n",
      "['available', 'away', 'burnt', 'cheers', 'd-', 'down', 'english', 'enjoyable', 'entirely', 'except', 'falls', 'flavor', 'great', 'imo', 'medium-bodied', 'pleasantly', 'porters', 'qqq', 'residual', 'warmth']\n"
     ]
    },
    {
     "data": {
      "text/html": [
       "<div>\n",
       "<style>\n",
       "    .dataframe thead tr:only-child th {\n",
       "        text-align: right;\n",
       "    }\n",
       "\n",
       "    .dataframe thead th {\n",
       "        text-align: left;\n",
       "    }\n",
       "\n",
       "    .dataframe tbody tr th {\n",
       "        vertical-align: top;\n",
       "    }\n",
       "</style>\n",
       "<table border=\"1\" class=\"dataframe\">\n",
       "  <thead>\n",
       "    <tr style=\"text-align: right;\">\n",
       "      <th></th>\n",
       "      <th>0</th>\n",
       "      <th>1</th>\n",
       "      <th>2</th>\n",
       "      <th>3</th>\n",
       "    </tr>\n",
       "  </thead>\n",
       "  <tbody>\n",
       "    <tr>\n",
       "      <th>0</th>\n",
       "      <td>beans</td>\n",
       "      <td>brownish</td>\n",
       "      <td>amount</td>\n",
       "      <td>available</td>\n",
       "    </tr>\n",
       "    <tr>\n",
       "      <th>1</th>\n",
       "      <td>bomb</td>\n",
       "      <td>complete</td>\n",
       "      <td>black</td>\n",
       "      <td>away</td>\n",
       "    </tr>\n",
       "    <tr>\n",
       "      <th>2</th>\n",
       "      <td>christmas</td>\n",
       "      <td>drain</td>\n",
       "      <td>bomber</td>\n",
       "      <td>burnt</td>\n",
       "    </tr>\n",
       "    <tr>\n",
       "      <th>3</th>\n",
       "      <td>complexity</td>\n",
       "      <td>edge</td>\n",
       "      <td>cut</td>\n",
       "      <td>cheers</td>\n",
       "    </tr>\n",
       "    <tr>\n",
       "      <th>4</th>\n",
       "      <td>disappointment</td>\n",
       "      <td>everything</td>\n",
       "      <td>d-</td>\n",
       "      <td>d-</td>\n",
       "    </tr>\n",
       "    <tr>\n",
       "      <th>5</th>\n",
       "      <td>fingers</td>\n",
       "      <td>gone</td>\n",
       "      <td>degrees</td>\n",
       "      <td>down</td>\n",
       "    </tr>\n",
       "    <tr>\n",
       "      <th>6</th>\n",
       "      <td>folks</td>\n",
       "      <td>interesting</td>\n",
       "      <td>deserves</td>\n",
       "      <td>english</td>\n",
       "    </tr>\n",
       "    <tr>\n",
       "      <th>7</th>\n",
       "      <td>good</td>\n",
       "      <td>into</td>\n",
       "      <td>drink</td>\n",
       "      <td>enjoyable</td>\n",
       "    </tr>\n",
       "    <tr>\n",
       "      <th>8</th>\n",
       "      <td>holy</td>\n",
       "      <td>lacing</td>\n",
       "      <td>english</td>\n",
       "      <td>entirely</td>\n",
       "    </tr>\n",
       "    <tr>\n",
       "      <th>9</th>\n",
       "      <td>including</td>\n",
       "      <td>malty</td>\n",
       "      <td>excited</td>\n",
       "      <td>except</td>\n",
       "    </tr>\n",
       "    <tr>\n",
       "      <th>10</th>\n",
       "      <td>lemons</td>\n",
       "      <td>mexican</td>\n",
       "      <td>healthy</td>\n",
       "      <td>falls</td>\n",
       "    </tr>\n",
       "    <tr>\n",
       "      <th>11</th>\n",
       "      <td>looked</td>\n",
       "      <td>o</td>\n",
       "      <td>hops</td>\n",
       "      <td>flavor</td>\n",
       "    </tr>\n",
       "    <tr>\n",
       "      <th>12</th>\n",
       "      <td>metallic</td>\n",
       "      <td>pine</td>\n",
       "      <td>mass</td>\n",
       "      <td>great</td>\n",
       "    </tr>\n",
       "    <tr>\n",
       "      <th>13</th>\n",
       "      <td>mildly</td>\n",
       "      <td>play</td>\n",
       "      <td>needs</td>\n",
       "      <td>imo</td>\n",
       "    </tr>\n",
       "    <tr>\n",
       "      <th>14</th>\n",
       "      <td>nor</td>\n",
       "      <td>qqq</td>\n",
       "      <td>nutty</td>\n",
       "      <td>medium-bodied</td>\n",
       "    </tr>\n",
       "    <tr>\n",
       "      <th>15</th>\n",
       "      <td>presentation</td>\n",
       "      <td>representation</td>\n",
       "      <td>previous</td>\n",
       "      <td>pleasantly</td>\n",
       "    </tr>\n",
       "    <tr>\n",
       "      <th>16</th>\n",
       "      <td>size</td>\n",
       "      <td>skunk</td>\n",
       "      <td>qqq</td>\n",
       "      <td>porters</td>\n",
       "    </tr>\n",
       "    <tr>\n",
       "      <th>17</th>\n",
       "      <td>steady</td>\n",
       "      <td>slowly</td>\n",
       "      <td>retains</td>\n",
       "      <td>qqq</td>\n",
       "    </tr>\n",
       "    <tr>\n",
       "      <th>18</th>\n",
       "      <td>time</td>\n",
       "      <td>terms</td>\n",
       "      <td>thirst</td>\n",
       "      <td>residual</td>\n",
       "    </tr>\n",
       "    <tr>\n",
       "      <th>19</th>\n",
       "      <td>waste</td>\n",
       "      <td>want</td>\n",
       "      <td>worst</td>\n",
       "      <td>warmth</td>\n",
       "    </tr>\n",
       "  </tbody>\n",
       "</table>\n",
       "</div>"
      ],
      "text/plain": [
       "                 0               1         2              3\n",
       "0            beans        brownish    amount      available\n",
       "1             bomb        complete     black           away\n",
       "2        christmas           drain    bomber          burnt\n",
       "3       complexity            edge       cut         cheers\n",
       "4   disappointment      everything        d-             d-\n",
       "5          fingers            gone   degrees           down\n",
       "6            folks     interesting  deserves        english\n",
       "7             good            into     drink      enjoyable\n",
       "8             holy          lacing   english       entirely\n",
       "9        including           malty   excited         except\n",
       "10          lemons         mexican   healthy          falls\n",
       "11          looked               o      hops         flavor\n",
       "12        metallic            pine      mass          great\n",
       "13          mildly            play     needs            imo\n",
       "14             nor             qqq     nutty  medium-bodied\n",
       "15    presentation  representation  previous     pleasantly\n",
       "16            size           skunk       qqq        porters\n",
       "17          steady          slowly   retains            qqq\n",
       "18            time           terms    thirst       residual\n",
       "19           waste            want     worst         warmth"
      ]
     },
     "execution_count": 31,
     "metadata": {},
     "output_type": "execute_result"
    }
   ],
   "source": [
    "top_words_df = pd.DataFrame()\n",
    "top_words_size = 20\n",
    "for aspect in aspects :\n",
    "    popwords = joint[:, int(aspect)]\n",
    "    sorted_idx = np.argsort(popwords)\n",
    "    top_words = sorted_idx[-top_words_size:]\n",
    "    print [str(v) for k, v in vec.idx2word.items() if k in top_words]\n",
    "    top_words = pd.Series([v for k, v in vec.idx2word.items() if k in top_words])\n",
    "    \n",
    "    top_words_df[aspect] = top_words\n",
    "top_words_df"
   ]
  },
  {
   "cell_type": "code",
   "execution_count": 21,
   "metadata": {
    "collapsed": true
   },
   "outputs": [],
   "source": [
    "import spacy\n",
    "nlp = spacy.load('en', disable=['parser', 'tagger', 'ner'])"
   ]
  },
  {
   "cell_type": "code",
   "execution_count": 22,
   "metadata": {
    "collapsed": true
   },
   "outputs": [],
   "source": [
    "s=\"Deep amber hue ,this brew is topped with a finger of off white head.\\\n",
    "Smell of dog hair, green olives, and slightly fruity.\\\n",
    "Taste of Belgian yeast, coriander, hard water and bready malt.\\\n",
    "Light body, with little carbonation.\""
   ]
  },
  {
   "cell_type": "code",
   "execution_count": 23,
   "metadata": {},
   "outputs": [
    {
     "name": "stdout",
     "output_type": "stream",
     "text": [
      "[u'deep', u'amber', u'hue', u',', u'this', u'brew', u'is', u'topped', u'with', u'a', u'finger', u'of', u'off', u'white', u'head', u'.', u'smell', u'of', u'dog', 1, u',', u'green', 1, u',', u'and', u'slightly', u'fruity', u'.', u'taste', u'of', u'belgian', u'yeast', u',', u'coriander', u',', u'hard', u'water', u'and', u'bready', u'malt', u'.', u'light', u'body', u',', u'with', u'little', u'carbonation', u'.']\n"
     ]
    }
   ],
   "source": [
    "t1 = [vec.word2idx[x.text.lower()] if x.text.lower() in vec.word2idx else 1 for x in nlp(unicode(s))]# if x in vec.word2idx]\n",
    "t2 = [0]*(305-len(t1)) + t1\n",
    "X = np.vstack((X[:-1], t2))\n",
    "print [x.text.lower() if x.text.lower() in vec.word2idx else 1 for x in nlp(unicode(s))]"
   ]
  },
  {
   "cell_type": "code",
   "execution_count": null,
   "metadata": {
    "collapsed": true
   },
   "outputs": [],
   "source": []
  }
 ],
 "metadata": {
  "kernelspec": {
   "display_name": "Python 2",
   "language": "python",
   "name": "python2"
  },
  "language_info": {
   "codemirror_mode": {
    "name": "ipython",
    "version": 2
   },
   "file_extension": ".py",
   "mimetype": "text/x-python",
   "name": "python",
   "nbconvert_exporter": "python",
   "pygments_lexer": "ipython2",
   "version": "2.7.14"
  }
 },
 "nbformat": 4,
 "nbformat_minor": 2
}
