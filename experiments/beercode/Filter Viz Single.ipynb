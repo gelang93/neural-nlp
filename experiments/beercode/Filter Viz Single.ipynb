{
 "cells": [
  {
   "cell_type": "code",
   "execution_count": 1,
   "metadata": {},
   "outputs": [
    {
     "name": "stderr",
     "output_type": "stream",
     "text": [
      "Using TensorFlow backend.\n"
     ]
    }
   ],
   "source": [
    "from keras.models  import load_model\n",
    "import keras.backend as K\n",
    "from sklearn.preprocessing import normalize\n",
    "import cPickle\n",
    "import sys\n",
    "sys.path.insert(0, '../../preprocess')\n",
    "import vectorizer\n",
    "from colors import color\n",
    "import pandas as pd\n",
    "import numpy as np\n",
    "\n",
    "aspects = [str(i) for i in range(2)] #app, aroma, palate,taste"
   ]
  },
  {
   "cell_type": "code",
   "execution_count": 3,
   "metadata": {
    "collapsed": true
   },
   "outputs": [],
   "source": [
    "vec = cPickle.load(open('../../beer_data/beer_vec_ds_2000.p', 'rb'))"
   ]
  },
  {
   "cell_type": "code",
   "execution_count": 4,
   "metadata": {
    "collapsed": true
   },
   "outputs": [],
   "source": [
    "X = vec.X"
   ]
  },
  {
   "cell_type": "code",
   "execution_count": 2,
   "metadata": {
    "collapsed": true
   },
   "outputs": [],
   "source": [
    "model = load_model('../store/weights/beer/ThuNov1614:08:102017/loss.h5', \n",
    "                   custom_objects={'contrastive_loss' : lambda a,b:b})"
   ]
  },
  {
   "cell_type": "code",
   "execution_count": 5,
   "metadata": {},
   "outputs": [
    {
     "name": "stdout",
     "output_type": "stream",
     "text": [
      "____________________________________________________________________________________________________\n",
      "Layer (type)                     Output Shape          Param #     Connected to                     \n",
      "====================================================================================================\n",
      "input_1 (InputLayer)             (None, 305)           0                                            \n",
      "____________________________________________________________________________________________________\n",
      "embedding (Embedding)            (None, 305, 300)      600600      input_1[0][0]                    \n",
      "____________________________________________________________________________________________________\n",
      "conv1d_4 (Conv1D)                (None, 305, 256)      230656      embedding[0][0]                  \n",
      "____________________________________________________________________________________________________\n",
      "conv1d_5 (Conv1D)                (None, 305, 256)      230656      embedding[0][0]                  \n",
      "____________________________________________________________________________________________________\n",
      "multiply_3 (Multiply)            (None, 305, 256)      0           conv1d_4[0][0]                   \n",
      "                                                                   conv1d_5[0][0]                   \n",
      "____________________________________________________________________________________________________\n",
      "lambda_1 (Lambda)                (None, 256)           0           multiply_3[0][0]                 \n",
      "====================================================================================================\n",
      "Total params: 1,061,912\n",
      "Trainable params: 1,061,912\n",
      "Non-trainable params: 0\n",
      "____________________________________________________________________________________________________\n"
     ]
    }
   ],
   "source": [
    "model.get_layer('pred_0').get_layer('pool_0').summary()"
   ]
  },
  {
   "cell_type": "code",
   "execution_count": 6,
   "metadata": {
    "collapsed": true
   },
   "outputs": [],
   "source": [
    "model_c1 = {}\n",
    "for aspect in aspects :\n",
    "    model_c1[aspect] = K.function(model.get_layer('pred_'+aspect).get_layer('pool_'+aspect).inputs, \n",
    "                          [model.get_layer('pred_'+aspect).get_layer('pool_'+aspect).layers[3].output])"
   ]
  },
  {
   "cell_type": "code",
   "execution_count": 7,
   "metadata": {
    "collapsed": true
   },
   "outputs": [],
   "source": [
    "filters_pico = {}\n",
    "sample_length = 1000\n",
    "sample = np.random.choice(X.shape[0], sample_length, replace=False)\n",
    "i, batch_size = 0, 64\n",
    "for aspect in aspects :\n",
    "    filters_pico[aspect] = model_c1[aspect]([X[sample]])[0]\n",
    "    \n",
    "# i, bs = 0, 64\n",
    "# vecs = {k:[] for k in aspects}\n",
    "# while i*bs < len(X):\n",
    "#     for aspect in aspects :\n",
    "#         samples = X[i*bs:(i+1)*bs]\n",
    "#         result = model_c1[aspect]([samples])[0]\n",
    "#         vecs[aspect].append(result)\n",
    "#     i += 1\n",
    "#     print i\n",
    "    \n",
    "# for aspect in aspects :\n",
    "#     result = np.concatenate(vecs[aspect], axis=0)\n",
    "#     filters_pico[aspect] = result"
   ]
  },
  {
   "cell_type": "code",
   "execution_count": 8,
   "metadata": {},
   "outputs": [
    {
     "name": "stdout",
     "output_type": "stream",
     "text": [
      "0 323.524\n",
      "1 777.077\n"
     ]
    }
   ],
   "source": [
    "nb_act = {k:(v > 0).sum()/float(len(X[sample])) for k,v in filters_pico.items()}\n",
    "for key in sorted(nb_act.keys()) :\n",
    "    print key,nb_act[key]"
   ]
  },
  {
   "cell_type": "code",
   "execution_count": 12,
   "metadata": {},
   "outputs": [
    {
     "ename": "ValueError",
     "evalue": "all the input array dimensions except for the concatenation axis must match exactly",
     "output_type": "error",
     "traceback": [
      "\u001b[0;31m---------------------------------------------------------------------------\u001b[0m",
      "\u001b[0;31mValueError\u001b[0m                                Traceback (most recent call last)",
      "\u001b[0;32m<ipython-input-12-88da5a4d42ca>\u001b[0m in \u001b[0;36m<module>\u001b[0;34m()\u001b[0m\n\u001b[1;32m      5\u001b[0m     \u001b[0;32mfor\u001b[0m \u001b[0mi\u001b[0m \u001b[0;32min\u001b[0m \u001b[0mrange\u001b[0m\u001b[0;34m(\u001b[0m\u001b[0mfilters\u001b[0m\u001b[0;34m.\u001b[0m\u001b[0mshape\u001b[0m\u001b[0;34m[\u001b[0m\u001b[0;36m2\u001b[0m\u001b[0;34m]\u001b[0m\u001b[0;34m)\u001b[0m \u001b[0;34m:\u001b[0m\u001b[0;34m\u001b[0m\u001b[0m\n\u001b[1;32m      6\u001b[0m         \u001b[0mfilter_i\u001b[0m \u001b[0;34m=\u001b[0m \u001b[0mfilters\u001b[0m\u001b[0;34m[\u001b[0m\u001b[0;34m:\u001b[0m\u001b[0;34m,\u001b[0m\u001b[0;34m:\u001b[0m\u001b[0;34m,\u001b[0m\u001b[0mi\u001b[0m\u001b[0;34m]\u001b[0m\u001b[0;34m\u001b[0m\u001b[0m\n\u001b[0;32m----> 7\u001b[0;31m         \u001b[0mword2filter\u001b[0m \u001b[0;34m=\u001b[0m \u001b[0mnp\u001b[0m\u001b[0;34m.\u001b[0m\u001b[0mdstack\u001b[0m\u001b[0;34m(\u001b[0m\u001b[0;34m(\u001b[0m\u001b[0mX\u001b[0m\u001b[0;34m[\u001b[0m\u001b[0msample\u001b[0m\u001b[0;34m]\u001b[0m\u001b[0;34m,\u001b[0m \u001b[0mfilter_i\u001b[0m\u001b[0;34m)\u001b[0m\u001b[0;34m)\u001b[0m\u001b[0;34m\u001b[0m\u001b[0m\n\u001b[0m\u001b[1;32m      8\u001b[0m         \u001b[0mfilter_w2f\u001b[0m \u001b[0;34m=\u001b[0m \u001b[0mword2filter\u001b[0m\u001b[0;34m[\u001b[0m\u001b[0mword2filter\u001b[0m\u001b[0;34m[\u001b[0m\u001b[0;34m:\u001b[0m\u001b[0;34m,\u001b[0m\u001b[0;34m:\u001b[0m\u001b[0;34m,\u001b[0m\u001b[0;36m1\u001b[0m\u001b[0;34m]\u001b[0m \u001b[0;34m>\u001b[0m \u001b[0;36m0.0\u001b[0m\u001b[0;34m]\u001b[0m\u001b[0;34m\u001b[0m\u001b[0m\n\u001b[1;32m      9\u001b[0m         \u001b[0;32mfor\u001b[0m \u001b[0mword\u001b[0m \u001b[0;32min\u001b[0m \u001b[0mfilter_w2f\u001b[0m \u001b[0;34m:\u001b[0m\u001b[0;34m\u001b[0m\u001b[0m\n",
      "\u001b[0;32m/home/sarthak/anaconda2/lib/python2.7/site-packages/numpy/lib/shape_base.pyc\u001b[0m in \u001b[0;36mdstack\u001b[0;34m(tup)\u001b[0m\n\u001b[1;32m    407\u001b[0m \u001b[0;34m\u001b[0m\u001b[0m\n\u001b[1;32m    408\u001b[0m     \"\"\"\n\u001b[0;32m--> 409\u001b[0;31m     \u001b[0;32mreturn\u001b[0m \u001b[0m_nx\u001b[0m\u001b[0;34m.\u001b[0m\u001b[0mconcatenate\u001b[0m\u001b[0;34m(\u001b[0m\u001b[0;34m[\u001b[0m\u001b[0matleast_3d\u001b[0m\u001b[0;34m(\u001b[0m\u001b[0m_m\u001b[0m\u001b[0;34m)\u001b[0m \u001b[0;32mfor\u001b[0m \u001b[0m_m\u001b[0m \u001b[0;32min\u001b[0m \u001b[0mtup\u001b[0m\u001b[0;34m]\u001b[0m\u001b[0;34m,\u001b[0m \u001b[0;36m2\u001b[0m\u001b[0;34m)\u001b[0m\u001b[0;34m\u001b[0m\u001b[0m\n\u001b[0m\u001b[1;32m    410\u001b[0m \u001b[0;34m\u001b[0m\u001b[0m\n\u001b[1;32m    411\u001b[0m \u001b[0;32mdef\u001b[0m \u001b[0m_replace_zero_by_x_arrays\u001b[0m\u001b[0;34m(\u001b[0m\u001b[0msub_arys\u001b[0m\u001b[0;34m)\u001b[0m\u001b[0;34m:\u001b[0m\u001b[0;34m\u001b[0m\u001b[0m\n",
      "\u001b[0;31mValueError\u001b[0m: all the input array dimensions except for the concatenation axis must match exactly"
     ]
    }
   ],
   "source": [
    "activated_words = {}\n",
    "for aspect in aspects :\n",
    "    filters = filters_pico[aspect]\n",
    "    word_activations = np.zeros((vec.vocab_size, filters.shape[2]))\n",
    "    for i in range(filters.shape[2]) :\n",
    "        filter_i = filters[:,:,i]\n",
    "        word2filter = np.dstack((X[sample], filter_i))\n",
    "        filter_w2f = word2filter[word2filter[:,:,1] > 0.0]\n",
    "        for word in filter_w2f :\n",
    "            word_activations[int(word[0]), i] = word[1]\n",
    "    activated_words[aspect] = word_activations"
   ]
  },
  {
   "cell_type": "code",
   "execution_count": null,
   "metadata": {
    "collapsed": true
   },
   "outputs": [],
   "source": [
    "top_words_df = pd.DataFrame()\n",
    "top_words_size = 40\n",
    "for aspect in aspects :\n",
    "    popwords = activated_words[aspect].sum(axis=1)\n",
    "    sorted_idx = np.argsort(popwords)\n",
    "    top_words = sorted_idx[-top_words_size:]\n",
    "    top_words = pd.Series([v for k, v in vec.idx2word.items() if k in top_words])\n",
    "    top_words_df[aspect] = top_words\n",
    "top_words_df"
   ]
  },
  {
   "cell_type": "code",
   "execution_count": null,
   "metadata": {
    "collapsed": true
   },
   "outputs": [],
   "source": [
    "summed = {}\n",
    "for aspect in aspects :\n",
    "    summed[aspect] = filters_pico[aspect].sum(axis=-1)"
   ]
  },
  {
   "cell_type": "code",
   "execution_count": 9,
   "metadata": {
    "collapsed": true
   },
   "outputs": [],
   "source": [
    "X_words = map(lambda s : [vec.idx2word[w] for w in s], X[sample])"
   ]
  },
  {
   "cell_type": "code",
   "execution_count": null,
   "metadata": {
    "collapsed": true
   },
   "outputs": [],
   "source": [
    "zipped = zip(X_words, summed['0'], summed['1'], summed['2'], summed['3'])\n",
    "total_vals = []\n",
    "for x,a0,a1,a2,a3 in zipped :\n",
    "    total_vals.append(zip(x,a0,a1,a2,a3))\n",
    "    \n",
    "for abst in total_vals :\n",
    "    for sent in abst :\n",
    "         if sent[0] != '[0]' :\n",
    "            if sent[1] > 0 and sent[2] > 0 and sent[3] > 0:\n",
    "                print \"\\033[1;33;48m \"+sent[0],\n",
    "            elif sent[1] > 0 :\n",
    "                print \"\\033[1;31;48m \"+sent[0], #r app\n",
    "            elif sent[2] > 0 :\n",
    "                print \"\\033[1;32;48m \"+sent[0], #g aro\n",
    "            elif sent[3] > 0 :\n",
    "                print \"\\033[1;34;48m \"+sent[0], #b pal\n",
    "            elif sent[4] > 0 :\n",
    "                print \"\\033[1;36;48m \"+sent[0], #c taste\n",
    "            else :\n",
    "                print \"\\033[0;30;48m \"+sent[0],\n",
    "        \n",
    "    print ''"
   ]
  },
  {
   "cell_type": "code",
   "execution_count": null,
   "metadata": {
    "collapsed": true
   },
   "outputs": [],
   "source": [
    "get_ipython().system('cp \"Filter Viz Single.ipynb\" '+results_folder)"
   ]
  },
  {
   "cell_type": "code",
   "execution_count": 16,
   "metadata": {},
   "outputs": [
    {
     "data": {
      "text/plain": [
       "[(0.0, 0.0, '[0]'),\n",
       " (0.0, 0.0, '[0]'),\n",
       " (0.0, 0.0, '[0]'),\n",
       " (0.0, 0.0, '[0]'),\n",
       " (0.0, 0.0, '[0]'),\n",
       " (0.0, 0.0, '[0]'),\n",
       " (0.0, 0.0, '[0]'),\n",
       " (0.0, 0.0, '[0]'),\n",
       " (0.0, 0.0, '[0]'),\n",
       " (0.0, 0.0, '[0]'),\n",
       " (0.0, 0.0, '[0]'),\n",
       " (0.0, 0.0, '[0]'),\n",
       " (0.0, 0.0, '[0]'),\n",
       " (0.0, 0.0, '[0]'),\n",
       " (0.0, 0.0, '[0]'),\n",
       " (0.0, 0.0, '[0]'),\n",
       " (0.0, 0.0, '[0]'),\n",
       " (0.0, 0.0, '[0]'),\n",
       " (0.0, 0.0, '[0]'),\n",
       " (0.0, 0.0, '[0]'),\n",
       " (0.0, 0.0, '[0]'),\n",
       " (0.0, 0.0, '[0]'),\n",
       " (0.0, 0.0, '[0]'),\n",
       " (0.0, 0.0, '[0]'),\n",
       " (0.0, 0.0, '[0]'),\n",
       " (0.0, 0.0, '[0]'),\n",
       " (0.0, 0.0, '[0]'),\n",
       " (0.0, 0.0, '[0]'),\n",
       " (0.0, 0.0, '[0]'),\n",
       " (0.0, 0.0, '[0]'),\n",
       " (0.0, 0.0, '[0]'),\n",
       " (0.0, 0.0, '[0]'),\n",
       " (0.0, 0.0, '[0]'),\n",
       " (0.0, 0.0, '[0]'),\n",
       " (0.0, 0.0, '[0]'),\n",
       " (0.0, 0.0, '[0]'),\n",
       " (0.0, 0.0, '[0]'),\n",
       " (0.0, 0.0, '[0]'),\n",
       " (0.0, 0.0, '[0]'),\n",
       " (0.0, 0.0, '[0]'),\n",
       " (0.0, 0.0, '[0]'),\n",
       " (0.0, 0.0, '[0]'),\n",
       " (0.0, 0.0, '[0]'),\n",
       " (0.0, 0.0, '[0]'),\n",
       " (0.0, 0.0, '[0]'),\n",
       " (0.0, 0.0, '[0]'),\n",
       " (0.0, 0.0, '[0]'),\n",
       " (0.0, 0.0, '[0]'),\n",
       " (0.0, 0.0, '[0]'),\n",
       " (0.0, 0.0, '[0]'),\n",
       " (0.0, 0.0, '[0]'),\n",
       " (0.0, 0.0, '[0]'),\n",
       " (0.0, 0.0, '[0]'),\n",
       " (0.0, 0.0, '[0]'),\n",
       " (0.0, 0.0, '[0]'),\n",
       " (0.0, 0.0, '[0]'),\n",
       " (0.0, 0.0, '[0]'),\n",
       " (0.0, 0.0, '[0]'),\n",
       " (0.0, 0.0, '[0]'),\n",
       " (0.0, 0.0, '[0]'),\n",
       " (0.0, 0.0, '[0]'),\n",
       " (0.0, 0.0, '[0]'),\n",
       " (0.0, 0.0, '[0]'),\n",
       " (0.0, 0.0, '[0]'),\n",
       " (0.0, 0.0, '[0]'),\n",
       " (0.0, 0.0, '[0]'),\n",
       " (0.0, 0.0, '[0]'),\n",
       " (0.0, 0.0, '[0]'),\n",
       " (0.0, 0.0, '[0]'),\n",
       " (0.0, 0.0, '[0]'),\n",
       " (0.0, 0.0, '[0]'),\n",
       " (0.0, 0.0, '[0]'),\n",
       " (0.0, 0.0, '[0]'),\n",
       " (0.0, 0.0, '[0]'),\n",
       " (0.0, 0.0, '[0]'),\n",
       " (0.0, 0.0, '[0]'),\n",
       " (0.0, 0.0, '[0]'),\n",
       " (0.0, 0.0, '[0]'),\n",
       " (0.0, 0.0, '[0]'),\n",
       " (0.0, 0.0, '[0]'),\n",
       " (0.0, 0.0, '[0]'),\n",
       " (0.0, 0.0, '[0]'),\n",
       " (0.0, 0.0, '[0]'),\n",
       " (0.0, 0.0, '[0]'),\n",
       " (0.0, 0.0, '[0]'),\n",
       " (0.0, 0.0, '[0]'),\n",
       " (0.0, 0.0, '[0]'),\n",
       " (0.0, 0.0, '[0]'),\n",
       " (0.0, 0.0, '[0]'),\n",
       " (0.0, 0.0, '[0]'),\n",
       " (0.0, 0.0, '[0]'),\n",
       " (0.0, 0.0, '[0]'),\n",
       " (0.0, 0.0, '[0]'),\n",
       " (0.0, 0.0, '[0]'),\n",
       " (0.0, 0.0, '[0]'),\n",
       " (0.0, 0.0, '[0]'),\n",
       " (0.0, 0.0, '[0]'),\n",
       " (0.0, 0.0, '[0]'),\n",
       " (0.0, 0.0, '[0]'),\n",
       " (0.0, 0.0, '[0]'),\n",
       " (0.0, 0.0, '[0]'),\n",
       " (0.0, 0.0, '[0]'),\n",
       " (0.0, 0.0, '[0]'),\n",
       " (0.0, 0.0, '[0]'),\n",
       " (0.0, 0.0, '[0]'),\n",
       " (0.0, 0.0, '[0]'),\n",
       " (0.0, 0.0, '[0]'),\n",
       " (0.0, 0.0, '[0]'),\n",
       " (0.0, 0.0, '[0]'),\n",
       " (0.0, 0.0, '[0]'),\n",
       " (0.0, 0.0, '[0]'),\n",
       " (0.0, 0.0, '[0]'),\n",
       " (0.0, 0.0, '[0]'),\n",
       " (0.0, 0.0, '[0]'),\n",
       " (0.0, 0.0, '[0]'),\n",
       " (0.0, 0.0, '[0]'),\n",
       " (0.0, 0.0, '[0]'),\n",
       " (0.0, 0.0, '[0]'),\n",
       " (0.0, 0.0, '[0]'),\n",
       " (0.0, 0.0, '[0]'),\n",
       " (0.0, 0.0, '[0]'),\n",
       " (0.0, 0.0, '[0]'),\n",
       " (0.0, 0.0, '[0]'),\n",
       " (0.0, 0.0, '[0]'),\n",
       " (0.0, 0.0, '[0]'),\n",
       " (0.0, 0.0, '[0]'),\n",
       " (0.0, 0.0, '[0]'),\n",
       " (0.0, 0.0, '[0]'),\n",
       " (0.0, 0.0, '[0]'),\n",
       " (0.0, 0.0, '[0]'),\n",
       " (0.0, 0.0, '[0]'),\n",
       " (0.0, 0.0, '[0]'),\n",
       " (0.0, 0.0, '[0]'),\n",
       " (0.0, 0.0, '[0]'),\n",
       " (0.0, 0.0, '[0]'),\n",
       " (0.0, 0.0, '[0]'),\n",
       " (0.0, 0.0, '[0]'),\n",
       " (0.0, 0.0, '[0]'),\n",
       " (0.0, 0.0, '[0]'),\n",
       " (0.0, 0.0, '[0]'),\n",
       " (0.0, 0.0, '[0]'),\n",
       " (0.0, 0.0, '[0]'),\n",
       " (0.0, 0.0, '[0]'),\n",
       " (0.0, 0.0, '[0]'),\n",
       " (0.0, 0.0, '[0]'),\n",
       " (0.0, 0.0, '[0]'),\n",
       " (0.0, 0.0, '[0]'),\n",
       " (0.0, 0.0, '[0]'),\n",
       " (0.0, 0.0, '[0]'),\n",
       " (0.0, 0.0, '[0]'),\n",
       " (0.0, 0.0, '[0]'),\n",
       " (0.0, 0.0, '[0]'),\n",
       " (0.0, 0.0, '[0]'),\n",
       " (0.0, 0.0, '[0]'),\n",
       " (0.0, 0.0, '[0]'),\n",
       " (0.0, 0.0, '[0]'),\n",
       " (0.0, 0.0, '[0]'),\n",
       " (0.0, 0.0, '[0]'),\n",
       " (0.0, 0.0, '[0]'),\n",
       " (0.0, 0.0, '[0]'),\n",
       " (0.0, 0.0, '[0]'),\n",
       " (0.0, 0.0, '[0]'),\n",
       " (0.0, 0.0, '[0]'),\n",
       " (0.0, 0.0, '[0]'),\n",
       " (0.0, 0.0, '[0]'),\n",
       " (0.0, 0.0, '[0]'),\n",
       " (0.0, 0.0, '[0]'),\n",
       " (0.0, 0.0, '[0]'),\n",
       " (0.0, 0.0, '[0]'),\n",
       " (0.0, 0.0, '[0]'),\n",
       " (0.0, 0.0, '[0]'),\n",
       " (0.0, 0.0, '[0]'),\n",
       " (0.0, 0.0, '[0]'),\n",
       " (0.0, 0.0, '[0]'),\n",
       " (0.0, 0.0, '[0]'),\n",
       " (0.0, 0.0, '[0]'),\n",
       " (0.0, 0.0, '[0]'),\n",
       " (0.0, 0.0, '[0]'),\n",
       " (0.0, 0.0, '[0]'),\n",
       " (0.0, 0.0, '[0]'),\n",
       " (0.0, 0.0, '[0]'),\n",
       " (0.0, 0.0, '[0]'),\n",
       " (0.0, 0.0, '[0]'),\n",
       " (0.0, 0.0, '[0]'),\n",
       " (0.0, 0.0, '[0]'),\n",
       " (0.0, 0.0, '[0]'),\n",
       " (0.0, 0.0, '[0]'),\n",
       " (0.0, 0.0, '[0]'),\n",
       " (0.0, 0.0, '[0]'),\n",
       " (0.0, 0.0, '[0]'),\n",
       " (0.0, 0.0, '[0]'),\n",
       " (0.0, 0.0, '[0]'),\n",
       " (0.0, 0.0, '[0]'),\n",
       " (0.0, 0.0, '[0]'),\n",
       " (0.0, 0.0, '[0]'),\n",
       " (0.0, 0.0, '[0]'),\n",
       " (0.0, 0.0, '[0]'),\n",
       " (0.0, 0.0, '[0]'),\n",
       " (0.0, 0.0, '[0]'),\n",
       " (0.0, 0.0, '[0]'),\n",
       " (0.0, 0.0, '[0]'),\n",
       " (0.0, 0.0, '[0]'),\n",
       " (0.0, 0.0, '[0]'),\n",
       " (0.0, 0.0, '[0]'),\n",
       " (0.0, 0.0, '[0]'),\n",
       " (0.0, 0.0, '[0]'),\n",
       " (0.0, 0.0, '[0]'),\n",
       " (0.0, 0.0, '[0]'),\n",
       " (0.0, 0.0, '[0]'),\n",
       " (0.0, 0.0, '[0]'),\n",
       " (0.0, 0.0, '[0]'),\n",
       " (0.0, 0.0, '[0]'),\n",
       " (0.0, 0.0, '[0]'),\n",
       " (0.0, 0.0, '[0]'),\n",
       " (0.0, 0.0, '[0]'),\n",
       " (0.0, 0.0, '[0]'),\n",
       " (0.0, 0.0, '[0]'),\n",
       " (0.0, 0.0, '[0]'),\n",
       " (0.0, 0.0, '[0]'),\n",
       " (0.76094759, 2.3803306, '[0]'),\n",
       " (10.306384, 3.5113494, u'golden'),\n",
       " (0.1120265, 3.3014874, u'color'),\n",
       " (1.3285072, 0.29501057, u','),\n",
       " (0.75676119, 0.18088239, u'no'),\n",
       " (2.3635869, 5.0982399, u'bubbles'),\n",
       " (0.39551336, 0.093957469, u'.'),\n",
       " (3.3030095, 2.1001368, u'white'),\n",
       " (0.76242846, 0.62601012, u'and'),\n",
       " (4.3534102, 0.66012996, 'unk'),\n",
       " (7.4810896, 4.5149779, u'head'),\n",
       " (1.8490148, 1.0052936, u'.'),\n",
       " (0.41096753, 0.68342608, u'it'),\n",
       " (0.0, 0.30621353, u'falls'),\n",
       " (0.0, 0.51284873, u'down'),\n",
       " (5.1248837, 4.4201679, u'quickly'),\n",
       " (0.53551608, 1.487186, u'.'),\n",
       " (0.47954485, 1.3870823, u'in'),\n",
       " (0.1997889, 6.2896552, u'the'),\n",
       " (0.84690434, 5.8714442, u'smell'),\n",
       " (0.0, 0.25537795, u','),\n",
       " (0.13839743, 0.011852434, u'a'),\n",
       " (1.1225952, 0.95863783, u'big'),\n",
       " (4.2061667, 5.9306836, u'sweet'),\n",
       " (0.0, 0.37408829, u','),\n",
       " (3.9959359, 4.1887636, u'warm'),\n",
       " (5.3326941, 8.9890842, u'fruitiness'),\n",
       " (1.2729616, 0.41087398, u','),\n",
       " (2.188107, 1.2961925, u'sugary'),\n",
       " (0.0, 0.3352291, u','),\n",
       " (1.1533132, 0.17833662, 'unk'),\n",
       " (0.35956067, 4.7232757, u'.'),\n",
       " (0.47488478, 2.4680448, u'candy'),\n",
       " (0.0, 0.1846776, u'sugar'),\n",
       " (0.0, 0.57632679, u','),\n",
       " (3.1081743, 2.756748, u'pear'),\n",
       " (0.13559934, 0.26150933, u'.'),\n",
       " (2.4177442, 5.5417829, u'not'),\n",
       " (2.8771353, 2.8655736, u'balanced'),\n",
       " (0.0, 0.3286227, u','),\n",
       " (0.98838079, 0.24715298, u'too'),\n",
       " (3.3158674, 5.357935, u'sweet'),\n",
       " (0.72698796, 0.17168489, u'.'),\n",
       " (1.5084984, 1.5113081, u'the'),\n",
       " (0.14437592, 1.4520875, u'taste'),\n",
       " (0.90650499, 0.28414202, u'is'),\n",
       " (1.4836646, 2.937144, u'too'),\n",
       " (1.4617584, 0.84397, u'sweet'),\n",
       " (1.0450466, 1.8487848, u'too'),\n",
       " (0.0, 0.65399677, u','),\n",
       " (3.3366747, 0.032826521, u'and'),\n",
       " (5.0797315, 2.7413225, u'boring'),\n",
       " (1.1336963, 6.0524707, u','),\n",
       " (0.75520551, 0.11231571, u'with'),\n",
       " (0.542265, 0.62604493, u'an'),\n",
       " (1.9346862, 7.6062536, 'unk'),\n",
       " (4.3818059, 0.45395017, u'fruitiness'),\n",
       " (2.9625287, 1.7718158, u'('),\n",
       " (1.0942364, 3.3029051, u'pear'),\n",
       " (0.0, 0.36145416, u','),\n",
       " (0.64288294, 0.055098154, 'unk'),\n",
       " (0.0, 0.35771555, u','),\n",
       " (0.0, 0.12142862, u'ripe'),\n",
       " (0.6206845, 0.93553126, u'peach'),\n",
       " (0.42404965, 0.29427406, u')'),\n",
       " (0.08671841, 0.9485743, u'.'),\n",
       " (0.39432925, 0.084252797, u'hop'),\n",
       " (0.12078674, 0.52004009, u'?'),\n",
       " (2.1473641, 0.23518921, u'where'),\n",
       " (3.3520424, 1.353577, u'?'),\n",
       " (0.21282339, 0.62871027, u'no'),\n",
       " (0.0, 0.23035647, u'.'),\n",
       " (1.0332831, 0.43903664, u'too'),\n",
       " (3.3158674, 5.357935, u'sweet'),\n",
       " (0.092381664, 0.2236743, u'.'),\n",
       " (1.3101187, 4.7496624, u'not'),\n",
       " (2.4972582, 3.2759106, u'undrinkable'),\n",
       " (0.39486876, 0.63832754, u','),\n",
       " (5.7968135, 0.019127835, u'but'),\n",
       " (3.0318818, 1.2836974, u'why'),\n",
       " (2.0014298, 1.6366891, u'one'),\n",
       " (2.8921914, 1.5152638, u'would'),\n",
       " (1.7980222, 0.83957982, u'to'),\n",
       " (0.073702276, 1.0027044, u'drink'),\n",
       " (1.1096357, 1.4191552, u'it'),\n",
       " (0.92332131, 2.7838769, u'?')]"
      ]
     },
     "execution_count": 16,
     "metadata": {},
     "output_type": "execute_result"
    }
   ],
   "source": [
    "gate0 = filters_pico['0'][20, :, :].sum(axis=-1)#/len(X[sample])\n",
    "gate1 = filters_pico['1'][20, :, :].sum(axis=-1)#/len(X[sample])\n",
    "gate = normalize([gate0, gate1])\n",
    "zip(gate0, gate1, X_words[20])"
   ]
  },
  {
   "cell_type": "code",
   "execution_count": 12,
   "metadata": {
    "collapsed": true
   },
   "outputs": [],
   "source": [
    "import pandas as pd\n",
    "ds = pd.read_csv('../../beer_data/beer_ds.csv')\n"
   ]
  },
  {
   "cell_type": "code",
   "execution_count": 6,
   "metadata": {
    "collapsed": true
   },
   "outputs": [],
   "source": [
    "aspect_columns = sorted(['review/appearance', 'review/taste', 'review/aroma', 'review/palate'])\n",
    "idxs = ds.index\n",
    "sample_length = 10000\n",
    "idxs = np.random.choice(idxs, sample_length, replace=False)\n",
    "H = {}\n",
    "for i in range(4) :\n",
    "    H[str(i)] = np.zeros((len(idxs), len(idxs)))\n",
    "    a0 = set(ds[ds[aspect_columns[i]] == 0].index) & set(idxs)\n",
    "    a1 = set(ds[ds[aspect_columns[i]] == 1].index) & set(idxs)\n",
    "    a0 = map(lambda s : list(idxs).index(s), a0)\n",
    "    a1 = map(lambda s : list(idxs).index(s), a1)\n",
    "    for j in a0 :\n",
    "        H[str(i)][j, a0] = 1\n",
    "    for j in a1 :\n",
    "        H[str(i)][j, a1] = 1\n",
    "\n",
    "    H[str(i)][np.arange(len(idxs)), np.arange(len(idxs))] = 0"
   ]
  },
  {
   "cell_type": "code",
   "execution_count": 13,
   "metadata": {},
   "outputs": [
    {
     "name": "stdout",
     "output_type": "stream",
     "text": [
      "0.868109145028\n"
     ]
    }
   ],
   "source": [
    "from sklearn.metrics import roc_auc_score\n",
    "aucs = [0] * sample_length\n",
    "for i in range(sample_length) :\n",
    "    aucs[i] = roc_auc_score(H['1'][i], H['0'][i])\n",
    "print np.mean(aucs)"
   ]
  },
  {
   "cell_type": "code",
   "execution_count": null,
   "metadata": {
    "collapsed": true
   },
   "outputs": [],
   "source": []
  }
 ],
 "metadata": {
  "kernelspec": {
   "display_name": "Python 2",
   "language": "python",
   "name": "python2"
  },
  "language_info": {
   "codemirror_mode": {
    "name": "ipython",
    "version": 2
   },
   "file_extension": ".py",
   "mimetype": "text/x-python",
   "name": "python",
   "nbconvert_exporter": "python",
   "pygments_lexer": "ipython2",
   "version": "2.7.14"
  }
 },
 "nbformat": 4,
 "nbformat_minor": 2
}
